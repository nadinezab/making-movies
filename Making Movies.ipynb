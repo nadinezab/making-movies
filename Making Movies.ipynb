{
 "cells": [
  {
   "cell_type": "markdown",
   "metadata": {
    "toc": true
   },
   "source": [
    "<h1>Table of Contents<span class=\"tocSkip\"></span></h1>\n",
    "<div class=\"toc\"><ul class=\"toc-item\"><li><span><a href=\"#Introduction\" data-toc-modified-id=\"Introduction-1\"><span class=\"toc-item-num\">1&nbsp;&nbsp;</span>Introduction</a></span><ul class=\"toc-item\"><li><span><a href=\"#Problem-Statement\" data-toc-modified-id=\"Problem-Statement-1.1\"><span class=\"toc-item-num\">1.1&nbsp;&nbsp;</span>Problem Statement</a></span></li><li><span><a href=\"#Data-Sources\" data-toc-modified-id=\"Data-Sources-1.2\"><span class=\"toc-item-num\">1.2&nbsp;&nbsp;</span>Data Sources</a></span></li><li><span><a href=\"#Methodology\" data-toc-modified-id=\"Methodology-1.3\"><span class=\"toc-item-num\">1.3&nbsp;&nbsp;</span>Methodology</a></span></li></ul></li><li><span><a href=\"#Data-Preparation\" data-toc-modified-id=\"Data-Preparation-2\"><span class=\"toc-item-num\">2&nbsp;&nbsp;</span>Data Preparation</a></span><ul class=\"toc-item\"><li><span><a href=\"#Data-provided\" data-toc-modified-id=\"Data-provided-2.1\"><span class=\"toc-item-num\">2.1&nbsp;&nbsp;</span>Data provided</a></span><ul class=\"toc-item\"><li><span><a href=\"#Data-reading\" data-toc-modified-id=\"Data-reading-2.1.1\"><span class=\"toc-item-num\">2.1.1&nbsp;&nbsp;</span>Data reading</a></span></li><li><span><a href=\"#Data-cleaning:-tn_movie_budgets\" data-toc-modified-id=\"Data-cleaning:-tn_movie_budgets-2.1.2\"><span class=\"toc-item-num\">2.1.2&nbsp;&nbsp;</span>Data cleaning: tn_movie_budgets</a></span></li><li><span><a href=\"#Data-cleaning:-imdb_title_basics\" data-toc-modified-id=\"Data-cleaning:-imdb_title_basics-2.1.3\"><span class=\"toc-item-num\">2.1.3&nbsp;&nbsp;</span>Data cleaning: imdb_title_basics</a></span></li><li><span><a href=\"#Join-the-two-dataframes\" data-toc-modified-id=\"Join-the-two-dataframes-2.1.4\"><span class=\"toc-item-num\">2.1.4&nbsp;&nbsp;</span>Join the two dataframes</a></span></li></ul></li><li><span><a href=\"#Netflix-data\" data-toc-modified-id=\"Netflix-data-2.2\"><span class=\"toc-item-num\">2.2&nbsp;&nbsp;</span>Netflix data</a></span><ul class=\"toc-item\"><li><span><a href=\"#Web-scraping\" data-toc-modified-id=\"Web-scraping-2.2.1\"><span class=\"toc-item-num\">2.2.1&nbsp;&nbsp;</span>Web scraping</a></span></li><li><span><a href=\"#Data-cleaning\" data-toc-modified-id=\"Data-cleaning-2.2.2\"><span class=\"toc-item-num\">2.2.2&nbsp;&nbsp;</span>Data cleaning</a></span></li></ul></li><li><span><a href=\"#Franchises-data\" data-toc-modified-id=\"Franchises-data-2.3\"><span class=\"toc-item-num\">2.3&nbsp;&nbsp;</span>Franchises data</a></span><ul class=\"toc-item\"><li><span><a href=\"#Web-scraping\" data-toc-modified-id=\"Web-scraping-2.3.1\"><span class=\"toc-item-num\">2.3.1&nbsp;&nbsp;</span>Web scraping</a></span></li><li><span><a href=\"#Data-cleaning\" data-toc-modified-id=\"Data-cleaning-2.3.2\"><span class=\"toc-item-num\">2.3.2&nbsp;&nbsp;</span>Data cleaning</a></span></li></ul></li><li><span><a href=\"#Video-Game-Movies-data\" data-toc-modified-id=\"Video-Game-Movies-data-2.4\"><span class=\"toc-item-num\">2.4&nbsp;&nbsp;</span>Video Game Movies data</a></span></li></ul></li><li><span><a href=\"#Visualisations-and-Insights\" data-toc-modified-id=\"Visualisations-and-Insights-3\"><span class=\"toc-item-num\">3&nbsp;&nbsp;</span>Visualisations and Insights</a></span><ul class=\"toc-item\"><li><span><a href=\"#Number-of-movies-released\" data-toc-modified-id=\"Number-of-movies-released-3.1\"><span class=\"toc-item-num\">3.1&nbsp;&nbsp;</span>Number of movies released</a></span></li><li><span><a href=\"#Profit-and-Profit-Margin\" data-toc-modified-id=\"Profit-and-Profit-Margin-3.2\"><span class=\"toc-item-num\">3.2&nbsp;&nbsp;</span>Profit and Profit Margin</a></span></li><li><span><a href=\"#Impact-of-Budget\" data-toc-modified-id=\"Impact-of-Budget-3.3\"><span class=\"toc-item-num\">3.3&nbsp;&nbsp;</span>Impact of Budget</a></span></li><li><span><a href=\"#Runtime\" data-toc-modified-id=\"Runtime-3.4\"><span class=\"toc-item-num\">3.4&nbsp;&nbsp;</span>Runtime</a></span></li><li><span><a href=\"#Genre\" data-toc-modified-id=\"Genre-3.5\"><span class=\"toc-item-num\">3.5&nbsp;&nbsp;</span>Genre</a></span><ul class=\"toc-item\"><li><span><a href=\"#Future-movies\" data-toc-modified-id=\"Future-movies-3.5.1\"><span class=\"toc-item-num\">3.5.1&nbsp;&nbsp;</span>Future movies</a></span></li></ul></li><li><span><a href=\"#Release-date\" data-toc-modified-id=\"Release-date-3.6\"><span class=\"toc-item-num\">3.6&nbsp;&nbsp;</span>Release date</a></span><ul class=\"toc-item\"><li><span><a href=\"#Release-month\" data-toc-modified-id=\"Release-month-3.6.1\"><span class=\"toc-item-num\">3.6.1&nbsp;&nbsp;</span>Release month</a></span></li><li><span><a href=\"#Release-day\" data-toc-modified-id=\"Release-day-3.6.2\"><span class=\"toc-item-num\">3.6.2&nbsp;&nbsp;</span>Release day</a></span></li></ul></li><li><span><a href=\"#Correlations\" data-toc-modified-id=\"Correlations-3.7\"><span class=\"toc-item-num\">3.7&nbsp;&nbsp;</span>Correlations</a></span></li><li><span><a href=\"#Case-study:-Netflix-Original-Films\" data-toc-modified-id=\"Case-study:-Netflix-Original-Films-3.8\"><span class=\"toc-item-num\">3.8&nbsp;&nbsp;</span>Case study: Netflix Original Films</a></span></li></ul></li><li><span><a href=\"#Conclusion-and-Future-Work\" data-toc-modified-id=\"Conclusion-and-Future-Work-4\"><span class=\"toc-item-num\">4&nbsp;&nbsp;</span>Conclusion and Future Work</a></span></li></ul></div>"
   ]
  },
  {
   "cell_type": "markdown",
   "metadata": {},
   "source": [
    "<b>Final Project Submission</b>\n",
    "\n",
    "Please fill out:\n",
    "* Student name: Nadine Amersi-Belton\n",
    "* Student pace: part time\n",
    "* Scheduled project review date/time: TBC\n",
    "* Instructor name: TBC\n",
    "* Blog post URL: TBC\n"
   ]
  },
  {
   "cell_type": "markdown",
   "metadata": {},
   "source": [
    "# Introduction"
   ]
  },
  {
   "cell_type": "markdown",
   "metadata": {},
   "source": [
    "## Problem Statement"
   ]
  },
  {
   "cell_type": "markdown",
   "metadata": {},
   "source": [
    "In January 2020, Microsoft Inc. (\"the company\") decides to enter the movie industry and creates a movie studio. The company approaches consultancy XYZ to provide data-driven insights into the industry and determine what makes a successful movie."
   ]
  },
  {
   "cell_type": "markdown",
   "metadata": {},
   "source": [
    "<b> Questions we seek to answer: </b>\n",
    "- How profitable are movies? \n",
    "- What budget should be allocated? \n",
    "- What movie genres are currently performing best? \n",
    "- How long should the movie be? \n",
    "- When should the movie be released? "
   ]
  },
  {
   "cell_type": "markdown",
   "metadata": {},
   "source": [
    "## Data Sources"
   ]
  },
  {
   "cell_type": "markdown",
   "metadata": {},
   "source": [
    "Data has been provided and can be found in **link**.\n",
    "\n",
    "The data comes from:\n",
    "- Box Office Mojo\n",
    "- IMDB\n",
    "- Rotten Tomatoes\n",
    "- TheMovieDB.org\n",
    "- The-numbers\n",
    "\n",
    "In addition, we will scrap data from Wikipedia pertaining to franchises and Netflix original films."
   ]
  },
  {
   "cell_type": "markdown",
   "metadata": {},
   "source": [
    "## Methodology"
   ]
  },
  {
   "cell_type": "markdown",
   "metadata": {},
   "source": [
    "The process can be divided into two parts.\n",
    "\n",
    "Section 2 focuses on data preparation. \n",
    "<br> The steps include: \n",
    "- Importing libraries\n",
    "- Reading and cleaning provided data\n",
    "- Dealing with missing values\n",
    "- Scraping additional data and cleaning it\n",
    "- Joining datasets\n",
    "\n",
    "Section 3 focuses on visualisations and insights. \n",
    "<br> For each characteristic we will be:\n",
    "- Conducting feature engineering where applicable\n",
    "- Creating visualisations\n",
    "- Drawing conclusions\n",
    "\n",
    "Finally section 4 sets out a summary of our findings and suggested future work."
   ]
  },
  {
   "cell_type": "markdown",
   "metadata": {},
   "source": [
    "# Data Preparation"
   ]
  },
  {
   "cell_type": "code",
   "execution_count": 1,
   "metadata": {},
   "outputs": [],
   "source": [
    "# Import the necessary packages.\n",
    "\n",
    "import pandas as pd\n",
    "import numpy as np\n",
    "import matplotlib.pyplot as plt\n",
    "import seaborn as sns\n",
    "import sqlite3\n",
    "from glob import glob\n",
    "from bs4 import BeautifulSoup\n",
    "import requests\n",
    "\n",
    "%matplotlib inline"
   ]
  },
  {
   "cell_type": "markdown",
   "metadata": {},
   "source": [
    "## Data provided"
   ]
  },
  {
   "cell_type": "markdown",
   "metadata": {},
   "source": [
    "### Data reading"
   ]
  },
  {
   "cell_type": "markdown",
   "metadata": {},
   "source": [
    "The data provided is in the zippedData folder. There are a number of .csv and .tsv files. To easily read them all together we make use of glob."
   ]
  },
  {
   "cell_type": "code",
   "execution_count": 2,
   "metadata": {},
   "outputs": [
    {
     "data": {
      "text/plain": [
       "['./zippedData/imdb.title.crew.csv.gz',\n",
       " './zippedData/tmdb.movies.csv.gz',\n",
       " './zippedData/imdb.title.akas.csv.gz',\n",
       " './zippedData/imdb.title.ratings.csv.gz',\n",
       " './zippedData/imdb.name.basics.csv.gz',\n",
       " './zippedData/imdb.title.basics.csv.gz',\n",
       " './zippedData/tn.movie_budgets.csv.gz',\n",
       " './zippedData/bom.movie_gross.csv.gz',\n",
       " './zippedData/imdb.title.principals.csv.gz']"
      ]
     },
     "execution_count": 2,
     "metadata": {},
     "output_type": "execute_result"
    }
   ],
   "source": [
    "# Create a list of all csv files using glob\n",
    "csv_files = glob(\"./zippedData/*.csv.gz\")\n",
    "csv_files"
   ]
  },
  {
   "cell_type": "markdown",
   "metadata": {},
   "source": [
    "We will create a dictionary of DataFrames with key the name of the file and value a Pandas Dataframe. This will allow us to then preview all the data by iterrating over the dictionary."
   ]
  },
  {
   "cell_type": "code",
   "execution_count": 3,
   "metadata": {},
   "outputs": [],
   "source": [
    "# Create a dictionary of DataFrames\n",
    "csv_dict = {}\n",
    "for file in csv_files:\n",
    "    filename = file.split('zippedData/')[-1].replace(\".csv.gz\", \"\").replace(\".\", \"_\") # Clean filename\n",
    "    file_df = pd.read_csv(file) # Create DataFrame\n",
    "    csv_dict[filename] = file_df # Insert DataFrame into dictionary"
   ]
  },
  {
   "cell_type": "code",
   "execution_count": 4,
   "metadata": {
    "scrolled": false
   },
   "outputs": [
    {
     "name": "stdout",
     "output_type": "stream",
     "text": [
      "imdb_title_crew\n"
     ]
    },
    {
     "data": {
      "text/html": [
       "<div>\n",
       "<style scoped>\n",
       "    .dataframe tbody tr th:only-of-type {\n",
       "        vertical-align: middle;\n",
       "    }\n",
       "\n",
       "    .dataframe tbody tr th {\n",
       "        vertical-align: top;\n",
       "    }\n",
       "\n",
       "    .dataframe thead th {\n",
       "        text-align: right;\n",
       "    }\n",
       "</style>\n",
       "<table border=\"1\" class=\"dataframe\">\n",
       "  <thead>\n",
       "    <tr style=\"text-align: right;\">\n",
       "      <th></th>\n",
       "      <th>tconst</th>\n",
       "      <th>directors</th>\n",
       "      <th>writers</th>\n",
       "    </tr>\n",
       "  </thead>\n",
       "  <tbody>\n",
       "    <tr>\n",
       "      <td>0</td>\n",
       "      <td>tt0285252</td>\n",
       "      <td>nm0899854</td>\n",
       "      <td>nm0899854</td>\n",
       "    </tr>\n",
       "    <tr>\n",
       "      <td>1</td>\n",
       "      <td>tt0438973</td>\n",
       "      <td>NaN</td>\n",
       "      <td>nm0175726,nm1802864</td>\n",
       "    </tr>\n",
       "    <tr>\n",
       "      <td>2</td>\n",
       "      <td>tt0462036</td>\n",
       "      <td>nm1940585</td>\n",
       "      <td>nm1940585</td>\n",
       "    </tr>\n",
       "    <tr>\n",
       "      <td>3</td>\n",
       "      <td>tt0835418</td>\n",
       "      <td>nm0151540</td>\n",
       "      <td>nm0310087,nm0841532</td>\n",
       "    </tr>\n",
       "    <tr>\n",
       "      <td>4</td>\n",
       "      <td>tt0878654</td>\n",
       "      <td>nm0089502,nm2291498,nm2292011</td>\n",
       "      <td>nm0284943</td>\n",
       "    </tr>\n",
       "  </tbody>\n",
       "</table>\n",
       "</div>"
      ],
      "text/plain": [
       "      tconst                      directors              writers\n",
       "0  tt0285252                      nm0899854            nm0899854\n",
       "1  tt0438973                            NaN  nm0175726,nm1802864\n",
       "2  tt0462036                      nm1940585            nm1940585\n",
       "3  tt0835418                      nm0151540  nm0310087,nm0841532\n",
       "4  tt0878654  nm0089502,nm2291498,nm2292011            nm0284943"
      ]
     },
     "metadata": {},
     "output_type": "display_data"
    },
    {
     "name": "stdout",
     "output_type": "stream",
     "text": [
      "------------------ \n",
      "\n",
      "tmdb_movies\n"
     ]
    },
    {
     "data": {
      "text/html": [
       "<div>\n",
       "<style scoped>\n",
       "    .dataframe tbody tr th:only-of-type {\n",
       "        vertical-align: middle;\n",
       "    }\n",
       "\n",
       "    .dataframe tbody tr th {\n",
       "        vertical-align: top;\n",
       "    }\n",
       "\n",
       "    .dataframe thead th {\n",
       "        text-align: right;\n",
       "    }\n",
       "</style>\n",
       "<table border=\"1\" class=\"dataframe\">\n",
       "  <thead>\n",
       "    <tr style=\"text-align: right;\">\n",
       "      <th></th>\n",
       "      <th>Unnamed: 0</th>\n",
       "      <th>genre_ids</th>\n",
       "      <th>id</th>\n",
       "      <th>original_language</th>\n",
       "      <th>original_title</th>\n",
       "      <th>popularity</th>\n",
       "      <th>release_date</th>\n",
       "      <th>title</th>\n",
       "      <th>vote_average</th>\n",
       "      <th>vote_count</th>\n",
       "    </tr>\n",
       "  </thead>\n",
       "  <tbody>\n",
       "    <tr>\n",
       "      <td>0</td>\n",
       "      <td>0</td>\n",
       "      <td>[12, 14, 10751]</td>\n",
       "      <td>12444</td>\n",
       "      <td>en</td>\n",
       "      <td>Harry Potter and the Deathly Hallows: Part 1</td>\n",
       "      <td>33.533</td>\n",
       "      <td>2010-11-19</td>\n",
       "      <td>Harry Potter and the Deathly Hallows: Part 1</td>\n",
       "      <td>7.7</td>\n",
       "      <td>10788</td>\n",
       "    </tr>\n",
       "    <tr>\n",
       "      <td>1</td>\n",
       "      <td>1</td>\n",
       "      <td>[14, 12, 16, 10751]</td>\n",
       "      <td>10191</td>\n",
       "      <td>en</td>\n",
       "      <td>How to Train Your Dragon</td>\n",
       "      <td>28.734</td>\n",
       "      <td>2010-03-26</td>\n",
       "      <td>How to Train Your Dragon</td>\n",
       "      <td>7.7</td>\n",
       "      <td>7610</td>\n",
       "    </tr>\n",
       "    <tr>\n",
       "      <td>2</td>\n",
       "      <td>2</td>\n",
       "      <td>[12, 28, 878]</td>\n",
       "      <td>10138</td>\n",
       "      <td>en</td>\n",
       "      <td>Iron Man 2</td>\n",
       "      <td>28.515</td>\n",
       "      <td>2010-05-07</td>\n",
       "      <td>Iron Man 2</td>\n",
       "      <td>6.8</td>\n",
       "      <td>12368</td>\n",
       "    </tr>\n",
       "    <tr>\n",
       "      <td>3</td>\n",
       "      <td>3</td>\n",
       "      <td>[16, 35, 10751]</td>\n",
       "      <td>862</td>\n",
       "      <td>en</td>\n",
       "      <td>Toy Story</td>\n",
       "      <td>28.005</td>\n",
       "      <td>1995-11-22</td>\n",
       "      <td>Toy Story</td>\n",
       "      <td>7.9</td>\n",
       "      <td>10174</td>\n",
       "    </tr>\n",
       "    <tr>\n",
       "      <td>4</td>\n",
       "      <td>4</td>\n",
       "      <td>[28, 878, 12]</td>\n",
       "      <td>27205</td>\n",
       "      <td>en</td>\n",
       "      <td>Inception</td>\n",
       "      <td>27.920</td>\n",
       "      <td>2010-07-16</td>\n",
       "      <td>Inception</td>\n",
       "      <td>8.3</td>\n",
       "      <td>22186</td>\n",
       "    </tr>\n",
       "  </tbody>\n",
       "</table>\n",
       "</div>"
      ],
      "text/plain": [
       "   Unnamed: 0            genre_ids     id original_language  \\\n",
       "0           0      [12, 14, 10751]  12444                en   \n",
       "1           1  [14, 12, 16, 10751]  10191                en   \n",
       "2           2        [12, 28, 878]  10138                en   \n",
       "3           3      [16, 35, 10751]    862                en   \n",
       "4           4        [28, 878, 12]  27205                en   \n",
       "\n",
       "                                 original_title  popularity release_date  \\\n",
       "0  Harry Potter and the Deathly Hallows: Part 1      33.533   2010-11-19   \n",
       "1                      How to Train Your Dragon      28.734   2010-03-26   \n",
       "2                                    Iron Man 2      28.515   2010-05-07   \n",
       "3                                     Toy Story      28.005   1995-11-22   \n",
       "4                                     Inception      27.920   2010-07-16   \n",
       "\n",
       "                                          title  vote_average  vote_count  \n",
       "0  Harry Potter and the Deathly Hallows: Part 1           7.7       10788  \n",
       "1                      How to Train Your Dragon           7.7        7610  \n",
       "2                                    Iron Man 2           6.8       12368  \n",
       "3                                     Toy Story           7.9       10174  \n",
       "4                                     Inception           8.3       22186  "
      ]
     },
     "metadata": {},
     "output_type": "display_data"
    },
    {
     "name": "stdout",
     "output_type": "stream",
     "text": [
      "------------------ \n",
      "\n",
      "imdb_title_akas\n"
     ]
    },
    {
     "data": {
      "text/html": [
       "<div>\n",
       "<style scoped>\n",
       "    .dataframe tbody tr th:only-of-type {\n",
       "        vertical-align: middle;\n",
       "    }\n",
       "\n",
       "    .dataframe tbody tr th {\n",
       "        vertical-align: top;\n",
       "    }\n",
       "\n",
       "    .dataframe thead th {\n",
       "        text-align: right;\n",
       "    }\n",
       "</style>\n",
       "<table border=\"1\" class=\"dataframe\">\n",
       "  <thead>\n",
       "    <tr style=\"text-align: right;\">\n",
       "      <th></th>\n",
       "      <th>title_id</th>\n",
       "      <th>ordering</th>\n",
       "      <th>title</th>\n",
       "      <th>region</th>\n",
       "      <th>language</th>\n",
       "      <th>types</th>\n",
       "      <th>attributes</th>\n",
       "      <th>is_original_title</th>\n",
       "    </tr>\n",
       "  </thead>\n",
       "  <tbody>\n",
       "    <tr>\n",
       "      <td>0</td>\n",
       "      <td>tt0369610</td>\n",
       "      <td>10</td>\n",
       "      <td>Джурасик свят</td>\n",
       "      <td>BG</td>\n",
       "      <td>bg</td>\n",
       "      <td>NaN</td>\n",
       "      <td>NaN</td>\n",
       "      <td>0.0</td>\n",
       "    </tr>\n",
       "    <tr>\n",
       "      <td>1</td>\n",
       "      <td>tt0369610</td>\n",
       "      <td>11</td>\n",
       "      <td>Jurashikku warudo</td>\n",
       "      <td>JP</td>\n",
       "      <td>NaN</td>\n",
       "      <td>imdbDisplay</td>\n",
       "      <td>NaN</td>\n",
       "      <td>0.0</td>\n",
       "    </tr>\n",
       "    <tr>\n",
       "      <td>2</td>\n",
       "      <td>tt0369610</td>\n",
       "      <td>12</td>\n",
       "      <td>Jurassic World: O Mundo dos Dinossauros</td>\n",
       "      <td>BR</td>\n",
       "      <td>NaN</td>\n",
       "      <td>imdbDisplay</td>\n",
       "      <td>NaN</td>\n",
       "      <td>0.0</td>\n",
       "    </tr>\n",
       "    <tr>\n",
       "      <td>3</td>\n",
       "      <td>tt0369610</td>\n",
       "      <td>13</td>\n",
       "      <td>O Mundo dos Dinossauros</td>\n",
       "      <td>BR</td>\n",
       "      <td>NaN</td>\n",
       "      <td>NaN</td>\n",
       "      <td>short title</td>\n",
       "      <td>0.0</td>\n",
       "    </tr>\n",
       "    <tr>\n",
       "      <td>4</td>\n",
       "      <td>tt0369610</td>\n",
       "      <td>14</td>\n",
       "      <td>Jurassic World</td>\n",
       "      <td>FR</td>\n",
       "      <td>NaN</td>\n",
       "      <td>imdbDisplay</td>\n",
       "      <td>NaN</td>\n",
       "      <td>0.0</td>\n",
       "    </tr>\n",
       "  </tbody>\n",
       "</table>\n",
       "</div>"
      ],
      "text/plain": [
       "    title_id  ordering                                    title region  \\\n",
       "0  tt0369610        10                            Джурасик свят     BG   \n",
       "1  tt0369610        11                        Jurashikku warudo     JP   \n",
       "2  tt0369610        12  Jurassic World: O Mundo dos Dinossauros     BR   \n",
       "3  tt0369610        13                  O Mundo dos Dinossauros     BR   \n",
       "4  tt0369610        14                           Jurassic World     FR   \n",
       "\n",
       "  language        types   attributes  is_original_title  \n",
       "0       bg          NaN          NaN                0.0  \n",
       "1      NaN  imdbDisplay          NaN                0.0  \n",
       "2      NaN  imdbDisplay          NaN                0.0  \n",
       "3      NaN          NaN  short title                0.0  \n",
       "4      NaN  imdbDisplay          NaN                0.0  "
      ]
     },
     "metadata": {},
     "output_type": "display_data"
    },
    {
     "name": "stdout",
     "output_type": "stream",
     "text": [
      "------------------ \n",
      "\n",
      "imdb_title_ratings\n"
     ]
    },
    {
     "data": {
      "text/html": [
       "<div>\n",
       "<style scoped>\n",
       "    .dataframe tbody tr th:only-of-type {\n",
       "        vertical-align: middle;\n",
       "    }\n",
       "\n",
       "    .dataframe tbody tr th {\n",
       "        vertical-align: top;\n",
       "    }\n",
       "\n",
       "    .dataframe thead th {\n",
       "        text-align: right;\n",
       "    }\n",
       "</style>\n",
       "<table border=\"1\" class=\"dataframe\">\n",
       "  <thead>\n",
       "    <tr style=\"text-align: right;\">\n",
       "      <th></th>\n",
       "      <th>tconst</th>\n",
       "      <th>averagerating</th>\n",
       "      <th>numvotes</th>\n",
       "    </tr>\n",
       "  </thead>\n",
       "  <tbody>\n",
       "    <tr>\n",
       "      <td>0</td>\n",
       "      <td>tt10356526</td>\n",
       "      <td>8.3</td>\n",
       "      <td>31</td>\n",
       "    </tr>\n",
       "    <tr>\n",
       "      <td>1</td>\n",
       "      <td>tt10384606</td>\n",
       "      <td>8.9</td>\n",
       "      <td>559</td>\n",
       "    </tr>\n",
       "    <tr>\n",
       "      <td>2</td>\n",
       "      <td>tt1042974</td>\n",
       "      <td>6.4</td>\n",
       "      <td>20</td>\n",
       "    </tr>\n",
       "    <tr>\n",
       "      <td>3</td>\n",
       "      <td>tt1043726</td>\n",
       "      <td>4.2</td>\n",
       "      <td>50352</td>\n",
       "    </tr>\n",
       "    <tr>\n",
       "      <td>4</td>\n",
       "      <td>tt1060240</td>\n",
       "      <td>6.5</td>\n",
       "      <td>21</td>\n",
       "    </tr>\n",
       "  </tbody>\n",
       "</table>\n",
       "</div>"
      ],
      "text/plain": [
       "       tconst  averagerating  numvotes\n",
       "0  tt10356526            8.3        31\n",
       "1  tt10384606            8.9       559\n",
       "2   tt1042974            6.4        20\n",
       "3   tt1043726            4.2     50352\n",
       "4   tt1060240            6.5        21"
      ]
     },
     "metadata": {},
     "output_type": "display_data"
    },
    {
     "name": "stdout",
     "output_type": "stream",
     "text": [
      "------------------ \n",
      "\n",
      "imdb_name_basics\n"
     ]
    },
    {
     "data": {
      "text/html": [
       "<div>\n",
       "<style scoped>\n",
       "    .dataframe tbody tr th:only-of-type {\n",
       "        vertical-align: middle;\n",
       "    }\n",
       "\n",
       "    .dataframe tbody tr th {\n",
       "        vertical-align: top;\n",
       "    }\n",
       "\n",
       "    .dataframe thead th {\n",
       "        text-align: right;\n",
       "    }\n",
       "</style>\n",
       "<table border=\"1\" class=\"dataframe\">\n",
       "  <thead>\n",
       "    <tr style=\"text-align: right;\">\n",
       "      <th></th>\n",
       "      <th>nconst</th>\n",
       "      <th>primary_name</th>\n",
       "      <th>birth_year</th>\n",
       "      <th>death_year</th>\n",
       "      <th>primary_profession</th>\n",
       "      <th>known_for_titles</th>\n",
       "    </tr>\n",
       "  </thead>\n",
       "  <tbody>\n",
       "    <tr>\n",
       "      <td>0</td>\n",
       "      <td>nm0061671</td>\n",
       "      <td>Mary Ellen Bauder</td>\n",
       "      <td>NaN</td>\n",
       "      <td>NaN</td>\n",
       "      <td>miscellaneous,production_manager,producer</td>\n",
       "      <td>tt0837562,tt2398241,tt0844471,tt0118553</td>\n",
       "    </tr>\n",
       "    <tr>\n",
       "      <td>1</td>\n",
       "      <td>nm0061865</td>\n",
       "      <td>Joseph Bauer</td>\n",
       "      <td>NaN</td>\n",
       "      <td>NaN</td>\n",
       "      <td>composer,music_department,sound_department</td>\n",
       "      <td>tt0896534,tt6791238,tt0287072,tt1682940</td>\n",
       "    </tr>\n",
       "    <tr>\n",
       "      <td>2</td>\n",
       "      <td>nm0062070</td>\n",
       "      <td>Bruce Baum</td>\n",
       "      <td>NaN</td>\n",
       "      <td>NaN</td>\n",
       "      <td>miscellaneous,actor,writer</td>\n",
       "      <td>tt1470654,tt0363631,tt0104030,tt0102898</td>\n",
       "    </tr>\n",
       "    <tr>\n",
       "      <td>3</td>\n",
       "      <td>nm0062195</td>\n",
       "      <td>Axel Baumann</td>\n",
       "      <td>NaN</td>\n",
       "      <td>NaN</td>\n",
       "      <td>camera_department,cinematographer,art_department</td>\n",
       "      <td>tt0114371,tt2004304,tt1618448,tt1224387</td>\n",
       "    </tr>\n",
       "    <tr>\n",
       "      <td>4</td>\n",
       "      <td>nm0062798</td>\n",
       "      <td>Pete Baxter</td>\n",
       "      <td>NaN</td>\n",
       "      <td>NaN</td>\n",
       "      <td>production_designer,art_department,set_decorator</td>\n",
       "      <td>tt0452644,tt0452692,tt3458030,tt2178256</td>\n",
       "    </tr>\n",
       "  </tbody>\n",
       "</table>\n",
       "</div>"
      ],
      "text/plain": [
       "      nconst       primary_name  birth_year  death_year  \\\n",
       "0  nm0061671  Mary Ellen Bauder         NaN         NaN   \n",
       "1  nm0061865       Joseph Bauer         NaN         NaN   \n",
       "2  nm0062070         Bruce Baum         NaN         NaN   \n",
       "3  nm0062195       Axel Baumann         NaN         NaN   \n",
       "4  nm0062798        Pete Baxter         NaN         NaN   \n",
       "\n",
       "                                 primary_profession  \\\n",
       "0         miscellaneous,production_manager,producer   \n",
       "1        composer,music_department,sound_department   \n",
       "2                        miscellaneous,actor,writer   \n",
       "3  camera_department,cinematographer,art_department   \n",
       "4  production_designer,art_department,set_decorator   \n",
       "\n",
       "                          known_for_titles  \n",
       "0  tt0837562,tt2398241,tt0844471,tt0118553  \n",
       "1  tt0896534,tt6791238,tt0287072,tt1682940  \n",
       "2  tt1470654,tt0363631,tt0104030,tt0102898  \n",
       "3  tt0114371,tt2004304,tt1618448,tt1224387  \n",
       "4  tt0452644,tt0452692,tt3458030,tt2178256  "
      ]
     },
     "metadata": {},
     "output_type": "display_data"
    },
    {
     "name": "stdout",
     "output_type": "stream",
     "text": [
      "------------------ \n",
      "\n",
      "imdb_title_basics\n"
     ]
    },
    {
     "data": {
      "text/html": [
       "<div>\n",
       "<style scoped>\n",
       "    .dataframe tbody tr th:only-of-type {\n",
       "        vertical-align: middle;\n",
       "    }\n",
       "\n",
       "    .dataframe tbody tr th {\n",
       "        vertical-align: top;\n",
       "    }\n",
       "\n",
       "    .dataframe thead th {\n",
       "        text-align: right;\n",
       "    }\n",
       "</style>\n",
       "<table border=\"1\" class=\"dataframe\">\n",
       "  <thead>\n",
       "    <tr style=\"text-align: right;\">\n",
       "      <th></th>\n",
       "      <th>tconst</th>\n",
       "      <th>primary_title</th>\n",
       "      <th>original_title</th>\n",
       "      <th>start_year</th>\n",
       "      <th>runtime_minutes</th>\n",
       "      <th>genres</th>\n",
       "    </tr>\n",
       "  </thead>\n",
       "  <tbody>\n",
       "    <tr>\n",
       "      <td>0</td>\n",
       "      <td>tt0063540</td>\n",
       "      <td>Sunghursh</td>\n",
       "      <td>Sunghursh</td>\n",
       "      <td>2013</td>\n",
       "      <td>175.0</td>\n",
       "      <td>Action,Crime,Drama</td>\n",
       "    </tr>\n",
       "    <tr>\n",
       "      <td>1</td>\n",
       "      <td>tt0066787</td>\n",
       "      <td>One Day Before the Rainy Season</td>\n",
       "      <td>Ashad Ka Ek Din</td>\n",
       "      <td>2019</td>\n",
       "      <td>114.0</td>\n",
       "      <td>Biography,Drama</td>\n",
       "    </tr>\n",
       "    <tr>\n",
       "      <td>2</td>\n",
       "      <td>tt0069049</td>\n",
       "      <td>The Other Side of the Wind</td>\n",
       "      <td>The Other Side of the Wind</td>\n",
       "      <td>2018</td>\n",
       "      <td>122.0</td>\n",
       "      <td>Drama</td>\n",
       "    </tr>\n",
       "    <tr>\n",
       "      <td>3</td>\n",
       "      <td>tt0069204</td>\n",
       "      <td>Sabse Bada Sukh</td>\n",
       "      <td>Sabse Bada Sukh</td>\n",
       "      <td>2018</td>\n",
       "      <td>NaN</td>\n",
       "      <td>Comedy,Drama</td>\n",
       "    </tr>\n",
       "    <tr>\n",
       "      <td>4</td>\n",
       "      <td>tt0100275</td>\n",
       "      <td>The Wandering Soap Opera</td>\n",
       "      <td>La Telenovela Errante</td>\n",
       "      <td>2017</td>\n",
       "      <td>80.0</td>\n",
       "      <td>Comedy,Drama,Fantasy</td>\n",
       "    </tr>\n",
       "  </tbody>\n",
       "</table>\n",
       "</div>"
      ],
      "text/plain": [
       "      tconst                    primary_title              original_title  \\\n",
       "0  tt0063540                        Sunghursh                   Sunghursh   \n",
       "1  tt0066787  One Day Before the Rainy Season             Ashad Ka Ek Din   \n",
       "2  tt0069049       The Other Side of the Wind  The Other Side of the Wind   \n",
       "3  tt0069204                  Sabse Bada Sukh             Sabse Bada Sukh   \n",
       "4  tt0100275         The Wandering Soap Opera       La Telenovela Errante   \n",
       "\n",
       "   start_year  runtime_minutes                genres  \n",
       "0        2013            175.0    Action,Crime,Drama  \n",
       "1        2019            114.0       Biography,Drama  \n",
       "2        2018            122.0                 Drama  \n",
       "3        2018              NaN          Comedy,Drama  \n",
       "4        2017             80.0  Comedy,Drama,Fantasy  "
      ]
     },
     "metadata": {},
     "output_type": "display_data"
    },
    {
     "name": "stdout",
     "output_type": "stream",
     "text": [
      "------------------ \n",
      "\n",
      "tn_movie_budgets\n"
     ]
    },
    {
     "data": {
      "text/html": [
       "<div>\n",
       "<style scoped>\n",
       "    .dataframe tbody tr th:only-of-type {\n",
       "        vertical-align: middle;\n",
       "    }\n",
       "\n",
       "    .dataframe tbody tr th {\n",
       "        vertical-align: top;\n",
       "    }\n",
       "\n",
       "    .dataframe thead th {\n",
       "        text-align: right;\n",
       "    }\n",
       "</style>\n",
       "<table border=\"1\" class=\"dataframe\">\n",
       "  <thead>\n",
       "    <tr style=\"text-align: right;\">\n",
       "      <th></th>\n",
       "      <th>id</th>\n",
       "      <th>release_date</th>\n",
       "      <th>movie</th>\n",
       "      <th>production_budget</th>\n",
       "      <th>domestic_gross</th>\n",
       "      <th>worldwide_gross</th>\n",
       "    </tr>\n",
       "  </thead>\n",
       "  <tbody>\n",
       "    <tr>\n",
       "      <td>0</td>\n",
       "      <td>1</td>\n",
       "      <td>Dec 18, 2009</td>\n",
       "      <td>Avatar</td>\n",
       "      <td>$425,000,000</td>\n",
       "      <td>$760,507,625</td>\n",
       "      <td>$2,776,345,279</td>\n",
       "    </tr>\n",
       "    <tr>\n",
       "      <td>1</td>\n",
       "      <td>2</td>\n",
       "      <td>May 20, 2011</td>\n",
       "      <td>Pirates of the Caribbean: On Stranger Tides</td>\n",
       "      <td>$410,600,000</td>\n",
       "      <td>$241,063,875</td>\n",
       "      <td>$1,045,663,875</td>\n",
       "    </tr>\n",
       "    <tr>\n",
       "      <td>2</td>\n",
       "      <td>3</td>\n",
       "      <td>Jun 7, 2019</td>\n",
       "      <td>Dark Phoenix</td>\n",
       "      <td>$350,000,000</td>\n",
       "      <td>$42,762,350</td>\n",
       "      <td>$149,762,350</td>\n",
       "    </tr>\n",
       "    <tr>\n",
       "      <td>3</td>\n",
       "      <td>4</td>\n",
       "      <td>May 1, 2015</td>\n",
       "      <td>Avengers: Age of Ultron</td>\n",
       "      <td>$330,600,000</td>\n",
       "      <td>$459,005,868</td>\n",
       "      <td>$1,403,013,963</td>\n",
       "    </tr>\n",
       "    <tr>\n",
       "      <td>4</td>\n",
       "      <td>5</td>\n",
       "      <td>Dec 15, 2017</td>\n",
       "      <td>Star Wars Ep. VIII: The Last Jedi</td>\n",
       "      <td>$317,000,000</td>\n",
       "      <td>$620,181,382</td>\n",
       "      <td>$1,316,721,747</td>\n",
       "    </tr>\n",
       "  </tbody>\n",
       "</table>\n",
       "</div>"
      ],
      "text/plain": [
       "   id  release_date                                        movie  \\\n",
       "0   1  Dec 18, 2009                                       Avatar   \n",
       "1   2  May 20, 2011  Pirates of the Caribbean: On Stranger Tides   \n",
       "2   3   Jun 7, 2019                                 Dark Phoenix   \n",
       "3   4   May 1, 2015                      Avengers: Age of Ultron   \n",
       "4   5  Dec 15, 2017            Star Wars Ep. VIII: The Last Jedi   \n",
       "\n",
       "  production_budget domestic_gross worldwide_gross  \n",
       "0      $425,000,000   $760,507,625  $2,776,345,279  \n",
       "1      $410,600,000   $241,063,875  $1,045,663,875  \n",
       "2      $350,000,000    $42,762,350    $149,762,350  \n",
       "3      $330,600,000   $459,005,868  $1,403,013,963  \n",
       "4      $317,000,000   $620,181,382  $1,316,721,747  "
      ]
     },
     "metadata": {},
     "output_type": "display_data"
    },
    {
     "name": "stdout",
     "output_type": "stream",
     "text": [
      "------------------ \n",
      "\n",
      "bom_movie_gross\n"
     ]
    },
    {
     "data": {
      "text/html": [
       "<div>\n",
       "<style scoped>\n",
       "    .dataframe tbody tr th:only-of-type {\n",
       "        vertical-align: middle;\n",
       "    }\n",
       "\n",
       "    .dataframe tbody tr th {\n",
       "        vertical-align: top;\n",
       "    }\n",
       "\n",
       "    .dataframe thead th {\n",
       "        text-align: right;\n",
       "    }\n",
       "</style>\n",
       "<table border=\"1\" class=\"dataframe\">\n",
       "  <thead>\n",
       "    <tr style=\"text-align: right;\">\n",
       "      <th></th>\n",
       "      <th>title</th>\n",
       "      <th>studio</th>\n",
       "      <th>domestic_gross</th>\n",
       "      <th>foreign_gross</th>\n",
       "      <th>year</th>\n",
       "    </tr>\n",
       "  </thead>\n",
       "  <tbody>\n",
       "    <tr>\n",
       "      <td>0</td>\n",
       "      <td>Toy Story 3</td>\n",
       "      <td>BV</td>\n",
       "      <td>415000000.0</td>\n",
       "      <td>652000000</td>\n",
       "      <td>2010</td>\n",
       "    </tr>\n",
       "    <tr>\n",
       "      <td>1</td>\n",
       "      <td>Alice in Wonderland (2010)</td>\n",
       "      <td>BV</td>\n",
       "      <td>334200000.0</td>\n",
       "      <td>691300000</td>\n",
       "      <td>2010</td>\n",
       "    </tr>\n",
       "    <tr>\n",
       "      <td>2</td>\n",
       "      <td>Harry Potter and the Deathly Hallows Part 1</td>\n",
       "      <td>WB</td>\n",
       "      <td>296000000.0</td>\n",
       "      <td>664300000</td>\n",
       "      <td>2010</td>\n",
       "    </tr>\n",
       "    <tr>\n",
       "      <td>3</td>\n",
       "      <td>Inception</td>\n",
       "      <td>WB</td>\n",
       "      <td>292600000.0</td>\n",
       "      <td>535700000</td>\n",
       "      <td>2010</td>\n",
       "    </tr>\n",
       "    <tr>\n",
       "      <td>4</td>\n",
       "      <td>Shrek Forever After</td>\n",
       "      <td>P/DW</td>\n",
       "      <td>238700000.0</td>\n",
       "      <td>513900000</td>\n",
       "      <td>2010</td>\n",
       "    </tr>\n",
       "  </tbody>\n",
       "</table>\n",
       "</div>"
      ],
      "text/plain": [
       "                                         title studio  domestic_gross  \\\n",
       "0                                  Toy Story 3     BV     415000000.0   \n",
       "1                   Alice in Wonderland (2010)     BV     334200000.0   \n",
       "2  Harry Potter and the Deathly Hallows Part 1     WB     296000000.0   \n",
       "3                                    Inception     WB     292600000.0   \n",
       "4                          Shrek Forever After   P/DW     238700000.0   \n",
       "\n",
       "  foreign_gross  year  \n",
       "0     652000000  2010  \n",
       "1     691300000  2010  \n",
       "2     664300000  2010  \n",
       "3     535700000  2010  \n",
       "4     513900000  2010  "
      ]
     },
     "metadata": {},
     "output_type": "display_data"
    },
    {
     "name": "stdout",
     "output_type": "stream",
     "text": [
      "------------------ \n",
      "\n",
      "imdb_title_principals\n"
     ]
    },
    {
     "data": {
      "text/html": [
       "<div>\n",
       "<style scoped>\n",
       "    .dataframe tbody tr th:only-of-type {\n",
       "        vertical-align: middle;\n",
       "    }\n",
       "\n",
       "    .dataframe tbody tr th {\n",
       "        vertical-align: top;\n",
       "    }\n",
       "\n",
       "    .dataframe thead th {\n",
       "        text-align: right;\n",
       "    }\n",
       "</style>\n",
       "<table border=\"1\" class=\"dataframe\">\n",
       "  <thead>\n",
       "    <tr style=\"text-align: right;\">\n",
       "      <th></th>\n",
       "      <th>tconst</th>\n",
       "      <th>ordering</th>\n",
       "      <th>nconst</th>\n",
       "      <th>category</th>\n",
       "      <th>job</th>\n",
       "      <th>characters</th>\n",
       "    </tr>\n",
       "  </thead>\n",
       "  <tbody>\n",
       "    <tr>\n",
       "      <td>0</td>\n",
       "      <td>tt0111414</td>\n",
       "      <td>1</td>\n",
       "      <td>nm0246005</td>\n",
       "      <td>actor</td>\n",
       "      <td>NaN</td>\n",
       "      <td>[\"The Man\"]</td>\n",
       "    </tr>\n",
       "    <tr>\n",
       "      <td>1</td>\n",
       "      <td>tt0111414</td>\n",
       "      <td>2</td>\n",
       "      <td>nm0398271</td>\n",
       "      <td>director</td>\n",
       "      <td>NaN</td>\n",
       "      <td>NaN</td>\n",
       "    </tr>\n",
       "    <tr>\n",
       "      <td>2</td>\n",
       "      <td>tt0111414</td>\n",
       "      <td>3</td>\n",
       "      <td>nm3739909</td>\n",
       "      <td>producer</td>\n",
       "      <td>producer</td>\n",
       "      <td>NaN</td>\n",
       "    </tr>\n",
       "    <tr>\n",
       "      <td>3</td>\n",
       "      <td>tt0323808</td>\n",
       "      <td>10</td>\n",
       "      <td>nm0059247</td>\n",
       "      <td>editor</td>\n",
       "      <td>NaN</td>\n",
       "      <td>NaN</td>\n",
       "    </tr>\n",
       "    <tr>\n",
       "      <td>4</td>\n",
       "      <td>tt0323808</td>\n",
       "      <td>1</td>\n",
       "      <td>nm3579312</td>\n",
       "      <td>actress</td>\n",
       "      <td>NaN</td>\n",
       "      <td>[\"Beth Boothby\"]</td>\n",
       "    </tr>\n",
       "  </tbody>\n",
       "</table>\n",
       "</div>"
      ],
      "text/plain": [
       "      tconst  ordering     nconst  category       job        characters\n",
       "0  tt0111414         1  nm0246005     actor       NaN       [\"The Man\"]\n",
       "1  tt0111414         2  nm0398271  director       NaN               NaN\n",
       "2  tt0111414         3  nm3739909  producer  producer               NaN\n",
       "3  tt0323808        10  nm0059247    editor       NaN               NaN\n",
       "4  tt0323808         1  nm3579312   actress       NaN  [\"Beth Boothby\"]"
      ]
     },
     "metadata": {},
     "output_type": "display_data"
    },
    {
     "name": "stdout",
     "output_type": "stream",
     "text": [
      "------------------ \n",
      "\n"
     ]
    }
   ],
   "source": [
    "# Preview the data\n",
    "for name, df in csv_dict.items():\n",
    "    print(name)\n",
    "    display(df.head()) # Using display instead of print leads to neater formatting in Jupyter Notebook\n",
    "    print(\"------------------ \\n\")"
   ]
  },
  {
   "cell_type": "markdown",
   "metadata": {},
   "source": [
    "We then repeat this process for the tsv files."
   ]
  },
  {
   "cell_type": "code",
   "execution_count": 5,
   "metadata": {},
   "outputs": [
    {
     "data": {
      "text/plain": [
       "['./zippedData/rt.reviews.tsv.gz', './zippedData/rt.movie_info.tsv.gz']"
      ]
     },
     "execution_count": 5,
     "metadata": {},
     "output_type": "execute_result"
    }
   ],
   "source": [
    "# Create a list of all tsv files using glob\n",
    "tsv_files = glob(\"./zippedData/*.tsv.gz\")\n",
    "tsv_files"
   ]
  },
  {
   "cell_type": "code",
   "execution_count": 6,
   "metadata": {},
   "outputs": [],
   "source": [
    "# Create a dictionary of DataFrames\n",
    "tsv_dict = {}\n",
    "for file in tsv_files:\n",
    "    filename = file.split('zippedData/')[-1].replace(\".tsv.gz\", \"\").replace(\".\", \"_\") # Clean filename\n",
    "    file_df = pd.read_table(file, delimiter = '\\t', encoding = 'latin-1') # Create DataFrame\n",
    "    tsv_dict[filename] = file_df # Insert dataframe into dictionary "
   ]
  },
  {
   "cell_type": "code",
   "execution_count": 7,
   "metadata": {
    "scrolled": true
   },
   "outputs": [
    {
     "name": "stdout",
     "output_type": "stream",
     "text": [
      "rt_reviews\n"
     ]
    },
    {
     "data": {
      "text/html": [
       "<div>\n",
       "<style scoped>\n",
       "    .dataframe tbody tr th:only-of-type {\n",
       "        vertical-align: middle;\n",
       "    }\n",
       "\n",
       "    .dataframe tbody tr th {\n",
       "        vertical-align: top;\n",
       "    }\n",
       "\n",
       "    .dataframe thead th {\n",
       "        text-align: right;\n",
       "    }\n",
       "</style>\n",
       "<table border=\"1\" class=\"dataframe\">\n",
       "  <thead>\n",
       "    <tr style=\"text-align: right;\">\n",
       "      <th></th>\n",
       "      <th>id</th>\n",
       "      <th>review</th>\n",
       "      <th>rating</th>\n",
       "      <th>fresh</th>\n",
       "      <th>critic</th>\n",
       "      <th>top_critic</th>\n",
       "      <th>publisher</th>\n",
       "      <th>date</th>\n",
       "    </tr>\n",
       "  </thead>\n",
       "  <tbody>\n",
       "    <tr>\n",
       "      <td>0</td>\n",
       "      <td>3</td>\n",
       "      <td>A distinctly gallows take on contemporary fina...</td>\n",
       "      <td>3/5</td>\n",
       "      <td>fresh</td>\n",
       "      <td>PJ Nabarro</td>\n",
       "      <td>0</td>\n",
       "      <td>Patrick Nabarro</td>\n",
       "      <td>November 10, 2018</td>\n",
       "    </tr>\n",
       "    <tr>\n",
       "      <td>1</td>\n",
       "      <td>3</td>\n",
       "      <td>It's an allegory in search of a meaning that n...</td>\n",
       "      <td>NaN</td>\n",
       "      <td>rotten</td>\n",
       "      <td>Annalee Newitz</td>\n",
       "      <td>0</td>\n",
       "      <td>io9.com</td>\n",
       "      <td>May 23, 2018</td>\n",
       "    </tr>\n",
       "    <tr>\n",
       "      <td>2</td>\n",
       "      <td>3</td>\n",
       "      <td>... life lived in a bubble in financial dealin...</td>\n",
       "      <td>NaN</td>\n",
       "      <td>fresh</td>\n",
       "      <td>Sean Axmaker</td>\n",
       "      <td>0</td>\n",
       "      <td>Stream on Demand</td>\n",
       "      <td>January 4, 2018</td>\n",
       "    </tr>\n",
       "    <tr>\n",
       "      <td>3</td>\n",
       "      <td>3</td>\n",
       "      <td>Continuing along a line introduced in last yea...</td>\n",
       "      <td>NaN</td>\n",
       "      <td>fresh</td>\n",
       "      <td>Daniel Kasman</td>\n",
       "      <td>0</td>\n",
       "      <td>MUBI</td>\n",
       "      <td>November 16, 2017</td>\n",
       "    </tr>\n",
       "    <tr>\n",
       "      <td>4</td>\n",
       "      <td>3</td>\n",
       "      <td>... a perverse twist on neorealism...</td>\n",
       "      <td>NaN</td>\n",
       "      <td>fresh</td>\n",
       "      <td>NaN</td>\n",
       "      <td>0</td>\n",
       "      <td>Cinema Scope</td>\n",
       "      <td>October 12, 2017</td>\n",
       "    </tr>\n",
       "  </tbody>\n",
       "</table>\n",
       "</div>"
      ],
      "text/plain": [
       "   id                                             review rating   fresh  \\\n",
       "0   3  A distinctly gallows take on contemporary fina...    3/5   fresh   \n",
       "1   3  It's an allegory in search of a meaning that n...    NaN  rotten   \n",
       "2   3  ... life lived in a bubble in financial dealin...    NaN   fresh   \n",
       "3   3  Continuing along a line introduced in last yea...    NaN   fresh   \n",
       "4   3             ... a perverse twist on neorealism...     NaN   fresh   \n",
       "\n",
       "           critic  top_critic         publisher               date  \n",
       "0      PJ Nabarro           0   Patrick Nabarro  November 10, 2018  \n",
       "1  Annalee Newitz           0           io9.com       May 23, 2018  \n",
       "2    Sean Axmaker           0  Stream on Demand    January 4, 2018  \n",
       "3   Daniel Kasman           0              MUBI  November 16, 2017  \n",
       "4             NaN           0      Cinema Scope   October 12, 2017  "
      ]
     },
     "metadata": {},
     "output_type": "display_data"
    },
    {
     "name": "stdout",
     "output_type": "stream",
     "text": [
      "------------------ \n",
      "\n",
      "rt_movie_info\n"
     ]
    },
    {
     "data": {
      "text/html": [
       "<div>\n",
       "<style scoped>\n",
       "    .dataframe tbody tr th:only-of-type {\n",
       "        vertical-align: middle;\n",
       "    }\n",
       "\n",
       "    .dataframe tbody tr th {\n",
       "        vertical-align: top;\n",
       "    }\n",
       "\n",
       "    .dataframe thead th {\n",
       "        text-align: right;\n",
       "    }\n",
       "</style>\n",
       "<table border=\"1\" class=\"dataframe\">\n",
       "  <thead>\n",
       "    <tr style=\"text-align: right;\">\n",
       "      <th></th>\n",
       "      <th>id</th>\n",
       "      <th>synopsis</th>\n",
       "      <th>rating</th>\n",
       "      <th>genre</th>\n",
       "      <th>director</th>\n",
       "      <th>writer</th>\n",
       "      <th>theater_date</th>\n",
       "      <th>dvd_date</th>\n",
       "      <th>currency</th>\n",
       "      <th>box_office</th>\n",
       "      <th>runtime</th>\n",
       "      <th>studio</th>\n",
       "    </tr>\n",
       "  </thead>\n",
       "  <tbody>\n",
       "    <tr>\n",
       "      <td>0</td>\n",
       "      <td>1</td>\n",
       "      <td>This gritty, fast-paced, and innovative police...</td>\n",
       "      <td>R</td>\n",
       "      <td>Action and Adventure|Classics|Drama</td>\n",
       "      <td>William Friedkin</td>\n",
       "      <td>Ernest Tidyman</td>\n",
       "      <td>Oct 9, 1971</td>\n",
       "      <td>Sep 25, 2001</td>\n",
       "      <td>NaN</td>\n",
       "      <td>NaN</td>\n",
       "      <td>104 minutes</td>\n",
       "      <td>NaN</td>\n",
       "    </tr>\n",
       "    <tr>\n",
       "      <td>1</td>\n",
       "      <td>3</td>\n",
       "      <td>New York City, not-too-distant-future: Eric Pa...</td>\n",
       "      <td>R</td>\n",
       "      <td>Drama|Science Fiction and Fantasy</td>\n",
       "      <td>David Cronenberg</td>\n",
       "      <td>David Cronenberg|Don DeLillo</td>\n",
       "      <td>Aug 17, 2012</td>\n",
       "      <td>Jan 1, 2013</td>\n",
       "      <td>$</td>\n",
       "      <td>600,000</td>\n",
       "      <td>108 minutes</td>\n",
       "      <td>Entertainment One</td>\n",
       "    </tr>\n",
       "    <tr>\n",
       "      <td>2</td>\n",
       "      <td>5</td>\n",
       "      <td>Illeana Douglas delivers a superb performance ...</td>\n",
       "      <td>R</td>\n",
       "      <td>Drama|Musical and Performing Arts</td>\n",
       "      <td>Allison Anders</td>\n",
       "      <td>Allison Anders</td>\n",
       "      <td>Sep 13, 1996</td>\n",
       "      <td>Apr 18, 2000</td>\n",
       "      <td>NaN</td>\n",
       "      <td>NaN</td>\n",
       "      <td>116 minutes</td>\n",
       "      <td>NaN</td>\n",
       "    </tr>\n",
       "    <tr>\n",
       "      <td>3</td>\n",
       "      <td>6</td>\n",
       "      <td>Michael Douglas runs afoul of a treacherous su...</td>\n",
       "      <td>R</td>\n",
       "      <td>Drama|Mystery and Suspense</td>\n",
       "      <td>Barry Levinson</td>\n",
       "      <td>Paul Attanasio|Michael Crichton</td>\n",
       "      <td>Dec 9, 1994</td>\n",
       "      <td>Aug 27, 1997</td>\n",
       "      <td>NaN</td>\n",
       "      <td>NaN</td>\n",
       "      <td>128 minutes</td>\n",
       "      <td>NaN</td>\n",
       "    </tr>\n",
       "    <tr>\n",
       "      <td>4</td>\n",
       "      <td>7</td>\n",
       "      <td>NaN</td>\n",
       "      <td>NR</td>\n",
       "      <td>Drama|Romance</td>\n",
       "      <td>Rodney Bennett</td>\n",
       "      <td>Giles Cooper</td>\n",
       "      <td>NaN</td>\n",
       "      <td>NaN</td>\n",
       "      <td>NaN</td>\n",
       "      <td>NaN</td>\n",
       "      <td>200 minutes</td>\n",
       "      <td>NaN</td>\n",
       "    </tr>\n",
       "  </tbody>\n",
       "</table>\n",
       "</div>"
      ],
      "text/plain": [
       "   id                                           synopsis rating  \\\n",
       "0   1  This gritty, fast-paced, and innovative police...      R   \n",
       "1   3  New York City, not-too-distant-future: Eric Pa...      R   \n",
       "2   5  Illeana Douglas delivers a superb performance ...      R   \n",
       "3   6  Michael Douglas runs afoul of a treacherous su...      R   \n",
       "4   7                                                NaN     NR   \n",
       "\n",
       "                                 genre          director  \\\n",
       "0  Action and Adventure|Classics|Drama  William Friedkin   \n",
       "1    Drama|Science Fiction and Fantasy  David Cronenberg   \n",
       "2    Drama|Musical and Performing Arts    Allison Anders   \n",
       "3           Drama|Mystery and Suspense    Barry Levinson   \n",
       "4                        Drama|Romance    Rodney Bennett   \n",
       "\n",
       "                            writer  theater_date      dvd_date currency  \\\n",
       "0                   Ernest Tidyman   Oct 9, 1971  Sep 25, 2001      NaN   \n",
       "1     David Cronenberg|Don DeLillo  Aug 17, 2012   Jan 1, 2013        $   \n",
       "2                   Allison Anders  Sep 13, 1996  Apr 18, 2000      NaN   \n",
       "3  Paul Attanasio|Michael Crichton   Dec 9, 1994  Aug 27, 1997      NaN   \n",
       "4                     Giles Cooper           NaN           NaN      NaN   \n",
       "\n",
       "  box_office      runtime             studio  \n",
       "0        NaN  104 minutes                NaN  \n",
       "1    600,000  108 minutes  Entertainment One  \n",
       "2        NaN  116 minutes                NaN  \n",
       "3        NaN  128 minutes                NaN  \n",
       "4        NaN  200 minutes                NaN  "
      ]
     },
     "metadata": {},
     "output_type": "display_data"
    },
    {
     "name": "stdout",
     "output_type": "stream",
     "text": [
      "------------------ \n",
      "\n"
     ]
    }
   ],
   "source": [
    "# Preview the data\n",
    "for name, df in tsv_dict.items():\n",
    "    print(name)\n",
    "    display(df.head()) # Using display instead of print leads to neater formatting in Jupyter Notebook\n",
    "    print(\"------------------ \\n\")"
   ]
  },
  {
   "cell_type": "markdown",
   "metadata": {},
   "source": [
    "<b> Summary </b>"
   ]
  },
  {
   "cell_type": "markdown",
   "metadata": {},
   "source": [
    "We have a number of DataFrames and the first step is to consider which ones will best answer our questions and should be the focus of our analysis. Due to time constraints, it is unlikely that we wil be able to fully investigate all features."
   ]
  },
  {
   "cell_type": "markdown",
   "metadata": {},
   "source": [
    "The first dataframe which stands out is <b>tn_movie_budgets</b>. This table shows the production budget, domestic and worldwide gross. This financial information will be valuable in exploring the meaning of profit. It will also allow us to distinguish which films perfomed best in the box office as we will be able to focus some of our analysis on the top 100 grossing movies."
   ]
  },
  {
   "cell_type": "code",
   "execution_count": 8,
   "metadata": {},
   "outputs": [
    {
     "data": {
      "text/html": [
       "<div>\n",
       "<style scoped>\n",
       "    .dataframe tbody tr th:only-of-type {\n",
       "        vertical-align: middle;\n",
       "    }\n",
       "\n",
       "    .dataframe tbody tr th {\n",
       "        vertical-align: top;\n",
       "    }\n",
       "\n",
       "    .dataframe thead th {\n",
       "        text-align: right;\n",
       "    }\n",
       "</style>\n",
       "<table border=\"1\" class=\"dataframe\">\n",
       "  <thead>\n",
       "    <tr style=\"text-align: right;\">\n",
       "      <th></th>\n",
       "      <th>id</th>\n",
       "      <th>release_date</th>\n",
       "      <th>movie</th>\n",
       "      <th>production_budget</th>\n",
       "      <th>domestic_gross</th>\n",
       "      <th>worldwide_gross</th>\n",
       "    </tr>\n",
       "  </thead>\n",
       "  <tbody>\n",
       "    <tr>\n",
       "      <td>0</td>\n",
       "      <td>1</td>\n",
       "      <td>Dec 18, 2009</td>\n",
       "      <td>Avatar</td>\n",
       "      <td>$425,000,000</td>\n",
       "      <td>$760,507,625</td>\n",
       "      <td>$2,776,345,279</td>\n",
       "    </tr>\n",
       "    <tr>\n",
       "      <td>1</td>\n",
       "      <td>2</td>\n",
       "      <td>May 20, 2011</td>\n",
       "      <td>Pirates of the Caribbean: On Stranger Tides</td>\n",
       "      <td>$410,600,000</td>\n",
       "      <td>$241,063,875</td>\n",
       "      <td>$1,045,663,875</td>\n",
       "    </tr>\n",
       "  </tbody>\n",
       "</table>\n",
       "</div>"
      ],
      "text/plain": [
       "   id  release_date                                        movie  \\\n",
       "0   1  Dec 18, 2009                                       Avatar   \n",
       "1   2  May 20, 2011  Pirates of the Caribbean: On Stranger Tides   \n",
       "\n",
       "  production_budget domestic_gross worldwide_gross  \n",
       "0      $425,000,000   $760,507,625  $2,776,345,279  \n",
       "1      $410,600,000   $241,063,875  $1,045,663,875  "
      ]
     },
     "execution_count": 8,
     "metadata": {},
     "output_type": "execute_result"
    }
   ],
   "source": [
    "# tn_movie_budgets \n",
    "tnmb = csv_dict['tn_movie_budgets']\n",
    "tnmb.head(2)"
   ]
  },
  {
   "cell_type": "markdown",
   "metadata": {},
   "source": [
    "### Data cleaning: tn_movie_budgets"
   ]
  },
  {
   "cell_type": "markdown",
   "metadata": {},
   "source": [
    "Look at tn_movie_budgets dataframe as it has budget as well as gross. "
   ]
  },
  {
   "cell_type": "code",
   "execution_count": 9,
   "metadata": {
    "scrolled": true
   },
   "outputs": [
    {
     "data": {
      "text/html": [
       "<div>\n",
       "<style scoped>\n",
       "    .dataframe tbody tr th:only-of-type {\n",
       "        vertical-align: middle;\n",
       "    }\n",
       "\n",
       "    .dataframe tbody tr th {\n",
       "        vertical-align: top;\n",
       "    }\n",
       "\n",
       "    .dataframe thead th {\n",
       "        text-align: right;\n",
       "    }\n",
       "</style>\n",
       "<table border=\"1\" class=\"dataframe\">\n",
       "  <thead>\n",
       "    <tr style=\"text-align: right;\">\n",
       "      <th></th>\n",
       "      <th>id</th>\n",
       "      <th>release_date</th>\n",
       "      <th>movie</th>\n",
       "      <th>production_budget</th>\n",
       "      <th>domestic_gross</th>\n",
       "      <th>worldwide_gross</th>\n",
       "    </tr>\n",
       "  </thead>\n",
       "  <tbody>\n",
       "    <tr>\n",
       "      <td>0</td>\n",
       "      <td>1</td>\n",
       "      <td>Dec 18, 2009</td>\n",
       "      <td>Avatar</td>\n",
       "      <td>$425,000,000</td>\n",
       "      <td>$760,507,625</td>\n",
       "      <td>$2,776,345,279</td>\n",
       "    </tr>\n",
       "    <tr>\n",
       "      <td>1</td>\n",
       "      <td>2</td>\n",
       "      <td>May 20, 2011</td>\n",
       "      <td>Pirates of the Caribbean: On Stranger Tides</td>\n",
       "      <td>$410,600,000</td>\n",
       "      <td>$241,063,875</td>\n",
       "      <td>$1,045,663,875</td>\n",
       "    </tr>\n",
       "    <tr>\n",
       "      <td>2</td>\n",
       "      <td>3</td>\n",
       "      <td>Jun 7, 2019</td>\n",
       "      <td>Dark Phoenix</td>\n",
       "      <td>$350,000,000</td>\n",
       "      <td>$42,762,350</td>\n",
       "      <td>$149,762,350</td>\n",
       "    </tr>\n",
       "    <tr>\n",
       "      <td>3</td>\n",
       "      <td>4</td>\n",
       "      <td>May 1, 2015</td>\n",
       "      <td>Avengers: Age of Ultron</td>\n",
       "      <td>$330,600,000</td>\n",
       "      <td>$459,005,868</td>\n",
       "      <td>$1,403,013,963</td>\n",
       "    </tr>\n",
       "    <tr>\n",
       "      <td>4</td>\n",
       "      <td>5</td>\n",
       "      <td>Dec 15, 2017</td>\n",
       "      <td>Star Wars Ep. VIII: The Last Jedi</td>\n",
       "      <td>$317,000,000</td>\n",
       "      <td>$620,181,382</td>\n",
       "      <td>$1,316,721,747</td>\n",
       "    </tr>\n",
       "  </tbody>\n",
       "</table>\n",
       "</div>"
      ],
      "text/plain": [
       "   id  release_date                                        movie  \\\n",
       "0   1  Dec 18, 2009                                       Avatar   \n",
       "1   2  May 20, 2011  Pirates of the Caribbean: On Stranger Tides   \n",
       "2   3   Jun 7, 2019                                 Dark Phoenix   \n",
       "3   4   May 1, 2015                      Avengers: Age of Ultron   \n",
       "4   5  Dec 15, 2017            Star Wars Ep. VIII: The Last Jedi   \n",
       "\n",
       "  production_budget domestic_gross worldwide_gross  \n",
       "0      $425,000,000   $760,507,625  $2,776,345,279  \n",
       "1      $410,600,000   $241,063,875  $1,045,663,875  \n",
       "2      $350,000,000    $42,762,350    $149,762,350  \n",
       "3      $330,600,000   $459,005,868  $1,403,013,963  \n",
       "4      $317,000,000   $620,181,382  $1,316,721,747  "
      ]
     },
     "execution_count": 9,
     "metadata": {},
     "output_type": "execute_result"
    }
   ],
   "source": [
    "# Set tn_movie_budgets DataFrame as tnmb\n",
    "tnmb = csv_dict['tn_movie_budgets']\n",
    "tnmb.head()"
   ]
  },
  {
   "cell_type": "code",
   "execution_count": 10,
   "metadata": {
    "scrolled": false
   },
   "outputs": [
    {
     "name": "stdout",
     "output_type": "stream",
     "text": [
      "<class 'pandas.core.frame.DataFrame'>\n",
      "RangeIndex: 5782 entries, 0 to 5781\n",
      "Data columns (total 6 columns):\n",
      "id                   5782 non-null int64\n",
      "release_date         5782 non-null object\n",
      "movie                5782 non-null object\n",
      "production_budget    5782 non-null object\n",
      "domestic_gross       5782 non-null object\n",
      "worldwide_gross      5782 non-null object\n",
      "dtypes: int64(1), object(5)\n",
      "memory usage: 271.2+ KB\n"
     ]
    }
   ],
   "source": [
    "# Get Summary\n",
    "tnmb.info()"
   ]
  },
  {
   "cell_type": "code",
   "execution_count": 11,
   "metadata": {},
   "outputs": [
    {
     "data": {
      "text/plain": [
       "False"
      ]
     },
     "execution_count": 11,
     "metadata": {},
     "output_type": "execute_result"
    }
   ],
   "source": [
    "# See if any duplicates\n",
    "tnmb.duplicated().any()"
   ]
  },
  {
   "cell_type": "code",
   "execution_count": 12,
   "metadata": {
    "scrolled": true
   },
   "outputs": [
    {
     "data": {
      "text/html": [
       "<div>\n",
       "<style scoped>\n",
       "    .dataframe tbody tr th:only-of-type {\n",
       "        vertical-align: middle;\n",
       "    }\n",
       "\n",
       "    .dataframe tbody tr th {\n",
       "        vertical-align: top;\n",
       "    }\n",
       "\n",
       "    .dataframe thead th {\n",
       "        text-align: right;\n",
       "    }\n",
       "</style>\n",
       "<table border=\"1\" class=\"dataframe\">\n",
       "  <thead>\n",
       "    <tr style=\"text-align: right;\">\n",
       "      <th></th>\n",
       "      <th>release_date</th>\n",
       "      <th>movie</th>\n",
       "      <th>production_budget</th>\n",
       "      <th>domestic_gross</th>\n",
       "      <th>worldwide_gross</th>\n",
       "    </tr>\n",
       "  </thead>\n",
       "  <tbody>\n",
       "    <tr>\n",
       "      <td>0</td>\n",
       "      <td>Dec 18, 2009</td>\n",
       "      <td>Avatar</td>\n",
       "      <td>$425,000,000</td>\n",
       "      <td>$760,507,625</td>\n",
       "      <td>$2,776,345,279</td>\n",
       "    </tr>\n",
       "    <tr>\n",
       "      <td>1</td>\n",
       "      <td>May 20, 2011</td>\n",
       "      <td>Pirates of the Caribbean: On Stranger Tides</td>\n",
       "      <td>$410,600,000</td>\n",
       "      <td>$241,063,875</td>\n",
       "      <td>$1,045,663,875</td>\n",
       "    </tr>\n",
       "    <tr>\n",
       "      <td>2</td>\n",
       "      <td>Jun 7, 2019</td>\n",
       "      <td>Dark Phoenix</td>\n",
       "      <td>$350,000,000</td>\n",
       "      <td>$42,762,350</td>\n",
       "      <td>$149,762,350</td>\n",
       "    </tr>\n",
       "    <tr>\n",
       "      <td>3</td>\n",
       "      <td>May 1, 2015</td>\n",
       "      <td>Avengers: Age of Ultron</td>\n",
       "      <td>$330,600,000</td>\n",
       "      <td>$459,005,868</td>\n",
       "      <td>$1,403,013,963</td>\n",
       "    </tr>\n",
       "    <tr>\n",
       "      <td>4</td>\n",
       "      <td>Dec 15, 2017</td>\n",
       "      <td>Star Wars Ep. VIII: The Last Jedi</td>\n",
       "      <td>$317,000,000</td>\n",
       "      <td>$620,181,382</td>\n",
       "      <td>$1,316,721,747</td>\n",
       "    </tr>\n",
       "  </tbody>\n",
       "</table>\n",
       "</div>"
      ],
      "text/plain": [
       "   release_date                                        movie  \\\n",
       "0  Dec 18, 2009                                       Avatar   \n",
       "1  May 20, 2011  Pirates of the Caribbean: On Stranger Tides   \n",
       "2   Jun 7, 2019                                 Dark Phoenix   \n",
       "3   May 1, 2015                      Avengers: Age of Ultron   \n",
       "4  Dec 15, 2017            Star Wars Ep. VIII: The Last Jedi   \n",
       "\n",
       "  production_budget domestic_gross worldwide_gross  \n",
       "0      $425,000,000   $760,507,625  $2,776,345,279  \n",
       "1      $410,600,000   $241,063,875  $1,045,663,875  \n",
       "2      $350,000,000    $42,762,350    $149,762,350  \n",
       "3      $330,600,000   $459,005,868  $1,403,013,963  \n",
       "4      $317,000,000   $620,181,382  $1,316,721,747  "
      ]
     },
     "execution_count": 12,
     "metadata": {},
     "output_type": "execute_result"
    }
   ],
   "source": [
    "# Remove id column\n",
    "tnmb = tnmb.drop('id', axis = 1)\n",
    "tnmb.head()"
   ]
  },
  {
   "cell_type": "code",
   "execution_count": 13,
   "metadata": {},
   "outputs": [],
   "source": [
    "# Convert release_date to a datetime object\n",
    "tnmb['release_date'] = pd.to_datetime(tnmb['release_date'])"
   ]
  },
  {
   "cell_type": "code",
   "execution_count": 14,
   "metadata": {},
   "outputs": [],
   "source": [
    "# Create year column \n",
    "tnmb['release_year'] = pd.DatetimeIndex(tnmb['release_date']).year"
   ]
  },
  {
   "cell_type": "code",
   "execution_count": 15,
   "metadata": {},
   "outputs": [],
   "source": [
    "# Define function to clean numbers\n",
    "def numclean(df,col):\n",
    "    '''\n",
    "    param1 = Pandas DataFrame\n",
    "    param2 = Column\n",
    "    Removes $ symbol, removes ',' seperator and changes to int type\n",
    "    Returns DataFrame\n",
    "    '''\n",
    "    df[col]=df[col].str.replace(\"$\",\"\").str.replace(\",\",\"\").astype('int')\n",
    "    return df"
   ]
  },
  {
   "cell_type": "code",
   "execution_count": 16,
   "metadata": {
    "scrolled": true
   },
   "outputs": [
    {
     "data": {
      "text/html": [
       "<div>\n",
       "<style scoped>\n",
       "    .dataframe tbody tr th:only-of-type {\n",
       "        vertical-align: middle;\n",
       "    }\n",
       "\n",
       "    .dataframe tbody tr th {\n",
       "        vertical-align: top;\n",
       "    }\n",
       "\n",
       "    .dataframe thead th {\n",
       "        text-align: right;\n",
       "    }\n",
       "</style>\n",
       "<table border=\"1\" class=\"dataframe\">\n",
       "  <thead>\n",
       "    <tr style=\"text-align: right;\">\n",
       "      <th></th>\n",
       "      <th>release_date</th>\n",
       "      <th>movie</th>\n",
       "      <th>production_budget</th>\n",
       "      <th>domestic_gross</th>\n",
       "      <th>worldwide_gross</th>\n",
       "      <th>release_year</th>\n",
       "    </tr>\n",
       "  </thead>\n",
       "  <tbody>\n",
       "    <tr>\n",
       "      <td>0</td>\n",
       "      <td>2009-12-18</td>\n",
       "      <td>Avatar</td>\n",
       "      <td>425000000</td>\n",
       "      <td>760507625</td>\n",
       "      <td>2776345279</td>\n",
       "      <td>2009</td>\n",
       "    </tr>\n",
       "    <tr>\n",
       "      <td>1</td>\n",
       "      <td>2011-05-20</td>\n",
       "      <td>Pirates of the Caribbean: On Stranger Tides</td>\n",
       "      <td>410600000</td>\n",
       "      <td>241063875</td>\n",
       "      <td>1045663875</td>\n",
       "      <td>2011</td>\n",
       "    </tr>\n",
       "    <tr>\n",
       "      <td>2</td>\n",
       "      <td>2019-06-07</td>\n",
       "      <td>Dark Phoenix</td>\n",
       "      <td>350000000</td>\n",
       "      <td>42762350</td>\n",
       "      <td>149762350</td>\n",
       "      <td>2019</td>\n",
       "    </tr>\n",
       "    <tr>\n",
       "      <td>3</td>\n",
       "      <td>2015-05-01</td>\n",
       "      <td>Avengers: Age of Ultron</td>\n",
       "      <td>330600000</td>\n",
       "      <td>459005868</td>\n",
       "      <td>1403013963</td>\n",
       "      <td>2015</td>\n",
       "    </tr>\n",
       "    <tr>\n",
       "      <td>4</td>\n",
       "      <td>2017-12-15</td>\n",
       "      <td>Star Wars Ep. VIII: The Last Jedi</td>\n",
       "      <td>317000000</td>\n",
       "      <td>620181382</td>\n",
       "      <td>1316721747</td>\n",
       "      <td>2017</td>\n",
       "    </tr>\n",
       "    <tr>\n",
       "      <td>...</td>\n",
       "      <td>...</td>\n",
       "      <td>...</td>\n",
       "      <td>...</td>\n",
       "      <td>...</td>\n",
       "      <td>...</td>\n",
       "      <td>...</td>\n",
       "    </tr>\n",
       "    <tr>\n",
       "      <td>5777</td>\n",
       "      <td>2018-12-31</td>\n",
       "      <td>Red 11</td>\n",
       "      <td>7000</td>\n",
       "      <td>0</td>\n",
       "      <td>0</td>\n",
       "      <td>2018</td>\n",
       "    </tr>\n",
       "    <tr>\n",
       "      <td>5778</td>\n",
       "      <td>1999-04-02</td>\n",
       "      <td>Following</td>\n",
       "      <td>6000</td>\n",
       "      <td>48482</td>\n",
       "      <td>240495</td>\n",
       "      <td>1999</td>\n",
       "    </tr>\n",
       "    <tr>\n",
       "      <td>5779</td>\n",
       "      <td>2005-07-13</td>\n",
       "      <td>Return to the Land of Wonders</td>\n",
       "      <td>5000</td>\n",
       "      <td>1338</td>\n",
       "      <td>1338</td>\n",
       "      <td>2005</td>\n",
       "    </tr>\n",
       "    <tr>\n",
       "      <td>5780</td>\n",
       "      <td>2015-09-29</td>\n",
       "      <td>A Plague So Pleasant</td>\n",
       "      <td>1400</td>\n",
       "      <td>0</td>\n",
       "      <td>0</td>\n",
       "      <td>2015</td>\n",
       "    </tr>\n",
       "    <tr>\n",
       "      <td>5781</td>\n",
       "      <td>2005-08-05</td>\n",
       "      <td>My Date With Drew</td>\n",
       "      <td>1100</td>\n",
       "      <td>181041</td>\n",
       "      <td>181041</td>\n",
       "      <td>2005</td>\n",
       "    </tr>\n",
       "  </tbody>\n",
       "</table>\n",
       "<p>5782 rows × 6 columns</p>\n",
       "</div>"
      ],
      "text/plain": [
       "     release_date                                        movie  \\\n",
       "0      2009-12-18                                       Avatar   \n",
       "1      2011-05-20  Pirates of the Caribbean: On Stranger Tides   \n",
       "2      2019-06-07                                 Dark Phoenix   \n",
       "3      2015-05-01                      Avengers: Age of Ultron   \n",
       "4      2017-12-15            Star Wars Ep. VIII: The Last Jedi   \n",
       "...           ...                                          ...   \n",
       "5777   2018-12-31                                       Red 11   \n",
       "5778   1999-04-02                                    Following   \n",
       "5779   2005-07-13                Return to the Land of Wonders   \n",
       "5780   2015-09-29                         A Plague So Pleasant   \n",
       "5781   2005-08-05                            My Date With Drew   \n",
       "\n",
       "      production_budget  domestic_gross  worldwide_gross  release_year  \n",
       "0             425000000       760507625       2776345279          2009  \n",
       "1             410600000       241063875       1045663875          2011  \n",
       "2             350000000        42762350        149762350          2019  \n",
       "3             330600000       459005868       1403013963          2015  \n",
       "4             317000000       620181382       1316721747          2017  \n",
       "...                 ...             ...              ...           ...  \n",
       "5777               7000               0                0          2018  \n",
       "5778               6000           48482           240495          1999  \n",
       "5779               5000            1338             1338          2005  \n",
       "5780               1400               0                0          2015  \n",
       "5781               1100          181041           181041          2005  \n",
       "\n",
       "[5782 rows x 6 columns]"
      ]
     },
     "execution_count": 16,
     "metadata": {},
     "output_type": "execute_result"
    }
   ],
   "source": [
    "# Run function on the three columns\n",
    "numclean(tnmb,'production_budget')\n",
    "numclean(tnmb,'domestic_gross')\n",
    "numclean(tnmb,'worldwide_gross')"
   ]
  },
  {
   "cell_type": "code",
   "execution_count": 17,
   "metadata": {
    "scrolled": false
   },
   "outputs": [
    {
     "data": {
      "text/html": [
       "<div>\n",
       "<style scoped>\n",
       "    .dataframe tbody tr th:only-of-type {\n",
       "        vertical-align: middle;\n",
       "    }\n",
       "\n",
       "    .dataframe tbody tr th {\n",
       "        vertical-align: top;\n",
       "    }\n",
       "\n",
       "    .dataframe thead th {\n",
       "        text-align: right;\n",
       "    }\n",
       "</style>\n",
       "<table border=\"1\" class=\"dataframe\">\n",
       "  <thead>\n",
       "    <tr style=\"text-align: right;\">\n",
       "      <th></th>\n",
       "      <th>release_date</th>\n",
       "      <th>movie</th>\n",
       "      <th>production_budget</th>\n",
       "      <th>domestic_gross</th>\n",
       "      <th>worldwide_gross</th>\n",
       "      <th>release_year</th>\n",
       "    </tr>\n",
       "  </thead>\n",
       "  <tbody>\n",
       "    <tr>\n",
       "      <td>194</td>\n",
       "      <td>2020-12-31</td>\n",
       "      <td>Moonfall</td>\n",
       "      <td>150000000</td>\n",
       "      <td>0</td>\n",
       "      <td>0</td>\n",
       "      <td>2020</td>\n",
       "    </tr>\n",
       "    <tr>\n",
       "      <td>479</td>\n",
       "      <td>2017-12-13</td>\n",
       "      <td>Bright</td>\n",
       "      <td>90000000</td>\n",
       "      <td>0</td>\n",
       "      <td>0</td>\n",
       "      <td>2017</td>\n",
       "    </tr>\n",
       "    <tr>\n",
       "      <td>480</td>\n",
       "      <td>2019-12-31</td>\n",
       "      <td>Army of the Dead</td>\n",
       "      <td>90000000</td>\n",
       "      <td>0</td>\n",
       "      <td>0</td>\n",
       "      <td>2019</td>\n",
       "    </tr>\n",
       "    <tr>\n",
       "      <td>535</td>\n",
       "      <td>2020-02-21</td>\n",
       "      <td>Call of the Wild</td>\n",
       "      <td>82000000</td>\n",
       "      <td>0</td>\n",
       "      <td>0</td>\n",
       "      <td>2020</td>\n",
       "    </tr>\n",
       "    <tr>\n",
       "      <td>670</td>\n",
       "      <td>2019-08-30</td>\n",
       "      <td>PLAYMOBIL</td>\n",
       "      <td>75000000</td>\n",
       "      <td>0</td>\n",
       "      <td>0</td>\n",
       "      <td>2019</td>\n",
       "    </tr>\n",
       "    <tr>\n",
       "      <td>...</td>\n",
       "      <td>...</td>\n",
       "      <td>...</td>\n",
       "      <td>...</td>\n",
       "      <td>...</td>\n",
       "      <td>...</td>\n",
       "      <td>...</td>\n",
       "    </tr>\n",
       "    <tr>\n",
       "      <td>5761</td>\n",
       "      <td>2014-12-31</td>\n",
       "      <td>Stories of Our Lives</td>\n",
       "      <td>15000</td>\n",
       "      <td>0</td>\n",
       "      <td>0</td>\n",
       "      <td>2014</td>\n",
       "    </tr>\n",
       "    <tr>\n",
       "      <td>5764</td>\n",
       "      <td>2007-12-31</td>\n",
       "      <td>Tin Can Man</td>\n",
       "      <td>12000</td>\n",
       "      <td>0</td>\n",
       "      <td>0</td>\n",
       "      <td>2007</td>\n",
       "    </tr>\n",
       "    <tr>\n",
       "      <td>5771</td>\n",
       "      <td>2015-05-19</td>\n",
       "      <td>Family Motocross</td>\n",
       "      <td>10000</td>\n",
       "      <td>0</td>\n",
       "      <td>0</td>\n",
       "      <td>2015</td>\n",
       "    </tr>\n",
       "    <tr>\n",
       "      <td>5777</td>\n",
       "      <td>2018-12-31</td>\n",
       "      <td>Red 11</td>\n",
       "      <td>7000</td>\n",
       "      <td>0</td>\n",
       "      <td>0</td>\n",
       "      <td>2018</td>\n",
       "    </tr>\n",
       "    <tr>\n",
       "      <td>5780</td>\n",
       "      <td>2015-09-29</td>\n",
       "      <td>A Plague So Pleasant</td>\n",
       "      <td>1400</td>\n",
       "      <td>0</td>\n",
       "      <td>0</td>\n",
       "      <td>2015</td>\n",
       "    </tr>\n",
       "  </tbody>\n",
       "</table>\n",
       "<p>367 rows × 6 columns</p>\n",
       "</div>"
      ],
      "text/plain": [
       "     release_date                 movie  production_budget  domestic_gross  \\\n",
       "194    2020-12-31              Moonfall          150000000               0   \n",
       "479    2017-12-13                Bright           90000000               0   \n",
       "480    2019-12-31      Army of the Dead           90000000               0   \n",
       "535    2020-02-21      Call of the Wild           82000000               0   \n",
       "670    2019-08-30             PLAYMOBIL           75000000               0   \n",
       "...           ...                   ...                ...             ...   \n",
       "5761   2014-12-31  Stories of Our Lives              15000               0   \n",
       "5764   2007-12-31           Tin Can Man              12000               0   \n",
       "5771   2015-05-19      Family Motocross              10000               0   \n",
       "5777   2018-12-31                Red 11               7000               0   \n",
       "5780   2015-09-29  A Plague So Pleasant               1400               0   \n",
       "\n",
       "      worldwide_gross  release_year  \n",
       "194                 0          2020  \n",
       "479                 0          2017  \n",
       "480                 0          2019  \n",
       "535                 0          2020  \n",
       "670                 0          2019  \n",
       "...               ...           ...  \n",
       "5761                0          2014  \n",
       "5764                0          2007  \n",
       "5771                0          2015  \n",
       "5777                0          2018  \n",
       "5780                0          2015  \n",
       "\n",
       "[367 rows x 6 columns]"
      ]
     },
     "execution_count": 17,
     "metadata": {},
     "output_type": "execute_result"
    }
   ],
   "source": [
    "# Investigate rows where worldwide_gross is 0\n",
    "tnmb[tnmb['worldwide_gross'] == 0]"
   ]
  },
  {
   "cell_type": "code",
   "execution_count": 18,
   "metadata": {},
   "outputs": [
    {
     "data": {
      "text/plain": [
       "367"
      ]
     },
     "execution_count": 18,
     "metadata": {},
     "output_type": "execute_result"
    }
   ],
   "source": [
    "# Get number of rows where worldwide_gross is 0\n",
    "len(tnmb[tnmb['worldwide_gross'] == 0])"
   ]
  },
  {
   "cell_type": "markdown",
   "metadata": {},
   "source": [
    "Choose to remove these rows as small percentage of data."
   ]
  },
  {
   "cell_type": "code",
   "execution_count": 19,
   "metadata": {},
   "outputs": [],
   "source": [
    "# Keep only rows where worldwide_gross is non-zero\n",
    "tnmb = tnmb[tnmb['worldwide_gross'] != 0]"
   ]
  },
  {
   "cell_type": "code",
   "execution_count": 20,
   "metadata": {},
   "outputs": [
    {
     "data": {
      "text/plain": [
       "count    5415.000000\n",
       "mean     2003.599446\n",
       "std        12.546965\n",
       "min      1915.000000\n",
       "25%      1999.000000\n",
       "50%      2006.000000\n",
       "75%      2012.000000\n",
       "max      2019.000000\n",
       "Name: release_year, dtype: float64"
      ]
     },
     "execution_count": 20,
     "metadata": {},
     "output_type": "execute_result"
    }
   ],
   "source": [
    "# Explore release_year\n",
    "tnmb['release_year'].describe()"
   ]
  },
  {
   "cell_type": "code",
   "execution_count": 21,
   "metadata": {
    "scrolled": true
   },
   "outputs": [],
   "source": [
    "# Reset index\n",
    "tnmb = tnmb.reset_index(drop = True)"
   ]
  },
  {
   "cell_type": "code",
   "execution_count": 22,
   "metadata": {
    "scrolled": true
   },
   "outputs": [
    {
     "data": {
      "text/html": [
       "<div>\n",
       "<style scoped>\n",
       "    .dataframe tbody tr th:only-of-type {\n",
       "        vertical-align: middle;\n",
       "    }\n",
       "\n",
       "    .dataframe tbody tr th {\n",
       "        vertical-align: top;\n",
       "    }\n",
       "\n",
       "    .dataframe thead th {\n",
       "        text-align: right;\n",
       "    }\n",
       "</style>\n",
       "<table border=\"1\" class=\"dataframe\">\n",
       "  <thead>\n",
       "    <tr style=\"text-align: right;\">\n",
       "      <th></th>\n",
       "      <th>release_date</th>\n",
       "      <th>movie</th>\n",
       "      <th>production_budget</th>\n",
       "      <th>domestic_gross</th>\n",
       "      <th>worldwide_gross</th>\n",
       "      <th>release_year</th>\n",
       "    </tr>\n",
       "  </thead>\n",
       "  <tbody>\n",
       "    <tr>\n",
       "      <td>0</td>\n",
       "      <td>2009-12-18</td>\n",
       "      <td>Avatar</td>\n",
       "      <td>425000000</td>\n",
       "      <td>760507625</td>\n",
       "      <td>2776345279</td>\n",
       "      <td>2009</td>\n",
       "    </tr>\n",
       "    <tr>\n",
       "      <td>1</td>\n",
       "      <td>2011-05-20</td>\n",
       "      <td>Pirates of the Caribbean: On Stranger Tides</td>\n",
       "      <td>410600000</td>\n",
       "      <td>241063875</td>\n",
       "      <td>1045663875</td>\n",
       "      <td>2011</td>\n",
       "    </tr>\n",
       "    <tr>\n",
       "      <td>2</td>\n",
       "      <td>2019-06-07</td>\n",
       "      <td>Dark Phoenix</td>\n",
       "      <td>350000000</td>\n",
       "      <td>42762350</td>\n",
       "      <td>149762350</td>\n",
       "      <td>2019</td>\n",
       "    </tr>\n",
       "    <tr>\n",
       "      <td>3</td>\n",
       "      <td>2015-05-01</td>\n",
       "      <td>Avengers: Age of Ultron</td>\n",
       "      <td>330600000</td>\n",
       "      <td>459005868</td>\n",
       "      <td>1403013963</td>\n",
       "      <td>2015</td>\n",
       "    </tr>\n",
       "    <tr>\n",
       "      <td>4</td>\n",
       "      <td>2017-12-15</td>\n",
       "      <td>Star Wars Ep. VIII: The Last Jedi</td>\n",
       "      <td>317000000</td>\n",
       "      <td>620181382</td>\n",
       "      <td>1316721747</td>\n",
       "      <td>2017</td>\n",
       "    </tr>\n",
       "  </tbody>\n",
       "</table>\n",
       "</div>"
      ],
      "text/plain": [
       "  release_date                                        movie  \\\n",
       "0   2009-12-18                                       Avatar   \n",
       "1   2011-05-20  Pirates of the Caribbean: On Stranger Tides   \n",
       "2   2019-06-07                                 Dark Phoenix   \n",
       "3   2015-05-01                      Avengers: Age of Ultron   \n",
       "4   2017-12-15            Star Wars Ep. VIII: The Last Jedi   \n",
       "\n",
       "   production_budget  domestic_gross  worldwide_gross  release_year  \n",
       "0          425000000       760507625       2776345279          2009  \n",
       "1          410600000       241063875       1045663875          2011  \n",
       "2          350000000        42762350        149762350          2019  \n",
       "3          330600000       459005868       1403013963          2015  \n",
       "4          317000000       620181382       1316721747          2017  "
      ]
     },
     "execution_count": 22,
     "metadata": {},
     "output_type": "execute_result"
    }
   ],
   "source": [
    "# View first 5 rows\n",
    "tnmb.head()"
   ]
  },
  {
   "cell_type": "markdown",
   "metadata": {},
   "source": [
    "This dataframe is ready."
   ]
  },
  {
   "cell_type": "markdown",
   "metadata": {},
   "source": [
    "### Data cleaning: imdb_title_basics"
   ]
  },
  {
   "cell_type": "code",
   "execution_count": 23,
   "metadata": {},
   "outputs": [
    {
     "data": {
      "text/html": [
       "<div>\n",
       "<style scoped>\n",
       "    .dataframe tbody tr th:only-of-type {\n",
       "        vertical-align: middle;\n",
       "    }\n",
       "\n",
       "    .dataframe tbody tr th {\n",
       "        vertical-align: top;\n",
       "    }\n",
       "\n",
       "    .dataframe thead th {\n",
       "        text-align: right;\n",
       "    }\n",
       "</style>\n",
       "<table border=\"1\" class=\"dataframe\">\n",
       "  <thead>\n",
       "    <tr style=\"text-align: right;\">\n",
       "      <th></th>\n",
       "      <th>tconst</th>\n",
       "      <th>primary_title</th>\n",
       "      <th>original_title</th>\n",
       "      <th>start_year</th>\n",
       "      <th>runtime_minutes</th>\n",
       "      <th>genres</th>\n",
       "    </tr>\n",
       "  </thead>\n",
       "  <tbody>\n",
       "    <tr>\n",
       "      <td>0</td>\n",
       "      <td>tt0063540</td>\n",
       "      <td>Sunghursh</td>\n",
       "      <td>Sunghursh</td>\n",
       "      <td>2013</td>\n",
       "      <td>175.0</td>\n",
       "      <td>Action,Crime,Drama</td>\n",
       "    </tr>\n",
       "    <tr>\n",
       "      <td>1</td>\n",
       "      <td>tt0066787</td>\n",
       "      <td>One Day Before the Rainy Season</td>\n",
       "      <td>Ashad Ka Ek Din</td>\n",
       "      <td>2019</td>\n",
       "      <td>114.0</td>\n",
       "      <td>Biography,Drama</td>\n",
       "    </tr>\n",
       "    <tr>\n",
       "      <td>2</td>\n",
       "      <td>tt0069049</td>\n",
       "      <td>The Other Side of the Wind</td>\n",
       "      <td>The Other Side of the Wind</td>\n",
       "      <td>2018</td>\n",
       "      <td>122.0</td>\n",
       "      <td>Drama</td>\n",
       "    </tr>\n",
       "    <tr>\n",
       "      <td>3</td>\n",
       "      <td>tt0069204</td>\n",
       "      <td>Sabse Bada Sukh</td>\n",
       "      <td>Sabse Bada Sukh</td>\n",
       "      <td>2018</td>\n",
       "      <td>NaN</td>\n",
       "      <td>Comedy,Drama</td>\n",
       "    </tr>\n",
       "    <tr>\n",
       "      <td>4</td>\n",
       "      <td>tt0100275</td>\n",
       "      <td>The Wandering Soap Opera</td>\n",
       "      <td>La Telenovela Errante</td>\n",
       "      <td>2017</td>\n",
       "      <td>80.0</td>\n",
       "      <td>Comedy,Drama,Fantasy</td>\n",
       "    </tr>\n",
       "  </tbody>\n",
       "</table>\n",
       "</div>"
      ],
      "text/plain": [
       "      tconst                    primary_title              original_title  \\\n",
       "0  tt0063540                        Sunghursh                   Sunghursh   \n",
       "1  tt0066787  One Day Before the Rainy Season             Ashad Ka Ek Din   \n",
       "2  tt0069049       The Other Side of the Wind  The Other Side of the Wind   \n",
       "3  tt0069204                  Sabse Bada Sukh             Sabse Bada Sukh   \n",
       "4  tt0100275         The Wandering Soap Opera       La Telenovela Errante   \n",
       "\n",
       "   start_year  runtime_minutes                genres  \n",
       "0        2013            175.0    Action,Crime,Drama  \n",
       "1        2019            114.0       Biography,Drama  \n",
       "2        2018            122.0                 Drama  \n",
       "3        2018              NaN          Comedy,Drama  \n",
       "4        2017             80.0  Comedy,Drama,Fantasy  "
      ]
     },
     "execution_count": 23,
     "metadata": {},
     "output_type": "execute_result"
    }
   ],
   "source": [
    "# Set imdb_title_basics as imdb\n",
    "imdb = csv_dict['imdb_title_basics']\n",
    "imdb.head()"
   ]
  },
  {
   "cell_type": "code",
   "execution_count": 24,
   "metadata": {},
   "outputs": [
    {
     "name": "stdout",
     "output_type": "stream",
     "text": [
      "<class 'pandas.core.frame.DataFrame'>\n",
      "RangeIndex: 146144 entries, 0 to 146143\n",
      "Data columns (total 6 columns):\n",
      "tconst             146144 non-null object\n",
      "primary_title      146144 non-null object\n",
      "original_title     146123 non-null object\n",
      "start_year         146144 non-null int64\n",
      "runtime_minutes    114405 non-null float64\n",
      "genres             140736 non-null object\n",
      "dtypes: float64(1), int64(1), object(4)\n",
      "memory usage: 6.7+ MB\n"
     ]
    }
   ],
   "source": [
    "# Get Summary\n",
    "imdb.info()"
   ]
  },
  {
   "cell_type": "code",
   "execution_count": 25,
   "metadata": {
    "scrolled": false
   },
   "outputs": [
    {
     "data": {
      "text/plain": [
       "tconst                 0\n",
       "primary_title          0\n",
       "original_title        21\n",
       "start_year             0\n",
       "runtime_minutes    31739\n",
       "genres              5408\n",
       "dtype: int64"
      ]
     },
     "execution_count": 25,
     "metadata": {},
     "output_type": "execute_result"
    }
   ],
   "source": [
    "# Get number of missing values per column\n",
    "imdb.isna().sum()"
   ]
  },
  {
   "cell_type": "code",
   "execution_count": 26,
   "metadata": {},
   "outputs": [
    {
     "data": {
      "text/plain": [
       "21.72"
      ]
     },
     "execution_count": 26,
     "metadata": {},
     "output_type": "execute_result"
    }
   ],
   "source": [
    "# % of missing values for runtime\n",
    "(imdb['runtime_minutes'].isna().sum()/len(imdb)*100).round(2)"
   ]
  },
  {
   "cell_type": "code",
   "execution_count": 27,
   "metadata": {},
   "outputs": [
    {
     "data": {
      "text/plain": [
       "87.0"
      ]
     },
     "execution_count": 27,
     "metadata": {},
     "output_type": "execute_result"
    }
   ],
   "source": [
    "# Consider median\n",
    "imdb['runtime_minutes'].median()"
   ]
  },
  {
   "cell_type": "code",
   "execution_count": 28,
   "metadata": {},
   "outputs": [],
   "source": [
    "# Fill missing values with median\n",
    "imdb['runtime_minutes'] = imdb['runtime_minutes'].fillna(imdb['runtime_minutes'].median())"
   ]
  },
  {
   "cell_type": "code",
   "execution_count": 29,
   "metadata": {},
   "outputs": [
    {
     "data": {
      "text/plain": [
       "3.7"
      ]
     },
     "execution_count": 29,
     "metadata": {},
     "output_type": "execute_result"
    }
   ],
   "source": [
    "# % of missing values for genre\n",
    "(imdb['genres'].isna().sum()/len(imdb)*100).round(2)"
   ]
  },
  {
   "cell_type": "code",
   "execution_count": 30,
   "metadata": {},
   "outputs": [
    {
     "data": {
      "text/plain": [
       "0.01"
      ]
     },
     "execution_count": 30,
     "metadata": {},
     "output_type": "execute_result"
    }
   ],
   "source": [
    "# % of missing values for original_title\n",
    "(imdb['original_title'].isna().sum()/len(imdb)*100).round(2)"
   ]
  },
  {
   "cell_type": "code",
   "execution_count": 31,
   "metadata": {},
   "outputs": [],
   "source": [
    "# Drop rows that contain null values\n",
    "imdb = imdb.dropna()"
   ]
  },
  {
   "cell_type": "code",
   "execution_count": 32,
   "metadata": {
    "scrolled": true
   },
   "outputs": [
    {
     "data": {
      "text/plain": [
       "False"
      ]
     },
     "execution_count": 32,
     "metadata": {},
     "output_type": "execute_result"
    }
   ],
   "source": [
    "# Check for duplicates\n",
    "imdb.duplicated().any()"
   ]
  },
  {
   "cell_type": "code",
   "execution_count": 33,
   "metadata": {
    "scrolled": true
   },
   "outputs": [
    {
     "data": {
      "text/plain": [
       "count    140734.000000\n",
       "mean       2014.613945\n",
       "std           2.735566\n",
       "min        2010.000000\n",
       "25%        2012.000000\n",
       "50%        2015.000000\n",
       "75%        2017.000000\n",
       "max        2115.000000\n",
       "Name: start_year, dtype: float64"
      ]
     },
     "execution_count": 33,
     "metadata": {},
     "output_type": "execute_result"
    }
   ],
   "source": [
    "# Explore release_year\n",
    "imdb['start_year'].describe()"
   ]
  },
  {
   "cell_type": "code",
   "execution_count": 34,
   "metadata": {},
   "outputs": [
    {
     "data": {
      "text/html": [
       "<div>\n",
       "<style scoped>\n",
       "    .dataframe tbody tr th:only-of-type {\n",
       "        vertical-align: middle;\n",
       "    }\n",
       "\n",
       "    .dataframe tbody tr th {\n",
       "        vertical-align: top;\n",
       "    }\n",
       "\n",
       "    .dataframe thead th {\n",
       "        text-align: right;\n",
       "    }\n",
       "</style>\n",
       "<table border=\"1\" class=\"dataframe\">\n",
       "  <thead>\n",
       "    <tr style=\"text-align: right;\">\n",
       "      <th></th>\n",
       "      <th>tconst</th>\n",
       "      <th>primary_title</th>\n",
       "      <th>original_title</th>\n",
       "      <th>start_year</th>\n",
       "      <th>runtime_minutes</th>\n",
       "      <th>genres</th>\n",
       "    </tr>\n",
       "  </thead>\n",
       "  <tbody>\n",
       "    <tr>\n",
       "      <td>33</td>\n",
       "      <td>tt0293429</td>\n",
       "      <td>Mortal Kombat</td>\n",
       "      <td>Mortal Kombat</td>\n",
       "      <td>2021</td>\n",
       "      <td>87.0</td>\n",
       "      <td>Action,Adventure,Fantasy</td>\n",
       "    </tr>\n",
       "    <tr>\n",
       "      <td>93</td>\n",
       "      <td>tt0427340</td>\n",
       "      <td>Masters of the Universe</td>\n",
       "      <td>Masters of the Universe</td>\n",
       "      <td>2021</td>\n",
       "      <td>87.0</td>\n",
       "      <td>Action,Adventure,Drama</td>\n",
       "    </tr>\n",
       "    <tr>\n",
       "      <td>229</td>\n",
       "      <td>tt0499097</td>\n",
       "      <td>Without Remorse</td>\n",
       "      <td>Without Remorse</td>\n",
       "      <td>2020</td>\n",
       "      <td>87.0</td>\n",
       "      <td>Action,Crime,Drama</td>\n",
       "    </tr>\n",
       "    <tr>\n",
       "      <td>289</td>\n",
       "      <td>tt0805647</td>\n",
       "      <td>The Witches</td>\n",
       "      <td>The Witches</td>\n",
       "      <td>2020</td>\n",
       "      <td>87.0</td>\n",
       "      <td>Adventure,Comedy,Family</td>\n",
       "    </tr>\n",
       "    <tr>\n",
       "      <td>386</td>\n",
       "      <td>tt0870154</td>\n",
       "      <td>Jungle Cruise</td>\n",
       "      <td>Jungle Cruise</td>\n",
       "      <td>2020</td>\n",
       "      <td>87.0</td>\n",
       "      <td>Adventure</td>\n",
       "    </tr>\n",
       "    <tr>\n",
       "      <td>...</td>\n",
       "      <td>...</td>\n",
       "      <td>...</td>\n",
       "      <td>...</td>\n",
       "      <td>...</td>\n",
       "      <td>...</td>\n",
       "      <td>...</td>\n",
       "    </tr>\n",
       "    <tr>\n",
       "      <td>145902</td>\n",
       "      <td>tt9883664</td>\n",
       "      <td>Equally Friends</td>\n",
       "      <td>Equally Friends</td>\n",
       "      <td>2020</td>\n",
       "      <td>47.0</td>\n",
       "      <td>Biography,Comedy,Drama</td>\n",
       "    </tr>\n",
       "    <tr>\n",
       "      <td>145905</td>\n",
       "      <td>tt9883996</td>\n",
       "      <td>Dream Horse</td>\n",
       "      <td>Dream Horse</td>\n",
       "      <td>2020</td>\n",
       "      <td>87.0</td>\n",
       "      <td>Drama</td>\n",
       "    </tr>\n",
       "    <tr>\n",
       "      <td>145914</td>\n",
       "      <td>tt9886444</td>\n",
       "      <td>Nuestra última fiesta</td>\n",
       "      <td>Nuestra última fiesta</td>\n",
       "      <td>2020</td>\n",
       "      <td>63.0</td>\n",
       "      <td>Comedy,Crime,Horror</td>\n",
       "    </tr>\n",
       "    <tr>\n",
       "      <td>145934</td>\n",
       "      <td>tt9887580</td>\n",
       "      <td>Bulletproof 2</td>\n",
       "      <td>Bulletproof 2</td>\n",
       "      <td>2020</td>\n",
       "      <td>87.0</td>\n",
       "      <td>Action,Comedy</td>\n",
       "    </tr>\n",
       "    <tr>\n",
       "      <td>146090</td>\n",
       "      <td>tt9908390</td>\n",
       "      <td>Le lion</td>\n",
       "      <td>Le lion</td>\n",
       "      <td>2020</td>\n",
       "      <td>87.0</td>\n",
       "      <td>Comedy</td>\n",
       "    </tr>\n",
       "  </tbody>\n",
       "</table>\n",
       "<p>1014 rows × 6 columns</p>\n",
       "</div>"
      ],
      "text/plain": [
       "           tconst            primary_title           original_title  \\\n",
       "33      tt0293429            Mortal Kombat            Mortal Kombat   \n",
       "93      tt0427340  Masters of the Universe  Masters of the Universe   \n",
       "229     tt0499097          Without Remorse          Without Remorse   \n",
       "289     tt0805647              The Witches              The Witches   \n",
       "386     tt0870154            Jungle Cruise            Jungle Cruise   \n",
       "...           ...                      ...                      ...   \n",
       "145902  tt9883664          Equally Friends          Equally Friends   \n",
       "145905  tt9883996              Dream Horse              Dream Horse   \n",
       "145914  tt9886444    Nuestra última fiesta    Nuestra última fiesta   \n",
       "145934  tt9887580            Bulletproof 2            Bulletproof 2   \n",
       "146090  tt9908390                  Le lion                  Le lion   \n",
       "\n",
       "        start_year  runtime_minutes                    genres  \n",
       "33            2021             87.0  Action,Adventure,Fantasy  \n",
       "93            2021             87.0    Action,Adventure,Drama  \n",
       "229           2020             87.0        Action,Crime,Drama  \n",
       "289           2020             87.0   Adventure,Comedy,Family  \n",
       "386           2020             87.0                 Adventure  \n",
       "...            ...              ...                       ...  \n",
       "145902        2020             47.0    Biography,Comedy,Drama  \n",
       "145905        2020             87.0                     Drama  \n",
       "145914        2020             63.0       Comedy,Crime,Horror  \n",
       "145934        2020             87.0             Action,Comedy  \n",
       "146090        2020             87.0                    Comedy  \n",
       "\n",
       "[1014 rows x 6 columns]"
      ]
     },
     "execution_count": 34,
     "metadata": {},
     "output_type": "execute_result"
    }
   ],
   "source": [
    "futuremovies = imdb[imdb['start_year'] >= 2020]\n",
    "futuremovies"
   ]
  },
  {
   "cell_type": "code",
   "execution_count": 35,
   "metadata": {},
   "outputs": [],
   "source": [
    "# Rename primary title to movie and start_year to release_year\n",
    "imdb = imdb.rename(columns = {'primary_title':'movie', 'start_year' : 'release_year'})\n",
    "# Drop original title column\n",
    "imdb = imdb.drop('original_title', axis = 1)"
   ]
  },
  {
   "cell_type": "code",
   "execution_count": 36,
   "metadata": {},
   "outputs": [
    {
     "data": {
      "text/html": [
       "<div>\n",
       "<style scoped>\n",
       "    .dataframe tbody tr th:only-of-type {\n",
       "        vertical-align: middle;\n",
       "    }\n",
       "\n",
       "    .dataframe tbody tr th {\n",
       "        vertical-align: top;\n",
       "    }\n",
       "\n",
       "    .dataframe thead th {\n",
       "        text-align: right;\n",
       "    }\n",
       "</style>\n",
       "<table border=\"1\" class=\"dataframe\">\n",
       "  <thead>\n",
       "    <tr style=\"text-align: right;\">\n",
       "      <th></th>\n",
       "      <th>tconst</th>\n",
       "      <th>movie</th>\n",
       "      <th>release_year</th>\n",
       "      <th>runtime_minutes</th>\n",
       "      <th>genres</th>\n",
       "    </tr>\n",
       "  </thead>\n",
       "  <tbody>\n",
       "    <tr>\n",
       "      <td>0</td>\n",
       "      <td>tt0063540</td>\n",
       "      <td>Sunghursh</td>\n",
       "      <td>2013</td>\n",
       "      <td>175.0</td>\n",
       "      <td>Action,Crime,Drama</td>\n",
       "    </tr>\n",
       "    <tr>\n",
       "      <td>1</td>\n",
       "      <td>tt0066787</td>\n",
       "      <td>One Day Before the Rainy Season</td>\n",
       "      <td>2019</td>\n",
       "      <td>114.0</td>\n",
       "      <td>Biography,Drama</td>\n",
       "    </tr>\n",
       "    <tr>\n",
       "      <td>2</td>\n",
       "      <td>tt0069049</td>\n",
       "      <td>The Other Side of the Wind</td>\n",
       "      <td>2018</td>\n",
       "      <td>122.0</td>\n",
       "      <td>Drama</td>\n",
       "    </tr>\n",
       "    <tr>\n",
       "      <td>3</td>\n",
       "      <td>tt0069204</td>\n",
       "      <td>Sabse Bada Sukh</td>\n",
       "      <td>2018</td>\n",
       "      <td>87.0</td>\n",
       "      <td>Comedy,Drama</td>\n",
       "    </tr>\n",
       "    <tr>\n",
       "      <td>4</td>\n",
       "      <td>tt0100275</td>\n",
       "      <td>The Wandering Soap Opera</td>\n",
       "      <td>2017</td>\n",
       "      <td>80.0</td>\n",
       "      <td>Comedy,Drama,Fantasy</td>\n",
       "    </tr>\n",
       "  </tbody>\n",
       "</table>\n",
       "</div>"
      ],
      "text/plain": [
       "      tconst                            movie  release_year  runtime_minutes  \\\n",
       "0  tt0063540                        Sunghursh          2013            175.0   \n",
       "1  tt0066787  One Day Before the Rainy Season          2019            114.0   \n",
       "2  tt0069049       The Other Side of the Wind          2018            122.0   \n",
       "3  tt0069204                  Sabse Bada Sukh          2018             87.0   \n",
       "4  tt0100275         The Wandering Soap Opera          2017             80.0   \n",
       "\n",
       "                 genres  \n",
       "0    Action,Crime,Drama  \n",
       "1       Biography,Drama  \n",
       "2                 Drama  \n",
       "3          Comedy,Drama  \n",
       "4  Comedy,Drama,Fantasy  "
      ]
     },
     "execution_count": 36,
     "metadata": {},
     "output_type": "execute_result"
    }
   ],
   "source": [
    "imdb.head()"
   ]
  },
  {
   "cell_type": "markdown",
   "metadata": {},
   "source": [
    "This dataframe is ready"
   ]
  },
  {
   "cell_type": "markdown",
   "metadata": {},
   "source": [
    "### Join the two dataframes"
   ]
  },
  {
   "cell_type": "code",
   "execution_count": 37,
   "metadata": {},
   "outputs": [
    {
     "data": {
      "text/plain": [
       "5415"
      ]
     },
     "metadata": {},
     "output_type": "display_data"
    },
    {
     "data": {
      "text/plain": [
       "140734"
      ]
     },
     "metadata": {},
     "output_type": "display_data"
    }
   ],
   "source": [
    "# Number of rows for tnmb and imdb DataFrames\n",
    "display(len(tnmb), len(imdb))"
   ]
  },
  {
   "cell_type": "markdown",
   "metadata": {},
   "source": [
    "Is name a unique identifyer?"
   ]
  },
  {
   "cell_type": "code",
   "execution_count": 38,
   "metadata": {},
   "outputs": [
    {
     "data": {
      "text/plain": [
       "76"
      ]
     },
     "execution_count": 38,
     "metadata": {},
     "output_type": "execute_result"
    }
   ],
   "source": [
    "# Number of movies with same name in tnmb\n",
    "len(tnmb[tnmb.duplicated('movie')])"
   ]
  },
  {
   "cell_type": "code",
   "execution_count": 39,
   "metadata": {
    "scrolled": true
   },
   "outputs": [
    {
     "data": {
      "text/plain": [
       "9400"
      ]
     },
     "execution_count": 39,
     "metadata": {},
     "output_type": "execute_result"
    }
   ],
   "source": [
    "# Number of movies with same name in imdb\n",
    "len(imdb[imdb.duplicated('movie')])"
   ]
  },
  {
   "cell_type": "code",
   "execution_count": 40,
   "metadata": {},
   "outputs": [],
   "source": [
    "# Sort tnmb by release year\n",
    "tnmb = tnmb.sort_values('release_year', ascending = False)\n",
    "# Drop duplicates, keep first occurence\n",
    "tnmb = tnmb.drop_duplicates(subset = 'movie', keep = 'first')"
   ]
  },
  {
   "cell_type": "code",
   "execution_count": 41,
   "metadata": {},
   "outputs": [
    {
     "data": {
      "text/html": [
       "<div>\n",
       "<style scoped>\n",
       "    .dataframe tbody tr th:only-of-type {\n",
       "        vertical-align: middle;\n",
       "    }\n",
       "\n",
       "    .dataframe tbody tr th {\n",
       "        vertical-align: top;\n",
       "    }\n",
       "\n",
       "    .dataframe thead th {\n",
       "        text-align: right;\n",
       "    }\n",
       "</style>\n",
       "<table border=\"1\" class=\"dataframe\">\n",
       "  <thead>\n",
       "    <tr style=\"text-align: right;\">\n",
       "      <th></th>\n",
       "      <th>release_date</th>\n",
       "      <th>movie</th>\n",
       "      <th>production_budget</th>\n",
       "      <th>domestic_gross</th>\n",
       "      <th>worldwide_gross</th>\n",
       "      <th>release_year</th>\n",
       "    </tr>\n",
       "  </thead>\n",
       "  <tbody>\n",
       "    <tr>\n",
       "      <td>95</td>\n",
       "      <td>2019-03-08</td>\n",
       "      <td>Captain Marvel</td>\n",
       "      <td>175000000</td>\n",
       "      <td>426525952</td>\n",
       "      <td>1123061550</td>\n",
       "      <td>2019</td>\n",
       "    </tr>\n",
       "    <tr>\n",
       "      <td>1358</td>\n",
       "      <td>2019-05-31</td>\n",
       "      <td>Rocketman</td>\n",
       "      <td>41000000</td>\n",
       "      <td>57342725</td>\n",
       "      <td>108642725</td>\n",
       "      <td>2019</td>\n",
       "    </tr>\n",
       "    <tr>\n",
       "      <td>3814</td>\n",
       "      <td>2019-05-03</td>\n",
       "      <td>The Intruder</td>\n",
       "      <td>8000000</td>\n",
       "      <td>35095904</td>\n",
       "      <td>36005871</td>\n",
       "      <td>2019</td>\n",
       "    </tr>\n",
       "    <tr>\n",
       "      <td>3778</td>\n",
       "      <td>2019-01-16</td>\n",
       "      <td>Dragon Ball Super: Broly</td>\n",
       "      <td>8500000</td>\n",
       "      <td>30376755</td>\n",
       "      <td>122747755</td>\n",
       "      <td>2019</td>\n",
       "    </tr>\n",
       "    <tr>\n",
       "      <td>254</td>\n",
       "      <td>2019-02-22</td>\n",
       "      <td>How to Train Your Dragon: The Hidden World</td>\n",
       "      <td>129000000</td>\n",
       "      <td>160791800</td>\n",
       "      <td>519258283</td>\n",
       "      <td>2019</td>\n",
       "    </tr>\n",
       "  </tbody>\n",
       "</table>\n",
       "</div>"
      ],
      "text/plain": [
       "     release_date                                       movie  \\\n",
       "95     2019-03-08                              Captain Marvel   \n",
       "1358   2019-05-31                                   Rocketman   \n",
       "3814   2019-05-03                                The Intruder   \n",
       "3778   2019-01-16                    Dragon Ball Super: Broly   \n",
       "254    2019-02-22  How to Train Your Dragon: The Hidden World   \n",
       "\n",
       "      production_budget  domestic_gross  worldwide_gross  release_year  \n",
       "95            175000000       426525952       1123061550          2019  \n",
       "1358           41000000        57342725        108642725          2019  \n",
       "3814            8000000        35095904         36005871          2019  \n",
       "3778            8500000        30376755        122747755          2019  \n",
       "254           129000000       160791800        519258283          2019  "
      ]
     },
     "execution_count": 41,
     "metadata": {},
     "output_type": "execute_result"
    }
   ],
   "source": [
    "tnmb.head()"
   ]
  },
  {
   "cell_type": "code",
   "execution_count": 42,
   "metadata": {
    "scrolled": false
   },
   "outputs": [
    {
     "data": {
      "text/html": [
       "<div>\n",
       "<style scoped>\n",
       "    .dataframe tbody tr th:only-of-type {\n",
       "        vertical-align: middle;\n",
       "    }\n",
       "\n",
       "    .dataframe tbody tr th {\n",
       "        vertical-align: top;\n",
       "    }\n",
       "\n",
       "    .dataframe thead th {\n",
       "        text-align: right;\n",
       "    }\n",
       "</style>\n",
       "<table border=\"1\" class=\"dataframe\">\n",
       "  <thead>\n",
       "    <tr style=\"text-align: right;\">\n",
       "      <th></th>\n",
       "      <th>release_date</th>\n",
       "      <th>movie</th>\n",
       "      <th>production_budget</th>\n",
       "      <th>domestic_gross</th>\n",
       "      <th>worldwide_gross</th>\n",
       "      <th>release_year</th>\n",
       "    </tr>\n",
       "  </thead>\n",
       "  <tbody>\n",
       "    <tr>\n",
       "      <td>140</td>\n",
       "      <td>2014-05-16</td>\n",
       "      <td>Godzilla</td>\n",
       "      <td>160000000</td>\n",
       "      <td>200676069</td>\n",
       "      <td>529076069</td>\n",
       "      <td>2014</td>\n",
       "    </tr>\n",
       "  </tbody>\n",
       "</table>\n",
       "</div>"
      ],
      "text/plain": [
       "    release_date     movie  production_budget  domestic_gross  \\\n",
       "140   2014-05-16  Godzilla          160000000       200676069   \n",
       "\n",
       "     worldwide_gross  release_year  \n",
       "140        529076069          2014  "
      ]
     },
     "execution_count": 42,
     "metadata": {},
     "output_type": "execute_result"
    }
   ],
   "source": [
    "# Check using Godzilla\n",
    "tnmb[tnmb['movie'] == 'Godzilla']"
   ]
  },
  {
   "cell_type": "code",
   "execution_count": 43,
   "metadata": {},
   "outputs": [],
   "source": [
    "# Sort imdb by release date\n",
    "imdb = imdb.sort_values('release_year', ascending = False)\n",
    "# Drop duplicates, keep first occurence\n",
    "imdb = imdb.drop_duplicates(subset = 'movie', keep = 'first')"
   ]
  },
  {
   "cell_type": "code",
   "execution_count": 44,
   "metadata": {},
   "outputs": [],
   "source": [
    "# Drop release_year \n",
    "imdb = imdb.drop('release_year', axis = 1)"
   ]
  },
  {
   "cell_type": "code",
   "execution_count": 45,
   "metadata": {},
   "outputs": [
    {
     "data": {
      "text/html": [
       "<div>\n",
       "<style scoped>\n",
       "    .dataframe tbody tr th:only-of-type {\n",
       "        vertical-align: middle;\n",
       "    }\n",
       "\n",
       "    .dataframe tbody tr th {\n",
       "        vertical-align: top;\n",
       "    }\n",
       "\n",
       "    .dataframe thead th {\n",
       "        text-align: right;\n",
       "    }\n",
       "</style>\n",
       "<table border=\"1\" class=\"dataframe\">\n",
       "  <thead>\n",
       "    <tr style=\"text-align: right;\">\n",
       "      <th></th>\n",
       "      <th>tconst</th>\n",
       "      <th>movie</th>\n",
       "      <th>runtime_minutes</th>\n",
       "      <th>genres</th>\n",
       "    </tr>\n",
       "  </thead>\n",
       "  <tbody>\n",
       "    <tr>\n",
       "      <td>89506</td>\n",
       "      <td>tt5174640</td>\n",
       "      <td>100 Years</td>\n",
       "      <td>87.0</td>\n",
       "      <td>Drama</td>\n",
       "    </tr>\n",
       "    <tr>\n",
       "      <td>96592</td>\n",
       "      <td>tt5637536</td>\n",
       "      <td>Avatar 5</td>\n",
       "      <td>87.0</td>\n",
       "      <td>Action,Adventure,Fantasy</td>\n",
       "    </tr>\n",
       "    <tr>\n",
       "      <td>2949</td>\n",
       "      <td>tt10300398</td>\n",
       "      <td>Untitled Star Wars Film</td>\n",
       "      <td>87.0</td>\n",
       "      <td>Fantasy</td>\n",
       "    </tr>\n",
       "    <tr>\n",
       "      <td>52213</td>\n",
       "      <td>tt3095356</td>\n",
       "      <td>Avatar 4</td>\n",
       "      <td>87.0</td>\n",
       "      <td>Action,Adventure,Fantasy</td>\n",
       "    </tr>\n",
       "    <tr>\n",
       "      <td>105187</td>\n",
       "      <td>tt6149054</td>\n",
       "      <td>Fantastic Beasts and Where to Find Them 5</td>\n",
       "      <td>87.0</td>\n",
       "      <td>Adventure,Family,Fantasy</td>\n",
       "    </tr>\n",
       "  </tbody>\n",
       "</table>\n",
       "</div>"
      ],
      "text/plain": [
       "            tconst                                      movie  \\\n",
       "89506    tt5174640                                  100 Years   \n",
       "96592    tt5637536                                   Avatar 5   \n",
       "2949    tt10300398                    Untitled Star Wars Film   \n",
       "52213    tt3095356                                   Avatar 4   \n",
       "105187   tt6149054  Fantastic Beasts and Where to Find Them 5   \n",
       "\n",
       "        runtime_minutes                    genres  \n",
       "89506              87.0                     Drama  \n",
       "96592              87.0  Action,Adventure,Fantasy  \n",
       "2949               87.0                   Fantasy  \n",
       "52213              87.0  Action,Adventure,Fantasy  \n",
       "105187             87.0  Adventure,Family,Fantasy  "
      ]
     },
     "execution_count": 45,
     "metadata": {},
     "output_type": "execute_result"
    }
   ],
   "source": [
    "imdb.head()"
   ]
  },
  {
   "cell_type": "code",
   "execution_count": 46,
   "metadata": {},
   "outputs": [],
   "source": [
    "# merge imdb and tnmb\n",
    "movies = pd.merge(tnmb, imdb, on = ['movie'])"
   ]
  },
  {
   "cell_type": "code",
   "execution_count": 47,
   "metadata": {
    "scrolled": false
   },
   "outputs": [
    {
     "data": {
      "text/html": [
       "<div>\n",
       "<style scoped>\n",
       "    .dataframe tbody tr th:only-of-type {\n",
       "        vertical-align: middle;\n",
       "    }\n",
       "\n",
       "    .dataframe tbody tr th {\n",
       "        vertical-align: top;\n",
       "    }\n",
       "\n",
       "    .dataframe thead th {\n",
       "        text-align: right;\n",
       "    }\n",
       "</style>\n",
       "<table border=\"1\" class=\"dataframe\">\n",
       "  <thead>\n",
       "    <tr style=\"text-align: right;\">\n",
       "      <th></th>\n",
       "      <th>release_date</th>\n",
       "      <th>movie</th>\n",
       "      <th>production_budget</th>\n",
       "      <th>domestic_gross</th>\n",
       "      <th>worldwide_gross</th>\n",
       "      <th>release_year</th>\n",
       "      <th>tconst</th>\n",
       "      <th>runtime_minutes</th>\n",
       "      <th>genres</th>\n",
       "    </tr>\n",
       "  </thead>\n",
       "  <tbody>\n",
       "    <tr>\n",
       "      <td>0</td>\n",
       "      <td>2019-03-08</td>\n",
       "      <td>Captain Marvel</td>\n",
       "      <td>175000000</td>\n",
       "      <td>426525952</td>\n",
       "      <td>1123061550</td>\n",
       "      <td>2019</td>\n",
       "      <td>tt4154664</td>\n",
       "      <td>123.0</td>\n",
       "      <td>Action,Adventure,Sci-Fi</td>\n",
       "    </tr>\n",
       "    <tr>\n",
       "      <td>1</td>\n",
       "      <td>2019-05-31</td>\n",
       "      <td>Rocketman</td>\n",
       "      <td>41000000</td>\n",
       "      <td>57342725</td>\n",
       "      <td>108642725</td>\n",
       "      <td>2019</td>\n",
       "      <td>tt2066051</td>\n",
       "      <td>121.0</td>\n",
       "      <td>Biography,Drama,Music</td>\n",
       "    </tr>\n",
       "    <tr>\n",
       "      <td>2</td>\n",
       "      <td>2019-05-03</td>\n",
       "      <td>The Intruder</td>\n",
       "      <td>8000000</td>\n",
       "      <td>35095904</td>\n",
       "      <td>36005871</td>\n",
       "      <td>2019</td>\n",
       "      <td>tt6722030</td>\n",
       "      <td>102.0</td>\n",
       "      <td>Drama,Horror,Mystery</td>\n",
       "    </tr>\n",
       "    <tr>\n",
       "      <td>3</td>\n",
       "      <td>2019-01-16</td>\n",
       "      <td>Dragon Ball Super: Broly</td>\n",
       "      <td>8500000</td>\n",
       "      <td>30376755</td>\n",
       "      <td>122747755</td>\n",
       "      <td>2019</td>\n",
       "      <td>tt7961060</td>\n",
       "      <td>100.0</td>\n",
       "      <td>Action,Adventure,Animation</td>\n",
       "    </tr>\n",
       "    <tr>\n",
       "      <td>4</td>\n",
       "      <td>2019-02-22</td>\n",
       "      <td>How to Train Your Dragon: The Hidden World</td>\n",
       "      <td>129000000</td>\n",
       "      <td>160791800</td>\n",
       "      <td>519258283</td>\n",
       "      <td>2019</td>\n",
       "      <td>tt2386490</td>\n",
       "      <td>104.0</td>\n",
       "      <td>Action,Adventure,Animation</td>\n",
       "    </tr>\n",
       "    <tr>\n",
       "      <td>...</td>\n",
       "      <td>...</td>\n",
       "      <td>...</td>\n",
       "      <td>...</td>\n",
       "      <td>...</td>\n",
       "      <td>...</td>\n",
       "      <td>...</td>\n",
       "      <td>...</td>\n",
       "      <td>...</td>\n",
       "      <td>...</td>\n",
       "    </tr>\n",
       "    <tr>\n",
       "      <td>2079</td>\n",
       "      <td>1942-08-13</td>\n",
       "      <td>Bambi</td>\n",
       "      <td>858000</td>\n",
       "      <td>102797000</td>\n",
       "      <td>268000000</td>\n",
       "      <td>1942</td>\n",
       "      <td>tt2668120</td>\n",
       "      <td>58.0</td>\n",
       "      <td>Biography,Documentary</td>\n",
       "    </tr>\n",
       "    <tr>\n",
       "      <td>2080</td>\n",
       "      <td>1940-11-13</td>\n",
       "      <td>Fantasia</td>\n",
       "      <td>2280000</td>\n",
       "      <td>83320000</td>\n",
       "      <td>83320000</td>\n",
       "      <td>1940</td>\n",
       "      <td>tt3591950</td>\n",
       "      <td>86.0</td>\n",
       "      <td>Drama</td>\n",
       "    </tr>\n",
       "    <tr>\n",
       "      <td>2081</td>\n",
       "      <td>1940-03-21</td>\n",
       "      <td>Rebecca</td>\n",
       "      <td>1288000</td>\n",
       "      <td>6000000</td>\n",
       "      <td>6002370</td>\n",
       "      <td>1940</td>\n",
       "      <td>tt10430534</td>\n",
       "      <td>87.0</td>\n",
       "      <td>Horror</td>\n",
       "    </tr>\n",
       "    <tr>\n",
       "      <td>2082</td>\n",
       "      <td>1937-12-21</td>\n",
       "      <td>Snow White and the Seven Dwarfs</td>\n",
       "      <td>1488000</td>\n",
       "      <td>184925486</td>\n",
       "      <td>184925486</td>\n",
       "      <td>1937</td>\n",
       "      <td>tt7821084</td>\n",
       "      <td>49.0</td>\n",
       "      <td>Animation,Family</td>\n",
       "    </tr>\n",
       "    <tr>\n",
       "      <td>2083</td>\n",
       "      <td>1931-12-26</td>\n",
       "      <td>Mata Hari</td>\n",
       "      <td>558000</td>\n",
       "      <td>900000</td>\n",
       "      <td>900000</td>\n",
       "      <td>1931</td>\n",
       "      <td>tt8788464</td>\n",
       "      <td>87.0</td>\n",
       "      <td>Biography</td>\n",
       "    </tr>\n",
       "  </tbody>\n",
       "</table>\n",
       "<p>2084 rows × 9 columns</p>\n",
       "</div>"
      ],
      "text/plain": [
       "     release_date                                       movie  \\\n",
       "0      2019-03-08                              Captain Marvel   \n",
       "1      2019-05-31                                   Rocketman   \n",
       "2      2019-05-03                                The Intruder   \n",
       "3      2019-01-16                    Dragon Ball Super: Broly   \n",
       "4      2019-02-22  How to Train Your Dragon: The Hidden World   \n",
       "...           ...                                         ...   \n",
       "2079   1942-08-13                                       Bambi   \n",
       "2080   1940-11-13                                    Fantasia   \n",
       "2081   1940-03-21                                     Rebecca   \n",
       "2082   1937-12-21             Snow White and the Seven Dwarfs   \n",
       "2083   1931-12-26                                   Mata Hari   \n",
       "\n",
       "      production_budget  domestic_gross  worldwide_gross  release_year  \\\n",
       "0             175000000       426525952       1123061550          2019   \n",
       "1              41000000        57342725        108642725          2019   \n",
       "2               8000000        35095904         36005871          2019   \n",
       "3               8500000        30376755        122747755          2019   \n",
       "4             129000000       160791800        519258283          2019   \n",
       "...                 ...             ...              ...           ...   \n",
       "2079             858000       102797000        268000000          1942   \n",
       "2080            2280000        83320000         83320000          1940   \n",
       "2081            1288000         6000000          6002370          1940   \n",
       "2082            1488000       184925486        184925486          1937   \n",
       "2083             558000          900000           900000          1931   \n",
       "\n",
       "          tconst  runtime_minutes                      genres  \n",
       "0      tt4154664            123.0     Action,Adventure,Sci-Fi  \n",
       "1      tt2066051            121.0       Biography,Drama,Music  \n",
       "2      tt6722030            102.0        Drama,Horror,Mystery  \n",
       "3      tt7961060            100.0  Action,Adventure,Animation  \n",
       "4      tt2386490            104.0  Action,Adventure,Animation  \n",
       "...          ...              ...                         ...  \n",
       "2079   tt2668120             58.0       Biography,Documentary  \n",
       "2080   tt3591950             86.0                       Drama  \n",
       "2081  tt10430534             87.0                      Horror  \n",
       "2082   tt7821084             49.0            Animation,Family  \n",
       "2083   tt8788464             87.0                   Biography  \n",
       "\n",
       "[2084 rows x 9 columns]"
      ]
     },
     "execution_count": 47,
     "metadata": {},
     "output_type": "execute_result"
    }
   ],
   "source": [
    "movies"
   ]
  },
  {
   "cell_type": "markdown",
   "metadata": {},
   "source": [
    "<p style=\"color:red\">TBD: Additional Data - webs scraping to look at franchise</p>"
   ]
  },
  {
   "cell_type": "markdown",
   "metadata": {},
   "source": [
    "## Netflix data"
   ]
  },
  {
   "cell_type": "markdown",
   "metadata": {},
   "source": [
    "https://en.wikipedia.org/wiki/List_of_original_films_distributed_by_Netflix"
   ]
  },
  {
   "cell_type": "markdown",
   "metadata": {},
   "source": [
    "### Web scraping"
   ]
  },
  {
   "cell_type": "code",
   "execution_count": 48,
   "metadata": {},
   "outputs": [
    {
     "data": {
      "text/plain": [
       "11"
      ]
     },
     "execution_count": 48,
     "metadata": {},
     "output_type": "execute_result"
    }
   ],
   "source": [
    "# Obtain details of highest grossing franchises\n",
    "url = requests.get('https://en.wikipedia.org/wiki/List_of_original_films_distributed_by_Netflix')\n",
    "soup = BeautifulSoup(url.content, 'html.parser')\n",
    "\n",
    "# Look for tables on wikipedia page\n",
    "tables = list(soup.findAll('table', {'class':'wikitable sortable'}))\n",
    "len(tables)"
   ]
  },
  {
   "cell_type": "code",
   "execution_count": 49,
   "metadata": {
    "scrolled": true
   },
   "outputs": [
    {
     "data": {
      "text/plain": [
       "<tr>\n",
       "<td><i><a href=\"/wiki/Beasts_of_No_Nation_(film)\" title=\"Beasts of No Nation (film)\">Beasts of No Nation</a></i>\n",
       "</td>\n",
       "<td><a href=\"/wiki/War_film\" title=\"War film\">War</a>/<a href=\"/wiki/Drama_(film_and_television)\" title=\"Drama (film and television)\">drama</a>\n",
       "</td>\n",
       "<td><span data-sort-value=\"000000002015-10-16-0000\" style=\"white-space:nowrap\">October 16, 2015</span>\n",
       "</td>\n",
       "<td><span data-sort-value=\"136 !\">2 hours, 16 min.</span>\n",
       "</td>\n",
       "<td>English/Twi\n",
       "</td></tr>"
      ]
     },
     "execution_count": 49,
     "metadata": {},
     "output_type": "execute_result"
    }
   ],
   "source": [
    "# Look at first table\n",
    "table = tables[0]\n",
    "\n",
    "# Seperate each entry in the table - start as 1 as 0 is just header\n",
    "entries = table.findAll('tr')[1:]\n",
    "\n",
    "# Investigate first entry\n",
    "entry = entries[0]\n",
    "entry"
   ]
  },
  {
   "cell_type": "code",
   "execution_count": 50,
   "metadata": {},
   "outputs": [
    {
     "data": {
      "text/plain": [
       "['Beasts of No Nation',\n",
       " 'War/drama',\n",
       " 'October 16, 2015',\n",
       " '2 hours, 16 min.',\n",
       " 'English/Twi']"
      ]
     },
     "execution_count": 50,
     "metadata": {},
     "output_type": "execute_result"
    }
   ],
   "source": [
    "# Extract text\n",
    "text = entry.text.strip().split('\\n\\n')\n",
    "text"
   ]
  },
  {
   "cell_type": "code",
   "execution_count": 51,
   "metadata": {
    "scrolled": true
   },
   "outputs": [
    {
     "data": {
      "text/plain": [
       "136"
      ]
     },
     "execution_count": 51,
     "metadata": {},
     "output_type": "execute_result"
    }
   ],
   "source": [
    "# Work on length to get runtime in mins\n",
    "hours = entry.text.strip().split('\\n\\n')[3].split()[0]\n",
    "mins = entry.text.strip().split('\\n\\n')[3].split()[2]\n",
    "runtimemins = int(hours)*60+int(mins)\n",
    "runtimemins"
   ]
  },
  {
   "cell_type": "code",
   "execution_count": 52,
   "metadata": {},
   "outputs": [],
   "source": [
    "# Create list of runtimes in mins\n",
    "netflixruntimes = []\n",
    "for entry in entries:\n",
    "    hours = entry.text.strip().split('\\n\\n')[3].split()[0]\n",
    "    try:\n",
    "        mins = entry.text.strip().split('\\n\\n')[3].split()[2]\n",
    "        runtimemins = int(hours)*60+int(mins)\n",
    "        netflixruntimes.append(runtimemins)\n",
    "    except:\n",
    "        runtimemins = int(hours)*60\n",
    "        netflixruntimes.append(runtimemins)   "
   ]
  },
  {
   "cell_type": "code",
   "execution_count": 53,
   "metadata": {},
   "outputs": [],
   "source": [
    "# Create other lists \n",
    "netflixmovies = [entry.text.strip().split('\\n\\n')[0] for entry in entries]\n",
    "netflixgenres = [entry.text.strip().split('\\n\\n')[1] for entry in entries]\n",
    "netflixpremier_dates = [entry.text.strip().split('\\n\\n')[2] for entry in entries]\n",
    "netflixlanguages = [entry.text.strip().split('\\n\\n')[4] for entry in entries]"
   ]
  },
  {
   "cell_type": "code",
   "execution_count": 54,
   "metadata": {
    "scrolled": true
   },
   "outputs": [
    {
     "data": {
      "text/html": [
       "<div>\n",
       "<style scoped>\n",
       "    .dataframe tbody tr th:only-of-type {\n",
       "        vertical-align: middle;\n",
       "    }\n",
       "\n",
       "    .dataframe tbody tr th {\n",
       "        vertical-align: top;\n",
       "    }\n",
       "\n",
       "    .dataframe thead th {\n",
       "        text-align: right;\n",
       "    }\n",
       "</style>\n",
       "<table border=\"1\" class=\"dataframe\">\n",
       "  <thead>\n",
       "    <tr style=\"text-align: right;\">\n",
       "      <th></th>\n",
       "      <th>movie</th>\n",
       "      <th>genre</th>\n",
       "      <th>release_date</th>\n",
       "      <th>runtime_minutes</th>\n",
       "      <th>language</th>\n",
       "    </tr>\n",
       "  </thead>\n",
       "  <tbody>\n",
       "    <tr>\n",
       "      <td>0</td>\n",
       "      <td>Beasts of No Nation</td>\n",
       "      <td>War/drama</td>\n",
       "      <td>October 16, 2015</td>\n",
       "      <td>136</td>\n",
       "      <td>English/Twi</td>\n",
       "    </tr>\n",
       "    <tr>\n",
       "      <td>1</td>\n",
       "      <td>The Ridiculous 6</td>\n",
       "      <td>Western</td>\n",
       "      <td>December 11, 2015</td>\n",
       "      <td>119</td>\n",
       "      <td>English</td>\n",
       "    </tr>\n",
       "    <tr>\n",
       "      <td>2</td>\n",
       "      <td>Crouching Tiger, Hidden Dragon: Sword of Destiny</td>\n",
       "      <td>Action</td>\n",
       "      <td>February 26, 2016</td>\n",
       "      <td>103</td>\n",
       "      <td>English</td>\n",
       "    </tr>\n",
       "    <tr>\n",
       "      <td>3</td>\n",
       "      <td>Pee-wee's Big Holiday</td>\n",
       "      <td>Adventure</td>\n",
       "      <td>March 18, 2016</td>\n",
       "      <td>89</td>\n",
       "      <td>English</td>\n",
       "    </tr>\n",
       "    <tr>\n",
       "      <td>4</td>\n",
       "      <td>Special Correspondents</td>\n",
       "      <td>Satire</td>\n",
       "      <td>April 29, 2016</td>\n",
       "      <td>100</td>\n",
       "      <td>English</td>\n",
       "    </tr>\n",
       "  </tbody>\n",
       "</table>\n",
       "</div>"
      ],
      "text/plain": [
       "                                              movie      genre  \\\n",
       "0                               Beasts of No Nation  War/drama   \n",
       "1                                  The Ridiculous 6    Western   \n",
       "2  Crouching Tiger, Hidden Dragon: Sword of Destiny     Action   \n",
       "3                             Pee-wee's Big Holiday  Adventure   \n",
       "4                            Special Correspondents     Satire   \n",
       "\n",
       "        release_date runtime_minutes     language  \n",
       "0   October 16, 2015             136  English/Twi  \n",
       "1  December 11, 2015             119      English  \n",
       "2  February 26, 2016             103      English  \n",
       "3     March 18, 2016              89      English  \n",
       "4     April 29, 2016             100      English  "
      ]
     },
     "execution_count": 54,
     "metadata": {},
     "output_type": "execute_result"
    }
   ],
   "source": [
    "# Create dataframe from lists\n",
    "netflixdf = pd.DataFrame([netflixmovies, netflixgenres, netflixpremier_dates, netflixruntimes, netflixlanguages]).transpose()\n",
    "netflixdf.columns = ['movie', 'genre', 'release_date', 'runtime_minutes', 'language']\n",
    "netflixdf.head()"
   ]
  },
  {
   "cell_type": "markdown",
   "metadata": {},
   "source": [
    "### Data cleaning"
   ]
  },
  {
   "cell_type": "code",
   "execution_count": 55,
   "metadata": {},
   "outputs": [
    {
     "data": {
      "text/html": [
       "<div>\n",
       "<style scoped>\n",
       "    .dataframe tbody tr th:only-of-type {\n",
       "        vertical-align: middle;\n",
       "    }\n",
       "\n",
       "    .dataframe tbody tr th {\n",
       "        vertical-align: top;\n",
       "    }\n",
       "\n",
       "    .dataframe thead th {\n",
       "        text-align: right;\n",
       "    }\n",
       "</style>\n",
       "<table border=\"1\" class=\"dataframe\">\n",
       "  <thead>\n",
       "    <tr style=\"text-align: right;\">\n",
       "      <th></th>\n",
       "      <th>movie</th>\n",
       "      <th>genre</th>\n",
       "      <th>release_date</th>\n",
       "      <th>runtime_minutes</th>\n",
       "      <th>language</th>\n",
       "    </tr>\n",
       "  </thead>\n",
       "  <tbody>\n",
       "    <tr>\n",
       "      <td>0</td>\n",
       "      <td>Beasts of No Nation</td>\n",
       "      <td>War/drama</td>\n",
       "      <td>October 16, 2015</td>\n",
       "      <td>136</td>\n",
       "      <td>English/Twi</td>\n",
       "    </tr>\n",
       "    <tr>\n",
       "      <td>1</td>\n",
       "      <td>The Ridiculous 6</td>\n",
       "      <td>Western</td>\n",
       "      <td>December 11, 2015</td>\n",
       "      <td>119</td>\n",
       "      <td>English</td>\n",
       "    </tr>\n",
       "    <tr>\n",
       "      <td>2</td>\n",
       "      <td>Crouching Tiger, Hidden Dragon: Sword of Destiny</td>\n",
       "      <td>Action</td>\n",
       "      <td>February 26, 2016</td>\n",
       "      <td>103</td>\n",
       "      <td>English</td>\n",
       "    </tr>\n",
       "    <tr>\n",
       "      <td>3</td>\n",
       "      <td>Pee-wee's Big Holiday</td>\n",
       "      <td>Adventure</td>\n",
       "      <td>March 18, 2016</td>\n",
       "      <td>89</td>\n",
       "      <td>English</td>\n",
       "    </tr>\n",
       "    <tr>\n",
       "      <td>4</td>\n",
       "      <td>Special Correspondents</td>\n",
       "      <td>Satire</td>\n",
       "      <td>April 29, 2016</td>\n",
       "      <td>100</td>\n",
       "      <td>English</td>\n",
       "    </tr>\n",
       "  </tbody>\n",
       "</table>\n",
       "</div>"
      ],
      "text/plain": [
       "                                              movie      genre  \\\n",
       "0                               Beasts of No Nation  War/drama   \n",
       "1                                  The Ridiculous 6    Western   \n",
       "2  Crouching Tiger, Hidden Dragon: Sword of Destiny     Action   \n",
       "3                             Pee-wee's Big Holiday  Adventure   \n",
       "4                            Special Correspondents     Satire   \n",
       "\n",
       "        release_date runtime_minutes     language  \n",
       "0   October 16, 2015             136  English/Twi  \n",
       "1  December 11, 2015             119      English  \n",
       "2  February 26, 2016             103      English  \n",
       "3     March 18, 2016              89      English  \n",
       "4     April 29, 2016             100      English  "
      ]
     },
     "execution_count": 55,
     "metadata": {},
     "output_type": "execute_result"
    }
   ],
   "source": [
    "# View head\n",
    "netflixdf.head()"
   ]
  },
  {
   "cell_type": "code",
   "execution_count": 56,
   "metadata": {},
   "outputs": [
    {
     "name": "stdout",
     "output_type": "stream",
     "text": [
      "<class 'pandas.core.frame.DataFrame'>\n",
      "RangeIndex: 203 entries, 0 to 202\n",
      "Data columns (total 5 columns):\n",
      "movie              203 non-null object\n",
      "genre              203 non-null object\n",
      "release_date       203 non-null object\n",
      "runtime_minutes    203 non-null object\n",
      "language           203 non-null object\n",
      "dtypes: object(5)\n",
      "memory usage: 8.1+ KB\n"
     ]
    }
   ],
   "source": [
    "# Get Summary\n",
    "netflixdf.info()"
   ]
  },
  {
   "cell_type": "code",
   "execution_count": 57,
   "metadata": {},
   "outputs": [],
   "source": [
    "# Convert release_date to a datetime object\n",
    "netflixdf['release_date'] = pd.to_datetime(netflixdf['release_date'])"
   ]
  },
  {
   "cell_type": "code",
   "execution_count": 58,
   "metadata": {},
   "outputs": [],
   "source": [
    "# Convert runtime to int\n",
    "netflixdf['runtime_minutes'] = netflixdf['runtime_minutes'].astype(int)"
   ]
  },
  {
   "cell_type": "code",
   "execution_count": 59,
   "metadata": {},
   "outputs": [
    {
     "name": "stdout",
     "output_type": "stream",
     "text": [
      "<class 'pandas.core.frame.DataFrame'>\n",
      "RangeIndex: 203 entries, 0 to 202\n",
      "Data columns (total 5 columns):\n",
      "movie              203 non-null object\n",
      "genre              203 non-null object\n",
      "release_date       203 non-null datetime64[ns]\n",
      "runtime_minutes    203 non-null int64\n",
      "language           203 non-null object\n",
      "dtypes: datetime64[ns](1), int64(1), object(3)\n",
      "memory usage: 8.1+ KB\n"
     ]
    }
   ],
   "source": [
    "netflixdf.info()"
   ]
  },
  {
   "cell_type": "markdown",
   "metadata": {},
   "source": [
    "## Franchises data"
   ]
  },
  {
   "cell_type": "markdown",
   "metadata": {},
   "source": [
    "<p style=\"color:red\">Interested in franchises as many if not most have Movie element and way for Microsoft to utilise existing IP.\n",
    "Introduce Wiki page</p>"
   ]
  },
  {
   "cell_type": "markdown",
   "metadata": {},
   "source": [
    "### Web scraping"
   ]
  },
  {
   "cell_type": "code",
   "execution_count": 60,
   "metadata": {},
   "outputs": [
    {
     "data": {
      "text/plain": [
       "2"
      ]
     },
     "execution_count": 60,
     "metadata": {},
     "output_type": "execute_result"
    }
   ],
   "source": [
    "#Obtain details of highest grossing franchises\n",
    "url = requests.get('https://en.wikipedia.org/wiki/List_of_highest-grossing_media_franchises')\n",
    "soup = BeautifulSoup(url.content, 'html.parser')\n",
    "\n",
    "# Look for tables on wikipedia page.\n",
    "tables = list(soup.findAll('table', {'class':'wikitable sortable'}))\n",
    "len(tables)"
   ]
  },
  {
   "cell_type": "code",
   "execution_count": 61,
   "metadata": {
    "scrolled": true
   },
   "outputs": [
    {
     "name": "stdout",
     "output_type": "stream",
     "text": [
      "Name: Pokémon, Revenue: est. $95 billion, Original media : Video game, Owner: Nintendo (trademark)  The Pokémon Company  (Nintendo, Game Freak, Creatures) (copyright)\n"
     ]
    }
   ],
   "source": [
    "# Look at first table, franchises over $10 billion\n",
    "table10bil = tables[0]\n",
    "\n",
    "# Seperate each entry in the table - start as 1 as 0 is just header\n",
    "entries = table10bil.findAll('tr')[1:]\n",
    "\n",
    "# Investigate first entry\n",
    "entry = entries[0]\n",
    "\n",
    "# Extract info\n",
    "name = entry.findAll('td')[1].text.strip()\n",
    "revenue = entry.findAll('td')[3].text.strip().replace(\"\\n\",\"\")\n",
    "originalmedia = entry.findAll('td')[5].text.replace(\"\\n\",\"\")\n",
    "owner = entry.findAll('td')[7].text.replace(\"\\n\",\"\")\n",
    "print(f\"Name: {name}, Revenue: {revenue}, Original media : {originalmedia}, Owner: {owner}\")"
   ]
  },
  {
   "cell_type": "code",
   "execution_count": 62,
   "metadata": {},
   "outputs": [],
   "source": [
    "# Create lists \n",
    "names = [entry.findAll('td')[1].text.strip() for entry in entries]\n",
    "revenues = [entry.findAll('td')[3].text.strip().replace(\"\\n\",\"\") for entry in entries]\n",
    "originalmedias = [entry.findAll('td')[5].text.replace(\"\\n\",\"\") for entry in entries]\n",
    "owners = [entry.findAll('td')[7].text.replace(\"\\n\",\"\") for entry in entries]"
   ]
  },
  {
   "cell_type": "code",
   "execution_count": 63,
   "metadata": {},
   "outputs": [
    {
     "data": {
      "text/html": [
       "<div>\n",
       "<style scoped>\n",
       "    .dataframe tbody tr th:only-of-type {\n",
       "        vertical-align: middle;\n",
       "    }\n",
       "\n",
       "    .dataframe tbody tr th {\n",
       "        vertical-align: top;\n",
       "    }\n",
       "\n",
       "    .dataframe thead th {\n",
       "        text-align: right;\n",
       "    }\n",
       "</style>\n",
       "<table border=\"1\" class=\"dataframe\">\n",
       "  <thead>\n",
       "    <tr style=\"text-align: right;\">\n",
       "      <th></th>\n",
       "      <th>Name</th>\n",
       "      <th>Revenue</th>\n",
       "      <th>Original Media</th>\n",
       "      <th>Owner</th>\n",
       "    </tr>\n",
       "  </thead>\n",
       "  <tbody>\n",
       "    <tr>\n",
       "      <td>0</td>\n",
       "      <td>Pokémon</td>\n",
       "      <td>est. $95 billion</td>\n",
       "      <td>Video game</td>\n",
       "      <td>Nintendo (trademark)  The Pokémon Company  (Ni...</td>\n",
       "    </tr>\n",
       "    <tr>\n",
       "      <td>1</td>\n",
       "      <td>Hello Kitty</td>\n",
       "      <td>est. $86 billion</td>\n",
       "      <td>Cartoon character[38]</td>\n",
       "      <td>Sanrio</td>\n",
       "    </tr>\n",
       "    <tr>\n",
       "      <td>2</td>\n",
       "      <td>Winnie the Pooh</td>\n",
       "      <td>est. $76 billion</td>\n",
       "      <td>Book[59]</td>\n",
       "      <td>The Walt Disney Company</td>\n",
       "    </tr>\n",
       "    <tr>\n",
       "      <td>3</td>\n",
       "      <td>Mickey Mouse &amp; Friends</td>\n",
       "      <td>est. $74 billion</td>\n",
       "      <td>Animated cartoon</td>\n",
       "      <td>The Walt Disney Company</td>\n",
       "    </tr>\n",
       "    <tr>\n",
       "      <td>4</td>\n",
       "      <td>Star Wars</td>\n",
       "      <td>est. $70 billion</td>\n",
       "      <td>Film</td>\n",
       "      <td>Lucasfilm  (The Walt Disney Company)</td>\n",
       "    </tr>\n",
       "  </tbody>\n",
       "</table>\n",
       "</div>"
      ],
      "text/plain": [
       "                     Name           Revenue         Original Media  \\\n",
       "0                 Pokémon  est. $95 billion             Video game   \n",
       "1             Hello Kitty  est. $86 billion  Cartoon character[38]   \n",
       "2         Winnie the Pooh  est. $76 billion               Book[59]   \n",
       "3  Mickey Mouse & Friends  est. $74 billion       Animated cartoon   \n",
       "4               Star Wars  est. $70 billion                   Film   \n",
       "\n",
       "                                               Owner  \n",
       "0  Nintendo (trademark)  The Pokémon Company  (Ni...  \n",
       "1                                             Sanrio  \n",
       "2                            The Walt Disney Company  \n",
       "3                            The Walt Disney Company  \n",
       "4               Lucasfilm  (The Walt Disney Company)  "
      ]
     },
     "execution_count": 63,
     "metadata": {},
     "output_type": "execute_result"
    }
   ],
   "source": [
    "# Create dataframe from lists\n",
    "df_franchisesover10b = pd.DataFrame([names, revenues, originalmedias, owners]).transpose()\n",
    "df_franchisesover10b.columns = ['Name', 'Revenue', 'Original Media', 'Owner']\n",
    "df_franchisesover10b.head()"
   ]
  },
  {
   "cell_type": "code",
   "execution_count": 64,
   "metadata": {},
   "outputs": [
    {
     "name": "stdout",
     "output_type": "stream",
     "text": [
      "Name: Grand Theft Auto, Revenue: est. $9.99 billion, Original media : Video game, Owner: Rockstar Games  (Take-Two Interactive)\n"
     ]
    }
   ],
   "source": [
    "# Do the same process to extract the second table\n",
    "table4bil = tables[1]\n",
    "\n",
    "# Seperate each entry in the table - start as 1 as 0 is just header\n",
    "entries = table4bil.findAll('tr')[1:]\n",
    "\n",
    "# Investigate first entry\n",
    "entry = entries[0]\n",
    "\n",
    "name = entry.findAll('td')[0].text.strip()\n",
    "revenue = entry.findAll('td')[2].text.strip().replace(\"\\n\",\"\")\n",
    "originalmedia = entry.findAll('td')[4].text.replace(\"\\n\",\"\")\n",
    "owner = entry.findAll('td')[6].text.replace(\"\\n\",\"\")\n",
    "print(f\"Name: {name}, Revenue: {revenue}, Original media : {originalmedia}, Owner: {owner}\")"
   ]
  },
  {
   "cell_type": "code",
   "execution_count": 65,
   "metadata": {},
   "outputs": [],
   "source": [
    "# Create lists \n",
    "names = [entry.findAll('td')[0].text.strip() for entry in entries]\n",
    "revenues = [entry.findAll('td')[2].text.strip().replace(\"\\n\",\"\") for entry in entries]\n",
    "originalmedias = [entry.findAll('td')[4].text.replace(\"\\n\",\"\") for entry in entries]\n",
    "owners = [entry.findAll('td')[6].text.replace(\"\\n\",\"\") for entry in entries]"
   ]
  },
  {
   "cell_type": "code",
   "execution_count": 66,
   "metadata": {
    "scrolled": false
   },
   "outputs": [
    {
     "data": {
      "text/html": [
       "<div>\n",
       "<style scoped>\n",
       "    .dataframe tbody tr th:only-of-type {\n",
       "        vertical-align: middle;\n",
       "    }\n",
       "\n",
       "    .dataframe tbody tr th {\n",
       "        vertical-align: top;\n",
       "    }\n",
       "\n",
       "    .dataframe thead th {\n",
       "        text-align: right;\n",
       "    }\n",
       "</style>\n",
       "<table border=\"1\" class=\"dataframe\">\n",
       "  <thead>\n",
       "    <tr style=\"text-align: right;\">\n",
       "      <th></th>\n",
       "      <th>Name</th>\n",
       "      <th>Revenue</th>\n",
       "      <th>Original Media</th>\n",
       "      <th>Owner</th>\n",
       "    </tr>\n",
       "  </thead>\n",
       "  <tbody>\n",
       "    <tr>\n",
       "      <td>0</td>\n",
       "      <td>Grand Theft Auto</td>\n",
       "      <td>est. $9.99 billion</td>\n",
       "      <td>Video game</td>\n",
       "      <td>Rockstar Games  (Take-Two Interactive)</td>\n",
       "    </tr>\n",
       "    <tr>\n",
       "      <td>1</td>\n",
       "      <td>JoJo's Bizarre Adventure</td>\n",
       "      <td>est. $9.8 billion</td>\n",
       "      <td>Manga</td>\n",
       "      <td>Hirohiko Araki  Shueisha (Hitotsubashi Group) ...</td>\n",
       "    </tr>\n",
       "    <tr>\n",
       "      <td>2</td>\n",
       "      <td>Thomas &amp; Friends</td>\n",
       "      <td>est. $9.48 billion</td>\n",
       "      <td>Book</td>\n",
       "      <td>Egmont Group  Mattel</td>\n",
       "    </tr>\n",
       "    <tr>\n",
       "      <td>3</td>\n",
       "      <td>Lineage</td>\n",
       "      <td>est. $9.32 billion</td>\n",
       "      <td>Video game</td>\n",
       "      <td>NCSoft</td>\n",
       "    </tr>\n",
       "    <tr>\n",
       "      <td>4</td>\n",
       "      <td>Sesame Street  (The Muppets)</td>\n",
       "      <td>est. $9.19 billion</td>\n",
       "      <td>Television series</td>\n",
       "      <td>The Muppets Studio  (The Walt Disney Company) ...</td>\n",
       "    </tr>\n",
       "  </tbody>\n",
       "</table>\n",
       "</div>"
      ],
      "text/plain": [
       "                           Name             Revenue     Original Media  \\\n",
       "0              Grand Theft Auto  est. $9.99 billion         Video game   \n",
       "1      JoJo's Bizarre Adventure   est. $9.8 billion              Manga   \n",
       "2              Thomas & Friends  est. $9.48 billion               Book   \n",
       "3                       Lineage  est. $9.32 billion         Video game   \n",
       "4  Sesame Street  (The Muppets)  est. $9.19 billion  Television series   \n",
       "\n",
       "                                               Owner  \n",
       "0             Rockstar Games  (Take-Two Interactive)  \n",
       "1  Hirohiko Araki  Shueisha (Hitotsubashi Group) ...  \n",
       "2                               Egmont Group  Mattel  \n",
       "3                                             NCSoft  \n",
       "4  The Muppets Studio  (The Walt Disney Company) ...  "
      ]
     },
     "execution_count": 66,
     "metadata": {},
     "output_type": "execute_result"
    }
   ],
   "source": [
    "# Create dataframe from lists\n",
    "df_franchisesover4b = pd.DataFrame([names, revenues, originalmedias, owners]).transpose()\n",
    "df_franchisesover4b.columns = ['Name', 'Revenue', 'Original Media', 'Owner']\n",
    "df_franchisesover4b.head()"
   ]
  },
  {
   "cell_type": "code",
   "execution_count": 67,
   "metadata": {
    "scrolled": true
   },
   "outputs": [
    {
     "data": {
      "text/html": [
       "<div>\n",
       "<style scoped>\n",
       "    .dataframe tbody tr th:only-of-type {\n",
       "        vertical-align: middle;\n",
       "    }\n",
       "\n",
       "    .dataframe tbody tr th {\n",
       "        vertical-align: top;\n",
       "    }\n",
       "\n",
       "    .dataframe thead th {\n",
       "        text-align: right;\n",
       "    }\n",
       "</style>\n",
       "<table border=\"1\" class=\"dataframe\">\n",
       "  <thead>\n",
       "    <tr style=\"text-align: right;\">\n",
       "      <th></th>\n",
       "      <th>Name</th>\n",
       "      <th>Revenue</th>\n",
       "      <th>Original Media</th>\n",
       "      <th>Owner</th>\n",
       "    </tr>\n",
       "  </thead>\n",
       "  <tbody>\n",
       "    <tr>\n",
       "      <td>0</td>\n",
       "      <td>Pokémon</td>\n",
       "      <td>est. $95 billion</td>\n",
       "      <td>Video game</td>\n",
       "      <td>Nintendo (trademark)  The Pokémon Company  (Ni...</td>\n",
       "    </tr>\n",
       "    <tr>\n",
       "      <td>1</td>\n",
       "      <td>Hello Kitty</td>\n",
       "      <td>est. $86 billion</td>\n",
       "      <td>Cartoon character[38]</td>\n",
       "      <td>Sanrio</td>\n",
       "    </tr>\n",
       "    <tr>\n",
       "      <td>2</td>\n",
       "      <td>Winnie the Pooh</td>\n",
       "      <td>est. $76 billion</td>\n",
       "      <td>Book[59]</td>\n",
       "      <td>The Walt Disney Company</td>\n",
       "    </tr>\n",
       "    <tr>\n",
       "      <td>3</td>\n",
       "      <td>Mickey Mouse &amp; Friends</td>\n",
       "      <td>est. $74 billion</td>\n",
       "      <td>Animated cartoon</td>\n",
       "      <td>The Walt Disney Company</td>\n",
       "    </tr>\n",
       "    <tr>\n",
       "      <td>4</td>\n",
       "      <td>Star Wars</td>\n",
       "      <td>est. $70 billion</td>\n",
       "      <td>Film</td>\n",
       "      <td>Lucasfilm  (The Walt Disney Company)</td>\n",
       "    </tr>\n",
       "    <tr>\n",
       "      <td>...</td>\n",
       "      <td>...</td>\n",
       "      <td>...</td>\n",
       "      <td>...</td>\n",
       "      <td>...</td>\n",
       "    </tr>\n",
       "    <tr>\n",
       "      <td>52</td>\n",
       "      <td>The Hunger Games</td>\n",
       "      <td>est. $4.05 billion[ih]</td>\n",
       "      <td>Novel</td>\n",
       "      <td>Scholastic Corporation  Lionsgate</td>\n",
       "    </tr>\n",
       "    <tr>\n",
       "      <td>53</td>\n",
       "      <td>Magic: The Gathering</td>\n",
       "      <td>est. $4.02 billion</td>\n",
       "      <td>Card game</td>\n",
       "      <td>Wizards of the Coast  (Hasbro)</td>\n",
       "    </tr>\n",
       "    <tr>\n",
       "      <td>54</td>\n",
       "      <td>Mission: Impossible</td>\n",
       "      <td>$4 billion[ij][571]</td>\n",
       "      <td>Television series</td>\n",
       "      <td>Paramount Pictures</td>\n",
       "    </tr>\n",
       "    <tr>\n",
       "      <td>55</td>\n",
       "      <td>Strawberry Shortcake</td>\n",
       "      <td>est. $4 billion</td>\n",
       "      <td>Greeting card</td>\n",
       "      <td>American Greetings</td>\n",
       "    </tr>\n",
       "    <tr>\n",
       "      <td>56</td>\n",
       "      <td>Gran Turismo</td>\n",
       "      <td>est. $4 billion</td>\n",
       "      <td>Video game</td>\n",
       "      <td>Sony</td>\n",
       "    </tr>\n",
       "  </tbody>\n",
       "</table>\n",
       "<p>110 rows × 4 columns</p>\n",
       "</div>"
      ],
      "text/plain": [
       "                      Name                 Revenue         Original Media  \\\n",
       "0                  Pokémon        est. $95 billion             Video game   \n",
       "1              Hello Kitty        est. $86 billion  Cartoon character[38]   \n",
       "2          Winnie the Pooh        est. $76 billion               Book[59]   \n",
       "3   Mickey Mouse & Friends        est. $74 billion       Animated cartoon   \n",
       "4                Star Wars        est. $70 billion                   Film   \n",
       "..                     ...                     ...                    ...   \n",
       "52        The Hunger Games  est. $4.05 billion[ih]                  Novel   \n",
       "53    Magic: The Gathering      est. $4.02 billion              Card game   \n",
       "54     Mission: Impossible     $4 billion[ij][571]      Television series   \n",
       "55    Strawberry Shortcake         est. $4 billion          Greeting card   \n",
       "56            Gran Turismo         est. $4 billion             Video game   \n",
       "\n",
       "                                                Owner  \n",
       "0   Nintendo (trademark)  The Pokémon Company  (Ni...  \n",
       "1                                              Sanrio  \n",
       "2                             The Walt Disney Company  \n",
       "3                             The Walt Disney Company  \n",
       "4                Lucasfilm  (The Walt Disney Company)  \n",
       "..                                                ...  \n",
       "52                  Scholastic Corporation  Lionsgate  \n",
       "53                     Wizards of the Coast  (Hasbro)  \n",
       "54                                 Paramount Pictures  \n",
       "55                                 American Greetings  \n",
       "56                                               Sony  \n",
       "\n",
       "[110 rows x 4 columns]"
      ]
     },
     "execution_count": 67,
     "metadata": {},
     "output_type": "execute_result"
    }
   ],
   "source": [
    "# Join both tables\n",
    "df_franchises = df_franchisesover10b.append(df_franchisesover4b)\n",
    "df_franchises"
   ]
  },
  {
   "cell_type": "markdown",
   "metadata": {},
   "source": [
    "### Data cleaning"
   ]
  },
  {
   "cell_type": "code",
   "execution_count": 68,
   "metadata": {
    "scrolled": true
   },
   "outputs": [
    {
     "data": {
      "text/html": [
       "<div>\n",
       "<style scoped>\n",
       "    .dataframe tbody tr th:only-of-type {\n",
       "        vertical-align: middle;\n",
       "    }\n",
       "\n",
       "    .dataframe tbody tr th {\n",
       "        vertical-align: top;\n",
       "    }\n",
       "\n",
       "    .dataframe thead th {\n",
       "        text-align: right;\n",
       "    }\n",
       "</style>\n",
       "<table border=\"1\" class=\"dataframe\">\n",
       "  <thead>\n",
       "    <tr style=\"text-align: right;\">\n",
       "      <th></th>\n",
       "      <th>Name</th>\n",
       "      <th>Revenue</th>\n",
       "      <th>Original Media</th>\n",
       "      <th>Owner</th>\n",
       "    </tr>\n",
       "  </thead>\n",
       "  <tbody>\n",
       "    <tr>\n",
       "      <td>0</td>\n",
       "      <td>Pokémon</td>\n",
       "      <td>est. $95 billion</td>\n",
       "      <td>Video game</td>\n",
       "      <td>Nintendo (trademark)  The Pokémon Company  (Ni...</td>\n",
       "    </tr>\n",
       "    <tr>\n",
       "      <td>1</td>\n",
       "      <td>Hello Kitty</td>\n",
       "      <td>est. $86 billion</td>\n",
       "      <td>Cartoon character[38]</td>\n",
       "      <td>Sanrio</td>\n",
       "    </tr>\n",
       "    <tr>\n",
       "      <td>2</td>\n",
       "      <td>Winnie the Pooh</td>\n",
       "      <td>est. $76 billion</td>\n",
       "      <td>Book[59]</td>\n",
       "      <td>The Walt Disney Company</td>\n",
       "    </tr>\n",
       "    <tr>\n",
       "      <td>3</td>\n",
       "      <td>Mickey Mouse &amp; Friends</td>\n",
       "      <td>est. $74 billion</td>\n",
       "      <td>Animated cartoon</td>\n",
       "      <td>The Walt Disney Company</td>\n",
       "    </tr>\n",
       "    <tr>\n",
       "      <td>4</td>\n",
       "      <td>Star Wars</td>\n",
       "      <td>est. $70 billion</td>\n",
       "      <td>Film</td>\n",
       "      <td>Lucasfilm  (The Walt Disney Company)</td>\n",
       "    </tr>\n",
       "    <tr>\n",
       "      <td>...</td>\n",
       "      <td>...</td>\n",
       "      <td>...</td>\n",
       "      <td>...</td>\n",
       "      <td>...</td>\n",
       "    </tr>\n",
       "    <tr>\n",
       "      <td>105</td>\n",
       "      <td>The Hunger Games</td>\n",
       "      <td>est. $4.05 billion[ih]</td>\n",
       "      <td>Novel</td>\n",
       "      <td>Scholastic Corporation  Lionsgate</td>\n",
       "    </tr>\n",
       "    <tr>\n",
       "      <td>106</td>\n",
       "      <td>Magic: The Gathering</td>\n",
       "      <td>est. $4.02 billion</td>\n",
       "      <td>Card game</td>\n",
       "      <td>Wizards of the Coast  (Hasbro)</td>\n",
       "    </tr>\n",
       "    <tr>\n",
       "      <td>107</td>\n",
       "      <td>Mission: Impossible</td>\n",
       "      <td>$4 billion[ij][571]</td>\n",
       "      <td>Television series</td>\n",
       "      <td>Paramount Pictures</td>\n",
       "    </tr>\n",
       "    <tr>\n",
       "      <td>108</td>\n",
       "      <td>Strawberry Shortcake</td>\n",
       "      <td>est. $4 billion</td>\n",
       "      <td>Greeting card</td>\n",
       "      <td>American Greetings</td>\n",
       "    </tr>\n",
       "    <tr>\n",
       "      <td>109</td>\n",
       "      <td>Gran Turismo</td>\n",
       "      <td>est. $4 billion</td>\n",
       "      <td>Video game</td>\n",
       "      <td>Sony</td>\n",
       "    </tr>\n",
       "  </tbody>\n",
       "</table>\n",
       "<p>110 rows × 4 columns</p>\n",
       "</div>"
      ],
      "text/plain": [
       "                       Name                 Revenue         Original Media  \\\n",
       "0                   Pokémon        est. $95 billion             Video game   \n",
       "1               Hello Kitty        est. $86 billion  Cartoon character[38]   \n",
       "2           Winnie the Pooh        est. $76 billion               Book[59]   \n",
       "3    Mickey Mouse & Friends        est. $74 billion       Animated cartoon   \n",
       "4                 Star Wars        est. $70 billion                   Film   \n",
       "..                      ...                     ...                    ...   \n",
       "105        The Hunger Games  est. $4.05 billion[ih]                  Novel   \n",
       "106    Magic: The Gathering      est. $4.02 billion              Card game   \n",
       "107     Mission: Impossible     $4 billion[ij][571]      Television series   \n",
       "108    Strawberry Shortcake         est. $4 billion          Greeting card   \n",
       "109            Gran Turismo         est. $4 billion             Video game   \n",
       "\n",
       "                                                 Owner  \n",
       "0    Nintendo (trademark)  The Pokémon Company  (Ni...  \n",
       "1                                               Sanrio  \n",
       "2                              The Walt Disney Company  \n",
       "3                              The Walt Disney Company  \n",
       "4                 Lucasfilm  (The Walt Disney Company)  \n",
       "..                                                 ...  \n",
       "105                  Scholastic Corporation  Lionsgate  \n",
       "106                     Wizards of the Coast  (Hasbro)  \n",
       "107                                 Paramount Pictures  \n",
       "108                                 American Greetings  \n",
       "109                                               Sony  \n",
       "\n",
       "[110 rows x 4 columns]"
      ]
     },
     "execution_count": 68,
     "metadata": {},
     "output_type": "execute_result"
    }
   ],
   "source": [
    "# Reset index\n",
    "df_franchises = df_franchises.reset_index(drop = True)\n",
    "df_franchises"
   ]
  },
  {
   "cell_type": "code",
   "execution_count": 69,
   "metadata": {},
   "outputs": [],
   "source": [
    "# Transform revenue column into integer"
   ]
  },
  {
   "cell_type": "code",
   "execution_count": 70,
   "metadata": {},
   "outputs": [],
   "source": [
    "microsoft_franchises = df_franchises [(df_franchises['Owner'] == 'Microsoft') | \n",
    "                                      (df_franchises['Owner'] == 'Microsoft Studios')] "
   ]
  },
  {
   "cell_type": "code",
   "execution_count": 71,
   "metadata": {},
   "outputs": [
    {
     "data": {
      "text/html": [
       "<div>\n",
       "<style scoped>\n",
       "    .dataframe tbody tr th:only-of-type {\n",
       "        vertical-align: middle;\n",
       "    }\n",
       "\n",
       "    .dataframe tbody tr th {\n",
       "        vertical-align: top;\n",
       "    }\n",
       "\n",
       "    .dataframe thead th {\n",
       "        text-align: right;\n",
       "    }\n",
       "</style>\n",
       "<table border=\"1\" class=\"dataframe\">\n",
       "  <thead>\n",
       "    <tr style=\"text-align: right;\">\n",
       "      <th></th>\n",
       "      <th>Name</th>\n",
       "      <th>Revenue</th>\n",
       "      <th>Original Media</th>\n",
       "      <th>Owner</th>\n",
       "    </tr>\n",
       "  </thead>\n",
       "  <tbody>\n",
       "    <tr>\n",
       "      <td>71</td>\n",
       "      <td>Minecraft</td>\n",
       "      <td>est. $7.23 billion</td>\n",
       "      <td>Video game</td>\n",
       "      <td>Microsoft Studios</td>\n",
       "    </tr>\n",
       "    <tr>\n",
       "      <td>76</td>\n",
       "      <td>Halo</td>\n",
       "      <td>est. $6.5 billion</td>\n",
       "      <td>Video game</td>\n",
       "      <td>Microsoft</td>\n",
       "    </tr>\n",
       "  </tbody>\n",
       "</table>\n",
       "</div>"
      ],
      "text/plain": [
       "         Name             Revenue Original Media              Owner\n",
       "71  Minecraft  est. $7.23 billion     Video game  Microsoft Studios\n",
       "76       Halo   est. $6.5 billion     Video game          Microsoft"
      ]
     },
     "execution_count": 71,
     "metadata": {},
     "output_type": "execute_result"
    }
   ],
   "source": [
    "microsoft_franchises"
   ]
  },
  {
   "cell_type": "markdown",
   "metadata": {},
   "source": [
    "## Video Game Movies data"
   ]
  },
  {
   "cell_type": "markdown",
   "metadata": {},
   "source": [
    "https://en.wikipedia.org/wiki/List_of_films_based_on_video_games"
   ]
  },
  {
   "cell_type": "code",
   "execution_count": 72,
   "metadata": {},
   "outputs": [],
   "source": [
    "vgdf = pd.read_html('List of films based on video games - Wikipedia.html')"
   ]
  },
  {
   "cell_type": "code",
   "execution_count": 73,
   "metadata": {},
   "outputs": [
    {
     "data": {
      "text/html": [
       "<div>\n",
       "<style scoped>\n",
       "    .dataframe tbody tr th:only-of-type {\n",
       "        vertical-align: middle;\n",
       "    }\n",
       "\n",
       "    .dataframe tbody tr th {\n",
       "        vertical-align: top;\n",
       "    }\n",
       "\n",
       "    .dataframe thead th {\n",
       "        text-align: right;\n",
       "    }\n",
       "</style>\n",
       "<table border=\"1\" class=\"dataframe\">\n",
       "  <thead>\n",
       "    <tr style=\"text-align: right;\">\n",
       "      <th></th>\n",
       "      <th>Title</th>\n",
       "      <th>Release date</th>\n",
       "      <th>Worldwide box office</th>\n",
       "      <th>Rotten Tomatoes</th>\n",
       "      <th>Metacritic</th>\n",
       "      <th>Distributor</th>\n",
       "      <th>Original game publisher</th>\n",
       "    </tr>\n",
       "  </thead>\n",
       "  <tbody>\n",
       "    <tr>\n",
       "      <td>0</td>\n",
       "      <td>Super Mario Bros.</td>\n",
       "      <td>May 28, 1993</td>\n",
       "      <td>$20,915,465[2]</td>\n",
       "      <td>21%[3]</td>\n",
       "      <td>NaN</td>\n",
       "      <td>Buena Vista Pictures Distribution</td>\n",
       "      <td>Nintendo</td>\n",
       "    </tr>\n",
       "    <tr>\n",
       "      <td>1</td>\n",
       "      <td>Double Dragon</td>\n",
       "      <td>November 4, 1994</td>\n",
       "      <td>$2,341,309[4]</td>\n",
       "      <td>8%[5]</td>\n",
       "      <td>NaN</td>\n",
       "      <td>Gramercy Pictures</td>\n",
       "      <td>Technōs Japan</td>\n",
       "    </tr>\n",
       "    <tr>\n",
       "      <td>2</td>\n",
       "      <td>Street Fighter</td>\n",
       "      <td>December 23, 1994</td>\n",
       "      <td>$99,423,521[6]</td>\n",
       "      <td>11%[7]</td>\n",
       "      <td>NaN</td>\n",
       "      <td>Universal Pictures</td>\n",
       "      <td>Capcom</td>\n",
       "    </tr>\n",
       "    <tr>\n",
       "      <td>3</td>\n",
       "      <td>Mortal Kombat</td>\n",
       "      <td>August 18, 1995</td>\n",
       "      <td>$122,195,920[8]</td>\n",
       "      <td>46%[9]</td>\n",
       "      <td>58/100[10]</td>\n",
       "      <td>New Line Cinema</td>\n",
       "      <td>WB Games</td>\n",
       "    </tr>\n",
       "    <tr>\n",
       "      <td>4</td>\n",
       "      <td>Mortal Kombat: Annihilation</td>\n",
       "      <td>November 21, 1997</td>\n",
       "      <td>$51,376,861[11]</td>\n",
       "      <td>2%[12]</td>\n",
       "      <td>11/100[13]</td>\n",
       "      <td>New Line Cinema</td>\n",
       "      <td>WB Games</td>\n",
       "    </tr>\n",
       "    <tr>\n",
       "      <td>5</td>\n",
       "      <td>Wing Commander</td>\n",
       "      <td>March 12, 1999</td>\n",
       "      <td>$11,578,059[14]</td>\n",
       "      <td>10%[15]</td>\n",
       "      <td>21/100[16]</td>\n",
       "      <td>20th Century Fox</td>\n",
       "      <td>Origin Systems</td>\n",
       "    </tr>\n",
       "    <tr>\n",
       "      <td>6</td>\n",
       "      <td>Lara Croft: Tomb Raider</td>\n",
       "      <td>June 15, 2001</td>\n",
       "      <td>$274,703,340[17]</td>\n",
       "      <td>20%[18]</td>\n",
       "      <td>33/100[19]</td>\n",
       "      <td>Paramount Pictures</td>\n",
       "      <td>Eidos</td>\n",
       "    </tr>\n",
       "    <tr>\n",
       "      <td>7</td>\n",
       "      <td>Resident Evil</td>\n",
       "      <td>March 15, 2002</td>\n",
       "      <td>$102,984,862[20]</td>\n",
       "      <td>34%[21]</td>\n",
       "      <td>33/100[22]</td>\n",
       "      <td>Screen Gems</td>\n",
       "      <td>Capcom</td>\n",
       "    </tr>\n",
       "    <tr>\n",
       "      <td>8</td>\n",
       "      <td>Lara Croft: Tomb Raider – The Cradle of Life</td>\n",
       "      <td>July 25, 2003</td>\n",
       "      <td>$156,505,388[23]</td>\n",
       "      <td>25%[24]</td>\n",
       "      <td>43/100[25]</td>\n",
       "      <td>Paramount Pictures</td>\n",
       "      <td>Eidos</td>\n",
       "    </tr>\n",
       "    <tr>\n",
       "      <td>9</td>\n",
       "      <td>House of the Dead</td>\n",
       "      <td>October 10, 2003</td>\n",
       "      <td>$13,818,181[26]</td>\n",
       "      <td>3%[27]</td>\n",
       "      <td>15/100[28]</td>\n",
       "      <td>Artisan Entertainment</td>\n",
       "      <td>Sega</td>\n",
       "    </tr>\n",
       "    <tr>\n",
       "      <td>10</td>\n",
       "      <td>Resident Evil: Apocalypse</td>\n",
       "      <td>September 10, 2004</td>\n",
       "      <td>$129,342,769[29]</td>\n",
       "      <td>20%[30]</td>\n",
       "      <td>35/100[31]</td>\n",
       "      <td>Screen Gems</td>\n",
       "      <td>Capcom</td>\n",
       "    </tr>\n",
       "    <tr>\n",
       "      <td>11</td>\n",
       "      <td>Alone in the Dark</td>\n",
       "      <td>January 28, 2005</td>\n",
       "      <td>$10,442,808[32]</td>\n",
       "      <td>1%[33]</td>\n",
       "      <td>9/100[34]</td>\n",
       "      <td>Lions Gate Films</td>\n",
       "      <td>Infogrames</td>\n",
       "    </tr>\n",
       "    <tr>\n",
       "      <td>12</td>\n",
       "      <td>Doom</td>\n",
       "      <td>October 21, 2005</td>\n",
       "      <td>$55,987,321[35]</td>\n",
       "      <td>19%[36]</td>\n",
       "      <td>34/100[37]</td>\n",
       "      <td>Universal Pictures</td>\n",
       "      <td>id Software</td>\n",
       "    </tr>\n",
       "    <tr>\n",
       "      <td>13</td>\n",
       "      <td>BloodRayne</td>\n",
       "      <td>January 6, 2006</td>\n",
       "      <td>$3,650,275[38]</td>\n",
       "      <td>4%[39]</td>\n",
       "      <td>18/100[40]</td>\n",
       "      <td>Boll KG Productions</td>\n",
       "      <td>Majesco Entertainment</td>\n",
       "    </tr>\n",
       "    <tr>\n",
       "      <td>14</td>\n",
       "      <td>Silent Hill</td>\n",
       "      <td>April 21, 2006</td>\n",
       "      <td>$97,607,453[41]</td>\n",
       "      <td>31%[42]</td>\n",
       "      <td>31/100[43]</td>\n",
       "      <td>TriStar Pictures</td>\n",
       "      <td>Konami</td>\n",
       "    </tr>\n",
       "    <tr>\n",
       "      <td>15</td>\n",
       "      <td>DOA: Dead or Alive</td>\n",
       "      <td>September 7, 2006</td>\n",
       "      <td>$7,516,532[44]</td>\n",
       "      <td>33%[45]</td>\n",
       "      <td>38/100[46]</td>\n",
       "      <td>Dimension Films</td>\n",
       "      <td>Tecmo</td>\n",
       "    </tr>\n",
       "    <tr>\n",
       "      <td>16</td>\n",
       "      <td>Resident Evil: Extinction</td>\n",
       "      <td>September 21, 2007</td>\n",
       "      <td>$148,412,065[47]</td>\n",
       "      <td>23%[48]</td>\n",
       "      <td>41/100[49]</td>\n",
       "      <td>Screen Gems</td>\n",
       "      <td>Capcom</td>\n",
       "    </tr>\n",
       "    <tr>\n",
       "      <td>17</td>\n",
       "      <td>Postal</td>\n",
       "      <td>October 18, 2007</td>\n",
       "      <td>$146,741</td>\n",
       "      <td>7%</td>\n",
       "      <td>22/100</td>\n",
       "      <td>Vivendi Entertainment</td>\n",
       "      <td>Ripcord Games</td>\n",
       "    </tr>\n",
       "    <tr>\n",
       "      <td>18</td>\n",
       "      <td>Hitman</td>\n",
       "      <td>November 21, 2007</td>\n",
       "      <td>$99,965,792[50]</td>\n",
       "      <td>15%[51]</td>\n",
       "      <td>35/100[52]</td>\n",
       "      <td>Cannon Pictures</td>\n",
       "      <td>Eidos</td>\n",
       "    </tr>\n",
       "    <tr>\n",
       "      <td>19</td>\n",
       "      <td>In the Name of the King: A Dungeon Siege Tale</td>\n",
       "      <td>January 11, 2008</td>\n",
       "      <td>$13,097,915[53]</td>\n",
       "      <td>4%[54]</td>\n",
       "      <td>15/100[55]</td>\n",
       "      <td>20th Century Fox</td>\n",
       "      <td>Microsoft Studios</td>\n",
       "    </tr>\n",
       "    <tr>\n",
       "      <td>20</td>\n",
       "      <td>Far Cry</td>\n",
       "      <td>October 2, 2008</td>\n",
       "      <td>$743,634[56]</td>\n",
       "      <td>N/A[57]</td>\n",
       "      <td>NaN</td>\n",
       "      <td>20th Century Fox</td>\n",
       "      <td>Ubisoft</td>\n",
       "    </tr>\n",
       "    <tr>\n",
       "      <td>21</td>\n",
       "      <td>Max Payne</td>\n",
       "      <td>October 17, 2008</td>\n",
       "      <td>$85,416,905[58]</td>\n",
       "      <td>16%[59]</td>\n",
       "      <td>31/100[60]</td>\n",
       "      <td>20th Century Fox</td>\n",
       "      <td>Rockstar Games</td>\n",
       "    </tr>\n",
       "    <tr>\n",
       "      <td>22</td>\n",
       "      <td>Street Fighter: The Legend of Chun-Li</td>\n",
       "      <td>February 27, 2009</td>\n",
       "      <td>$12,764,201[61]</td>\n",
       "      <td>5%[62]</td>\n",
       "      <td>17/100[63]</td>\n",
       "      <td>20th Century Fox</td>\n",
       "      <td>Capcom</td>\n",
       "    </tr>\n",
       "    <tr>\n",
       "      <td>23</td>\n",
       "      <td>Tekken</td>\n",
       "      <td>March 20, 2010</td>\n",
       "      <td>$967,369[64]</td>\n",
       "      <td>0%[65]</td>\n",
       "      <td>NaN</td>\n",
       "      <td>Warner Bros. Pictures</td>\n",
       "      <td>Bandai Namco Games</td>\n",
       "    </tr>\n",
       "    <tr>\n",
       "      <td>24</td>\n",
       "      <td>Prince of Persia: The Sands of Time</td>\n",
       "      <td>May 28, 2010</td>\n",
       "      <td>$336,365,676[66]</td>\n",
       "      <td>37%[67]</td>\n",
       "      <td>50/100[68]</td>\n",
       "      <td>Walt Disney Studios Motion Pictures</td>\n",
       "      <td>Ubisoft</td>\n",
       "    </tr>\n",
       "    <tr>\n",
       "      <td>25</td>\n",
       "      <td>Resident Evil: Afterlife</td>\n",
       "      <td>September 10, 2010</td>\n",
       "      <td>$300,228,084[69]</td>\n",
       "      <td>23%[70]</td>\n",
       "      <td>37/100[71]</td>\n",
       "      <td>Screen Gems</td>\n",
       "      <td>Capcom</td>\n",
       "    </tr>\n",
       "    <tr>\n",
       "      <td>26</td>\n",
       "      <td>Resident Evil: Retribution</td>\n",
       "      <td>September 14, 2012</td>\n",
       "      <td>$240,004,424[72]</td>\n",
       "      <td>29%[73]</td>\n",
       "      <td>39/100[74]</td>\n",
       "      <td>Screen Gems</td>\n",
       "      <td>Capcom</td>\n",
       "    </tr>\n",
       "    <tr>\n",
       "      <td>27</td>\n",
       "      <td>Silent Hill: Revelation</td>\n",
       "      <td>October 26, 2012</td>\n",
       "      <td>$52,302,796[75]</td>\n",
       "      <td>8%[76]</td>\n",
       "      <td>16/100[77]</td>\n",
       "      <td>Open Road Films</td>\n",
       "      <td>Konami</td>\n",
       "    </tr>\n",
       "    <tr>\n",
       "      <td>28</td>\n",
       "      <td>Need for Speed</td>\n",
       "      <td>March 14, 2014</td>\n",
       "      <td>$203,277,636[78]</td>\n",
       "      <td>22%[79]</td>\n",
       "      <td>39/100[80]</td>\n",
       "      <td>Walt Disney Studios Motion Pictures</td>\n",
       "      <td>Electronic Arts</td>\n",
       "    </tr>\n",
       "    <tr>\n",
       "      <td>29</td>\n",
       "      <td>Hitman: Agent 47</td>\n",
       "      <td>August 21, 2015</td>\n",
       "      <td>$82,347,656[81]</td>\n",
       "      <td>9%[82]</td>\n",
       "      <td>28/100[83]</td>\n",
       "      <td>20th Century Fox</td>\n",
       "      <td>Square Enix</td>\n",
       "    </tr>\n",
       "    <tr>\n",
       "      <td>30</td>\n",
       "      <td>Warcraft</td>\n",
       "      <td>June 10, 2016</td>\n",
       "      <td>$439,048,914[84]</td>\n",
       "      <td>28%[85]</td>\n",
       "      <td>32/100[86]</td>\n",
       "      <td>Universal Pictures</td>\n",
       "      <td>Blizzard Entertainment</td>\n",
       "    </tr>\n",
       "    <tr>\n",
       "      <td>31</td>\n",
       "      <td>Assassin's Creed</td>\n",
       "      <td>December 21, 2016</td>\n",
       "      <td>$240,558,621[87]</td>\n",
       "      <td>18%[88]</td>\n",
       "      <td>36/100[89]</td>\n",
       "      <td>20th Century Fox</td>\n",
       "      <td>Ubisoft</td>\n",
       "    </tr>\n",
       "    <tr>\n",
       "      <td>32</td>\n",
       "      <td>Resident Evil: The Final Chapter</td>\n",
       "      <td>January 27, 2017</td>\n",
       "      <td>$312,257,250[90]</td>\n",
       "      <td>37%[91]</td>\n",
       "      <td>49/100[92]</td>\n",
       "      <td>Screen Gems</td>\n",
       "      <td>Capcom</td>\n",
       "    </tr>\n",
       "    <tr>\n",
       "      <td>33</td>\n",
       "      <td>Tomb Raider</td>\n",
       "      <td>March 16, 2018</td>\n",
       "      <td>$274,650,803[93]</td>\n",
       "      <td>52%[94]</td>\n",
       "      <td>48/100[95]</td>\n",
       "      <td>Warner Bros. Pictures</td>\n",
       "      <td>Square Enix</td>\n",
       "    </tr>\n",
       "    <tr>\n",
       "      <td>34</td>\n",
       "      <td>Rampage</td>\n",
       "      <td>April 13, 2018</td>\n",
       "      <td>$428,028,233[96]</td>\n",
       "      <td>51%[97]</td>\n",
       "      <td>45/100[98]</td>\n",
       "      <td>Warner Bros. Pictures</td>\n",
       "      <td>WB Games</td>\n",
       "    </tr>\n",
       "    <tr>\n",
       "      <td>35</td>\n",
       "      <td>Dead Trigger</td>\n",
       "      <td>May 3, 2019</td>\n",
       "      <td>$92,321[99]</td>\n",
       "      <td>NaN</td>\n",
       "      <td>NaN</td>\n",
       "      <td>Saban Films</td>\n",
       "      <td>Madfinger Games</td>\n",
       "    </tr>\n",
       "    <tr>\n",
       "      <td>36</td>\n",
       "      <td>Detective Pikachu</td>\n",
       "      <td>May 10, 2019</td>\n",
       "      <td>$433,005,346[100]</td>\n",
       "      <td>69%[101]</td>\n",
       "      <td>53/100[102]</td>\n",
       "      <td>Warner Bros. Pictures</td>\n",
       "      <td>Nintendo</td>\n",
       "    </tr>\n",
       "    <tr>\n",
       "      <td>37</td>\n",
       "      <td>Sonic the Hedgehog</td>\n",
       "      <td>February 14, 2020</td>\n",
       "      <td>$272,147,762[103]</td>\n",
       "      <td>64%[104]</td>\n",
       "      <td>47/100[105]</td>\n",
       "      <td>Paramount Pictures</td>\n",
       "      <td>Sega</td>\n",
       "    </tr>\n",
       "  </tbody>\n",
       "</table>\n",
       "</div>"
      ],
      "text/plain": [
       "                                            Title        Release date  \\\n",
       "0                               Super Mario Bros.        May 28, 1993   \n",
       "1                                   Double Dragon    November 4, 1994   \n",
       "2                                  Street Fighter   December 23, 1994   \n",
       "3                                   Mortal Kombat     August 18, 1995   \n",
       "4                     Mortal Kombat: Annihilation   November 21, 1997   \n",
       "5                                  Wing Commander      March 12, 1999   \n",
       "6                         Lara Croft: Tomb Raider       June 15, 2001   \n",
       "7                                   Resident Evil      March 15, 2002   \n",
       "8    Lara Croft: Tomb Raider – The Cradle of Life       July 25, 2003   \n",
       "9                               House of the Dead    October 10, 2003   \n",
       "10                      Resident Evil: Apocalypse  September 10, 2004   \n",
       "11                              Alone in the Dark    January 28, 2005   \n",
       "12                                           Doom    October 21, 2005   \n",
       "13                                     BloodRayne     January 6, 2006   \n",
       "14                                    Silent Hill      April 21, 2006   \n",
       "15                             DOA: Dead or Alive   September 7, 2006   \n",
       "16                      Resident Evil: Extinction  September 21, 2007   \n",
       "17                                         Postal    October 18, 2007   \n",
       "18                                         Hitman   November 21, 2007   \n",
       "19  In the Name of the King: A Dungeon Siege Tale    January 11, 2008   \n",
       "20                                        Far Cry     October 2, 2008   \n",
       "21                                      Max Payne    October 17, 2008   \n",
       "22          Street Fighter: The Legend of Chun-Li   February 27, 2009   \n",
       "23                                         Tekken      March 20, 2010   \n",
       "24            Prince of Persia: The Sands of Time        May 28, 2010   \n",
       "25                       Resident Evil: Afterlife  September 10, 2010   \n",
       "26                     Resident Evil: Retribution  September 14, 2012   \n",
       "27                        Silent Hill: Revelation    October 26, 2012   \n",
       "28                                 Need for Speed      March 14, 2014   \n",
       "29                               Hitman: Agent 47     August 21, 2015   \n",
       "30                                       Warcraft       June 10, 2016   \n",
       "31                               Assassin's Creed   December 21, 2016   \n",
       "32               Resident Evil: The Final Chapter    January 27, 2017   \n",
       "33                                    Tomb Raider      March 16, 2018   \n",
       "34                                        Rampage      April 13, 2018   \n",
       "35                                   Dead Trigger         May 3, 2019   \n",
       "36                              Detective Pikachu        May 10, 2019   \n",
       "37                             Sonic the Hedgehog   February 14, 2020   \n",
       "\n",
       "   Worldwide box office Rotten Tomatoes   Metacritic  \\\n",
       "0        $20,915,465[2]          21%[3]          NaN   \n",
       "1         $2,341,309[4]           8%[5]          NaN   \n",
       "2        $99,423,521[6]          11%[7]          NaN   \n",
       "3       $122,195,920[8]          46%[9]   58/100[10]   \n",
       "4       $51,376,861[11]          2%[12]   11/100[13]   \n",
       "5       $11,578,059[14]         10%[15]   21/100[16]   \n",
       "6      $274,703,340[17]         20%[18]   33/100[19]   \n",
       "7      $102,984,862[20]         34%[21]   33/100[22]   \n",
       "8      $156,505,388[23]         25%[24]   43/100[25]   \n",
       "9       $13,818,181[26]          3%[27]   15/100[28]   \n",
       "10     $129,342,769[29]         20%[30]   35/100[31]   \n",
       "11      $10,442,808[32]          1%[33]    9/100[34]   \n",
       "12      $55,987,321[35]         19%[36]   34/100[37]   \n",
       "13       $3,650,275[38]          4%[39]   18/100[40]   \n",
       "14      $97,607,453[41]         31%[42]   31/100[43]   \n",
       "15       $7,516,532[44]         33%[45]   38/100[46]   \n",
       "16     $148,412,065[47]         23%[48]   41/100[49]   \n",
       "17             $146,741              7%       22/100   \n",
       "18      $99,965,792[50]         15%[51]   35/100[52]   \n",
       "19      $13,097,915[53]          4%[54]   15/100[55]   \n",
       "20         $743,634[56]         N/A[57]          NaN   \n",
       "21      $85,416,905[58]         16%[59]   31/100[60]   \n",
       "22      $12,764,201[61]          5%[62]   17/100[63]   \n",
       "23         $967,369[64]          0%[65]          NaN   \n",
       "24     $336,365,676[66]         37%[67]   50/100[68]   \n",
       "25     $300,228,084[69]         23%[70]   37/100[71]   \n",
       "26     $240,004,424[72]         29%[73]   39/100[74]   \n",
       "27      $52,302,796[75]          8%[76]   16/100[77]   \n",
       "28     $203,277,636[78]         22%[79]   39/100[80]   \n",
       "29      $82,347,656[81]          9%[82]   28/100[83]   \n",
       "30     $439,048,914[84]         28%[85]   32/100[86]   \n",
       "31     $240,558,621[87]         18%[88]   36/100[89]   \n",
       "32     $312,257,250[90]         37%[91]   49/100[92]   \n",
       "33     $274,650,803[93]         52%[94]   48/100[95]   \n",
       "34     $428,028,233[96]         51%[97]   45/100[98]   \n",
       "35          $92,321[99]             NaN          NaN   \n",
       "36    $433,005,346[100]        69%[101]  53/100[102]   \n",
       "37    $272,147,762[103]        64%[104]  47/100[105]   \n",
       "\n",
       "                            Distributor Original game publisher  \n",
       "0     Buena Vista Pictures Distribution                Nintendo  \n",
       "1                     Gramercy Pictures           Technōs Japan  \n",
       "2                    Universal Pictures                  Capcom  \n",
       "3                       New Line Cinema                WB Games  \n",
       "4                       New Line Cinema                WB Games  \n",
       "5                      20th Century Fox          Origin Systems  \n",
       "6                    Paramount Pictures                   Eidos  \n",
       "7                           Screen Gems                  Capcom  \n",
       "8                    Paramount Pictures                   Eidos  \n",
       "9                 Artisan Entertainment                    Sega  \n",
       "10                          Screen Gems                  Capcom  \n",
       "11                     Lions Gate Films              Infogrames  \n",
       "12                   Universal Pictures             id Software  \n",
       "13                  Boll KG Productions   Majesco Entertainment  \n",
       "14                     TriStar Pictures                  Konami  \n",
       "15                      Dimension Films                   Tecmo  \n",
       "16                          Screen Gems                  Capcom  \n",
       "17                Vivendi Entertainment           Ripcord Games  \n",
       "18                      Cannon Pictures                   Eidos  \n",
       "19                     20th Century Fox       Microsoft Studios  \n",
       "20                     20th Century Fox                 Ubisoft  \n",
       "21                     20th Century Fox          Rockstar Games  \n",
       "22                     20th Century Fox                  Capcom  \n",
       "23                Warner Bros. Pictures      Bandai Namco Games  \n",
       "24  Walt Disney Studios Motion Pictures                 Ubisoft  \n",
       "25                          Screen Gems                  Capcom  \n",
       "26                          Screen Gems                  Capcom  \n",
       "27                      Open Road Films                  Konami  \n",
       "28  Walt Disney Studios Motion Pictures         Electronic Arts  \n",
       "29                     20th Century Fox             Square Enix  \n",
       "30                   Universal Pictures  Blizzard Entertainment  \n",
       "31                     20th Century Fox                 Ubisoft  \n",
       "32                          Screen Gems                  Capcom  \n",
       "33                Warner Bros. Pictures             Square Enix  \n",
       "34                Warner Bros. Pictures                WB Games  \n",
       "35                          Saban Films         Madfinger Games  \n",
       "36                Warner Bros. Pictures                Nintendo  \n",
       "37                   Paramount Pictures                    Sega  "
      ]
     },
     "execution_count": 73,
     "metadata": {},
     "output_type": "execute_result"
    }
   ],
   "source": [
    "# Select first item in table\n",
    "videogamemovies = vgdf[0]\n",
    "# Only take released movies\n",
    "videogamemovies[:38]"
   ]
  },
  {
   "cell_type": "markdown",
   "metadata": {},
   "source": [
    "# Visualisations and Insights"
   ]
  },
  {
   "cell_type": "markdown",
   "metadata": {},
   "source": [
    "## Number of movies released"
   ]
  },
  {
   "cell_type": "code",
   "execution_count": 74,
   "metadata": {},
   "outputs": [
    {
     "data": {
      "text/html": [
       "<div>\n",
       "<style scoped>\n",
       "    .dataframe tbody tr th:only-of-type {\n",
       "        vertical-align: middle;\n",
       "    }\n",
       "\n",
       "    .dataframe tbody tr th {\n",
       "        vertical-align: top;\n",
       "    }\n",
       "\n",
       "    .dataframe thead th {\n",
       "        text-align: right;\n",
       "    }\n",
       "</style>\n",
       "<table border=\"1\" class=\"dataframe\">\n",
       "  <thead>\n",
       "    <tr style=\"text-align: right;\">\n",
       "      <th></th>\n",
       "      <th>release_date</th>\n",
       "      <th>movie</th>\n",
       "      <th>production_budget</th>\n",
       "      <th>domestic_gross</th>\n",
       "      <th>worldwide_gross</th>\n",
       "      <th>release_year</th>\n",
       "      <th>tconst</th>\n",
       "      <th>runtime_minutes</th>\n",
       "      <th>genres</th>\n",
       "    </tr>\n",
       "  </thead>\n",
       "  <tbody>\n",
       "    <tr>\n",
       "      <td>0</td>\n",
       "      <td>2019-03-08</td>\n",
       "      <td>Captain Marvel</td>\n",
       "      <td>175000000</td>\n",
       "      <td>426525952</td>\n",
       "      <td>1123061550</td>\n",
       "      <td>2019</td>\n",
       "      <td>tt4154664</td>\n",
       "      <td>123.0</td>\n",
       "      <td>Action,Adventure,Sci-Fi</td>\n",
       "    </tr>\n",
       "    <tr>\n",
       "      <td>1</td>\n",
       "      <td>2019-05-31</td>\n",
       "      <td>Rocketman</td>\n",
       "      <td>41000000</td>\n",
       "      <td>57342725</td>\n",
       "      <td>108642725</td>\n",
       "      <td>2019</td>\n",
       "      <td>tt2066051</td>\n",
       "      <td>121.0</td>\n",
       "      <td>Biography,Drama,Music</td>\n",
       "    </tr>\n",
       "    <tr>\n",
       "      <td>2</td>\n",
       "      <td>2019-05-03</td>\n",
       "      <td>The Intruder</td>\n",
       "      <td>8000000</td>\n",
       "      <td>35095904</td>\n",
       "      <td>36005871</td>\n",
       "      <td>2019</td>\n",
       "      <td>tt6722030</td>\n",
       "      <td>102.0</td>\n",
       "      <td>Drama,Horror,Mystery</td>\n",
       "    </tr>\n",
       "    <tr>\n",
       "      <td>3</td>\n",
       "      <td>2019-01-16</td>\n",
       "      <td>Dragon Ball Super: Broly</td>\n",
       "      <td>8500000</td>\n",
       "      <td>30376755</td>\n",
       "      <td>122747755</td>\n",
       "      <td>2019</td>\n",
       "      <td>tt7961060</td>\n",
       "      <td>100.0</td>\n",
       "      <td>Action,Adventure,Animation</td>\n",
       "    </tr>\n",
       "    <tr>\n",
       "      <td>4</td>\n",
       "      <td>2019-02-22</td>\n",
       "      <td>How to Train Your Dragon: The Hidden World</td>\n",
       "      <td>129000000</td>\n",
       "      <td>160791800</td>\n",
       "      <td>519258283</td>\n",
       "      <td>2019</td>\n",
       "      <td>tt2386490</td>\n",
       "      <td>104.0</td>\n",
       "      <td>Action,Adventure,Animation</td>\n",
       "    </tr>\n",
       "  </tbody>\n",
       "</table>\n",
       "</div>"
      ],
      "text/plain": [
       "  release_date                                       movie  production_budget  \\\n",
       "0   2019-03-08                              Captain Marvel          175000000   \n",
       "1   2019-05-31                                   Rocketman           41000000   \n",
       "2   2019-05-03                                The Intruder            8000000   \n",
       "3   2019-01-16                    Dragon Ball Super: Broly            8500000   \n",
       "4   2019-02-22  How to Train Your Dragon: The Hidden World          129000000   \n",
       "\n",
       "   domestic_gross  worldwide_gross  release_year     tconst  runtime_minutes  \\\n",
       "0       426525952       1123061550          2019  tt4154664            123.0   \n",
       "1        57342725        108642725          2019  tt2066051            121.0   \n",
       "2        35095904         36005871          2019  tt6722030            102.0   \n",
       "3        30376755        122747755          2019  tt7961060            100.0   \n",
       "4       160791800        519258283          2019  tt2386490            104.0   \n",
       "\n",
       "                       genres  \n",
       "0     Action,Adventure,Sci-Fi  \n",
       "1       Biography,Drama,Music  \n",
       "2        Drama,Horror,Mystery  \n",
       "3  Action,Adventure,Animation  \n",
       "4  Action,Adventure,Animation  "
      ]
     },
     "execution_count": 74,
     "metadata": {},
     "output_type": "execute_result"
    }
   ],
   "source": [
    "# Movies first 5 rows\n",
    "movies.head()"
   ]
  },
  {
   "cell_type": "code",
   "execution_count": 75,
   "metadata": {},
   "outputs": [
    {
     "data": {
      "text/plain": [
       "count    2084.000000\n",
       "mean     2010.086852\n",
       "std         9.420340\n",
       "min      1931.000000\n",
       "25%      2010.000000\n",
       "50%      2013.000000\n",
       "75%      2015.000000\n",
       "max      2019.000000\n",
       "Name: release_year, dtype: float64"
      ]
     },
     "execution_count": 75,
     "metadata": {},
     "output_type": "execute_result"
    }
   ],
   "source": [
    "# Describe release_year column\n",
    "movies['release_year'].describe()"
   ]
  },
  {
   "cell_type": "code",
   "execution_count": 76,
   "metadata": {},
   "outputs": [],
   "source": [
    "# Create bins for each decade\n",
    "bins = [1930, 1940, 1950, 1960, 1970, 1980, 1990, 2000, 2010, 2020]\n",
    "names = [ '1930s', '1940s', '1950s', '1960s', '1970s', '1980s', '1990s', '2000s', 'post 2010']"
   ]
  },
  {
   "cell_type": "code",
   "execution_count": 77,
   "metadata": {
    "scrolled": true
   },
   "outputs": [],
   "source": [
    "# Create decade column \n",
    "movies['decade'] = pd.cut(movies['release_year'], bins, labels=names)"
   ]
  },
  {
   "cell_type": "code",
   "execution_count": 78,
   "metadata": {
    "scrolled": true
   },
   "outputs": [
    {
     "data": {
      "text/html": [
       "<div>\n",
       "<style scoped>\n",
       "    .dataframe tbody tr th:only-of-type {\n",
       "        vertical-align: middle;\n",
       "    }\n",
       "\n",
       "    .dataframe tbody tr th {\n",
       "        vertical-align: top;\n",
       "    }\n",
       "\n",
       "    .dataframe thead th {\n",
       "        text-align: right;\n",
       "    }\n",
       "</style>\n",
       "<table border=\"1\" class=\"dataframe\">\n",
       "  <thead>\n",
       "    <tr style=\"text-align: right;\">\n",
       "      <th></th>\n",
       "      <th>release_date</th>\n",
       "      <th>movie</th>\n",
       "      <th>production_budget</th>\n",
       "      <th>domestic_gross</th>\n",
       "      <th>worldwide_gross</th>\n",
       "      <th>release_year</th>\n",
       "      <th>tconst</th>\n",
       "      <th>runtime_minutes</th>\n",
       "      <th>genres</th>\n",
       "      <th>decade</th>\n",
       "    </tr>\n",
       "  </thead>\n",
       "  <tbody>\n",
       "    <tr>\n",
       "      <td>0</td>\n",
       "      <td>2019-03-08</td>\n",
       "      <td>Captain Marvel</td>\n",
       "      <td>175000000</td>\n",
       "      <td>426525952</td>\n",
       "      <td>1123061550</td>\n",
       "      <td>2019</td>\n",
       "      <td>tt4154664</td>\n",
       "      <td>123.0</td>\n",
       "      <td>Action,Adventure,Sci-Fi</td>\n",
       "      <td>post 2010</td>\n",
       "    </tr>\n",
       "    <tr>\n",
       "      <td>1</td>\n",
       "      <td>2019-05-31</td>\n",
       "      <td>Rocketman</td>\n",
       "      <td>41000000</td>\n",
       "      <td>57342725</td>\n",
       "      <td>108642725</td>\n",
       "      <td>2019</td>\n",
       "      <td>tt2066051</td>\n",
       "      <td>121.0</td>\n",
       "      <td>Biography,Drama,Music</td>\n",
       "      <td>post 2010</td>\n",
       "    </tr>\n",
       "    <tr>\n",
       "      <td>2</td>\n",
       "      <td>2019-05-03</td>\n",
       "      <td>The Intruder</td>\n",
       "      <td>8000000</td>\n",
       "      <td>35095904</td>\n",
       "      <td>36005871</td>\n",
       "      <td>2019</td>\n",
       "      <td>tt6722030</td>\n",
       "      <td>102.0</td>\n",
       "      <td>Drama,Horror,Mystery</td>\n",
       "      <td>post 2010</td>\n",
       "    </tr>\n",
       "    <tr>\n",
       "      <td>3</td>\n",
       "      <td>2019-01-16</td>\n",
       "      <td>Dragon Ball Super: Broly</td>\n",
       "      <td>8500000</td>\n",
       "      <td>30376755</td>\n",
       "      <td>122747755</td>\n",
       "      <td>2019</td>\n",
       "      <td>tt7961060</td>\n",
       "      <td>100.0</td>\n",
       "      <td>Action,Adventure,Animation</td>\n",
       "      <td>post 2010</td>\n",
       "    </tr>\n",
       "    <tr>\n",
       "      <td>4</td>\n",
       "      <td>2019-02-22</td>\n",
       "      <td>How to Train Your Dragon: The Hidden World</td>\n",
       "      <td>129000000</td>\n",
       "      <td>160791800</td>\n",
       "      <td>519258283</td>\n",
       "      <td>2019</td>\n",
       "      <td>tt2386490</td>\n",
       "      <td>104.0</td>\n",
       "      <td>Action,Adventure,Animation</td>\n",
       "      <td>post 2010</td>\n",
       "    </tr>\n",
       "  </tbody>\n",
       "</table>\n",
       "</div>"
      ],
      "text/plain": [
       "  release_date                                       movie  production_budget  \\\n",
       "0   2019-03-08                              Captain Marvel          175000000   \n",
       "1   2019-05-31                                   Rocketman           41000000   \n",
       "2   2019-05-03                                The Intruder            8000000   \n",
       "3   2019-01-16                    Dragon Ball Super: Broly            8500000   \n",
       "4   2019-02-22  How to Train Your Dragon: The Hidden World          129000000   \n",
       "\n",
       "   domestic_gross  worldwide_gross  release_year     tconst  runtime_minutes  \\\n",
       "0       426525952       1123061550          2019  tt4154664            123.0   \n",
       "1        57342725        108642725          2019  tt2066051            121.0   \n",
       "2        35095904         36005871          2019  tt6722030            102.0   \n",
       "3        30376755        122747755          2019  tt7961060            100.0   \n",
       "4       160791800        519258283          2019  tt2386490            104.0   \n",
       "\n",
       "                       genres     decade  \n",
       "0     Action,Adventure,Sci-Fi  post 2010  \n",
       "1       Biography,Drama,Music  post 2010  \n",
       "2        Drama,Horror,Mystery  post 2010  \n",
       "3  Action,Adventure,Animation  post 2010  \n",
       "4  Action,Adventure,Animation  post 2010  "
      ]
     },
     "execution_count": 78,
     "metadata": {},
     "output_type": "execute_result"
    }
   ],
   "source": [
    "# Check column added\n",
    "movies.head()"
   ]
  },
  {
   "cell_type": "code",
   "execution_count": 79,
   "metadata": {},
   "outputs": [
    {
     "data": {
      "image/png": "[encoded data removed]",
      "text/plain": [
       "<Figure size 720x360 with 1 Axes>"
      ]
     },
     "metadata": {
      "needs_background": "light"
     },
     "output_type": "display_data"
    }
   ],
   "source": [
    "# Plot number of movies released per decade\n",
    "sns.catplot(x = 'decade', kind = 'count', data = movies, aspect = 2)\n",
    "plt.ylabel('Number of Movies', fontsize=12)\n",
    "plt.xlabel('Decade', fontsize=12)\n",
    "plt.title('Number of Movies released per decade', fontsize = 12)\n",
    "plt.show()"
   ]
  },
  {
   "cell_type": "code",
   "execution_count": 80,
   "metadata": {
    "scrolled": true
   },
   "outputs": [
    {
     "data": {
      "image/png": "[encoded data removed]",
      "text/plain": [
       "<Figure size 900x360 with 1 Axes>"
      ]
     },
     "metadata": {
      "needs_background": "light"
     },
     "output_type": "display_data"
    }
   ],
   "source": [
    "# Plot number of movies released per year 1990 onwards\n",
    "sns.catplot(x = 'release_year', kind = 'count', data = movies[movies['release_year'] >=1990], aspect = 2.5)\n",
    "plt.ylabel('Number of Movies', fontsize=12)\n",
    "plt.xlabel('Year', fontsize=12)\n",
    "plt.title('Number of Movies released per year', fontsize = 12)\n",
    "plt.show()"
   ]
  },
  {
   "cell_type": "markdown",
   "metadata": {},
   "source": [
    "## Profit and Profit Margin"
   ]
  },
  {
   "cell_type": "markdown",
   "metadata": {},
   "source": [
    "The business value of this venture relies on making profit."
   ]
  },
  {
   "cell_type": "code",
   "execution_count": 81,
   "metadata": {},
   "outputs": [],
   "source": [
    "# Create profit column as worldwide_gross less production_budget\n",
    "movies['profit'] = movies.apply(lambda x: (x['worldwide_gross']) - (x['production_budget']), axis = 1)"
   ]
  },
  {
   "cell_type": "code",
   "execution_count": 82,
   "metadata": {},
   "outputs": [
    {
     "data": {
      "text/html": [
       "<div>\n",
       "<style scoped>\n",
       "    .dataframe tbody tr th:only-of-type {\n",
       "        vertical-align: middle;\n",
       "    }\n",
       "\n",
       "    .dataframe tbody tr th {\n",
       "        vertical-align: top;\n",
       "    }\n",
       "\n",
       "    .dataframe thead th {\n",
       "        text-align: right;\n",
       "    }\n",
       "</style>\n",
       "<table border=\"1\" class=\"dataframe\">\n",
       "  <thead>\n",
       "    <tr style=\"text-align: right;\">\n",
       "      <th></th>\n",
       "      <th>release_date</th>\n",
       "      <th>movie</th>\n",
       "      <th>production_budget</th>\n",
       "      <th>domestic_gross</th>\n",
       "      <th>worldwide_gross</th>\n",
       "      <th>release_year</th>\n",
       "      <th>tconst</th>\n",
       "      <th>runtime_minutes</th>\n",
       "      <th>genres</th>\n",
       "      <th>decade</th>\n",
       "      <th>profit</th>\n",
       "    </tr>\n",
       "  </thead>\n",
       "  <tbody>\n",
       "    <tr>\n",
       "      <td>0</td>\n",
       "      <td>2019-03-08</td>\n",
       "      <td>Captain Marvel</td>\n",
       "      <td>175000000</td>\n",
       "      <td>426525952</td>\n",
       "      <td>1123061550</td>\n",
       "      <td>2019</td>\n",
       "      <td>tt4154664</td>\n",
       "      <td>123.0</td>\n",
       "      <td>Action,Adventure,Sci-Fi</td>\n",
       "      <td>post 2010</td>\n",
       "      <td>948061550</td>\n",
       "    </tr>\n",
       "    <tr>\n",
       "      <td>1</td>\n",
       "      <td>2019-05-31</td>\n",
       "      <td>Rocketman</td>\n",
       "      <td>41000000</td>\n",
       "      <td>57342725</td>\n",
       "      <td>108642725</td>\n",
       "      <td>2019</td>\n",
       "      <td>tt2066051</td>\n",
       "      <td>121.0</td>\n",
       "      <td>Biography,Drama,Music</td>\n",
       "      <td>post 2010</td>\n",
       "      <td>67642725</td>\n",
       "    </tr>\n",
       "    <tr>\n",
       "      <td>2</td>\n",
       "      <td>2019-05-03</td>\n",
       "      <td>The Intruder</td>\n",
       "      <td>8000000</td>\n",
       "      <td>35095904</td>\n",
       "      <td>36005871</td>\n",
       "      <td>2019</td>\n",
       "      <td>tt6722030</td>\n",
       "      <td>102.0</td>\n",
       "      <td>Drama,Horror,Mystery</td>\n",
       "      <td>post 2010</td>\n",
       "      <td>28005871</td>\n",
       "    </tr>\n",
       "    <tr>\n",
       "      <td>3</td>\n",
       "      <td>2019-01-16</td>\n",
       "      <td>Dragon Ball Super: Broly</td>\n",
       "      <td>8500000</td>\n",
       "      <td>30376755</td>\n",
       "      <td>122747755</td>\n",
       "      <td>2019</td>\n",
       "      <td>tt7961060</td>\n",
       "      <td>100.0</td>\n",
       "      <td>Action,Adventure,Animation</td>\n",
       "      <td>post 2010</td>\n",
       "      <td>114247755</td>\n",
       "    </tr>\n",
       "    <tr>\n",
       "      <td>4</td>\n",
       "      <td>2019-02-22</td>\n",
       "      <td>How to Train Your Dragon: The Hidden World</td>\n",
       "      <td>129000000</td>\n",
       "      <td>160791800</td>\n",
       "      <td>519258283</td>\n",
       "      <td>2019</td>\n",
       "      <td>tt2386490</td>\n",
       "      <td>104.0</td>\n",
       "      <td>Action,Adventure,Animation</td>\n",
       "      <td>post 2010</td>\n",
       "      <td>390258283</td>\n",
       "    </tr>\n",
       "  </tbody>\n",
       "</table>\n",
       "</div>"
      ],
      "text/plain": [
       "  release_date                                       movie  production_budget  \\\n",
       "0   2019-03-08                              Captain Marvel          175000000   \n",
       "1   2019-05-31                                   Rocketman           41000000   \n",
       "2   2019-05-03                                The Intruder            8000000   \n",
       "3   2019-01-16                    Dragon Ball Super: Broly            8500000   \n",
       "4   2019-02-22  How to Train Your Dragon: The Hidden World          129000000   \n",
       "\n",
       "   domestic_gross  worldwide_gross  release_year     tconst  runtime_minutes  \\\n",
       "0       426525952       1123061550          2019  tt4154664            123.0   \n",
       "1        57342725        108642725          2019  tt2066051            121.0   \n",
       "2        35095904         36005871          2019  tt6722030            102.0   \n",
       "3        30376755        122747755          2019  tt7961060            100.0   \n",
       "4       160791800        519258283          2019  tt2386490            104.0   \n",
       "\n",
       "                       genres     decade     profit  \n",
       "0     Action,Adventure,Sci-Fi  post 2010  948061550  \n",
       "1       Biography,Drama,Music  post 2010   67642725  \n",
       "2        Drama,Horror,Mystery  post 2010   28005871  \n",
       "3  Action,Adventure,Animation  post 2010  114247755  \n",
       "4  Action,Adventure,Animation  post 2010  390258283  "
      ]
     },
     "execution_count": 82,
     "metadata": {},
     "output_type": "execute_result"
    }
   ],
   "source": [
    "movies.head()"
   ]
  },
  {
   "cell_type": "code",
   "execution_count": 83,
   "metadata": {
    "scrolled": true
   },
   "outputs": [
    {
     "data": {
      "text/plain": [
       "count          2084.000000\n",
       "mean       81112740.337332\n",
       "std       183543483.470248\n",
       "min      -200237650.000000\n",
       "25%        -1406246.750000\n",
       "50%        15904174.500000\n",
       "75%        80066414.750000\n",
       "max      2351345279.000000\n",
       "Name: profit, dtype: object"
      ]
     },
     "execution_count": 83,
     "metadata": {},
     "output_type": "execute_result"
    }
   ],
   "source": [
    "# Get summary statistics for profit\n",
    "# Use plain formatting to remove scientific notation\n",
    "movies['profit'].describe().apply(lambda x: format(x, 'f'))"
   ]
  },
  {
   "cell_type": "code",
   "execution_count": 84,
   "metadata": {},
   "outputs": [
    {
     "data": {
      "image/png": "[encoded data removed]",
      "text/plain": [
       "<Figure size 504x504 with 1 Axes>"
      ]
     },
     "metadata": {
      "needs_background": "light"
     },
     "output_type": "display_data"
    }
   ],
   "source": [
    "# Plot relationship between profit and worldwide gross\n",
    "plt.figure(figsize = (7,7))\n",
    "sns.regplot(x = 'profit', y = 'worldwide_gross', data = movies)\n",
    "plt.title('Relationship between Worldwide gross and Profit')\n",
    "plt.xlabel('Profit in USD billions')\n",
    "plt.ylabel('Worldwide Gross in USD billions')\n",
    "plt.show()"
   ]
  },
  {
   "cell_type": "code",
   "execution_count": 85,
   "metadata": {},
   "outputs": [],
   "source": [
    "recentmovies = movies[movies['release_year'] >= 2010]"
   ]
  },
  {
   "cell_type": "code",
   "execution_count": 86,
   "metadata": {},
   "outputs": [],
   "source": [
    "toprecentmovies = recentmovies.sort_values('worldwide_gross', ascending = False)[:100]"
   ]
  },
  {
   "cell_type": "code",
   "execution_count": 87,
   "metadata": {
    "scrolled": true
   },
   "outputs": [
    {
     "data": {
      "text/plain": [
       "count           100.000000\n",
       "mean      691605832.340000\n",
       "std       259663089.720533\n",
       "min       326477240.000000\n",
       "25%       501262532.000000\n",
       "50%       619951567.000000\n",
       "75%       842264720.500000\n",
       "max      1748134200.000000\n",
       "Name: profit, dtype: object"
      ]
     },
     "execution_count": 87,
     "metadata": {},
     "output_type": "execute_result"
    }
   ],
   "source": [
    "toprecentmovies['profit'].describe().apply(lambda x: format(x, 'f'))"
   ]
  },
  {
   "cell_type": "code",
   "execution_count": 88,
   "metadata": {
    "scrolled": true
   },
   "outputs": [
    {
     "data": {
      "image/png": "[encoded data removed]",
      "text/plain": [
       "<Figure size 576x360 with 1 Axes>"
      ]
     },
     "metadata": {
      "needs_background": "light"
     },
     "output_type": "display_data"
    }
   ],
   "source": [
    "plt.figure(figsize = (8,5))\n",
    "sns.distplot(toprecentmovies['profit'])\n",
    "plt.title('Distribution of Profit in Top 100 Grossing Movies 2010-2019')\n",
    "plt.xlabel('Profit in USD billions')\n",
    "plt.ylabel('Frequency')\n",
    "plt.show()"
   ]
  },
  {
   "cell_type": "code",
   "execution_count": 89,
   "metadata": {},
   "outputs": [],
   "source": [
    "# Create profit margin column\n",
    "movies['profit_margin'] = movies.apply(lambda x: ((x['profit']) / (x['worldwide_gross']))*100, axis = 1)"
   ]
  },
  {
   "cell_type": "code",
   "execution_count": 90,
   "metadata": {
    "scrolled": false
   },
   "outputs": [
    {
     "data": {
      "text/plain": [
       "count        2084.000000\n",
       "mean        -3961.209081\n",
       "std         87412.139510\n",
       "min      -3846053.846154\n",
       "25%           -41.432339\n",
       "50%            48.808903\n",
       "75%            74.379810\n",
       "max            99.759941\n",
       "Name: profit_margin, dtype: object"
      ]
     },
     "execution_count": 90,
     "metadata": {},
     "output_type": "execute_result"
    }
   ],
   "source": [
    "# Get summary statistics for profit margin\n",
    "# Use plain formatting to remove scientific notation\n",
    "movies['profit_margin'].describe().apply(lambda x: format(x, 'f'))"
   ]
  },
  {
   "cell_type": "code",
   "execution_count": 91,
   "metadata": {
    "scrolled": true
   },
   "outputs": [
    {
     "data": {
      "text/plain": [
       "count    100.000000\n",
       "mean      79.614097\n",
       "std        8.313902\n",
       "min       54.264473\n",
       "25%       75.319471\n",
       "50%       80.140636\n",
       "75%       85.518691\n",
       "max       94.981776\n",
       "Name: profit_margin, dtype: float64"
      ]
     },
     "execution_count": 91,
     "metadata": {},
     "output_type": "execute_result"
    }
   ],
   "source": [
    "recentmovies = movies[movies['release_year'] >= 2010]\n",
    "toprecentmovies = recentmovies.sort_values('worldwide_gross', ascending = False)[:100]\n",
    "toprecentmovies['profit_margin'].describe()"
   ]
  },
  {
   "cell_type": "code",
   "execution_count": 92,
   "metadata": {},
   "outputs": [
    {
     "data": {
      "image/png": "[encoded data removed]",
      "text/plain": [
       "<Figure size 576x360 with 1 Axes>"
      ]
     },
     "metadata": {
      "needs_background": "light"
     },
     "output_type": "display_data"
    }
   ],
   "source": [
    "plt.figure(figsize = (8,5))\n",
    "sns.distplot(toprecentmovies['profit_margin'])\n",
    "plt.title('Profit Margin for Top 100 Grossing Movies 2010-2019')\n",
    "plt.xlabel('Profit Margin %')\n",
    "plt.ylabel('Frequency')\n",
    "plt.show()"
   ]
  },
  {
   "cell_type": "code",
   "execution_count": 93,
   "metadata": {},
   "outputs": [
    {
     "data": {
      "text/html": [
       "<div>\n",
       "<style scoped>\n",
       "    .dataframe tbody tr th:only-of-type {\n",
       "        vertical-align: middle;\n",
       "    }\n",
       "\n",
       "    .dataframe tbody tr th {\n",
       "        vertical-align: top;\n",
       "    }\n",
       "\n",
       "    .dataframe thead th {\n",
       "        text-align: right;\n",
       "    }\n",
       "</style>\n",
       "<table border=\"1\" class=\"dataframe\">\n",
       "  <thead>\n",
       "    <tr style=\"text-align: right;\">\n",
       "      <th></th>\n",
       "      <th>release_date</th>\n",
       "      <th>movie</th>\n",
       "      <th>production_budget</th>\n",
       "      <th>domestic_gross</th>\n",
       "      <th>worldwide_gross</th>\n",
       "      <th>release_year</th>\n",
       "      <th>tconst</th>\n",
       "      <th>runtime_minutes</th>\n",
       "      <th>genres</th>\n",
       "      <th>decade</th>\n",
       "      <th>profit</th>\n",
       "      <th>profit_margin</th>\n",
       "    </tr>\n",
       "  </thead>\n",
       "  <tbody>\n",
       "    <tr>\n",
       "      <td>138</td>\n",
       "      <td>2018-04-27</td>\n",
       "      <td>Avengers: Infinity War</td>\n",
       "      <td>300000000</td>\n",
       "      <td>678815482</td>\n",
       "      <td>2048134200</td>\n",
       "      <td>2018</td>\n",
       "      <td>tt4154756</td>\n",
       "      <td>149.0</td>\n",
       "      <td>Action,Adventure,Sci-Fi</td>\n",
       "      <td>post 2010</td>\n",
       "      <td>1748134200</td>\n",
       "      <td>85.352522</td>\n",
       "    </tr>\n",
       "    <tr>\n",
       "      <td>484</td>\n",
       "      <td>2015-06-12</td>\n",
       "      <td>Jurassic World</td>\n",
       "      <td>215000000</td>\n",
       "      <td>652270625</td>\n",
       "      <td>1648854864</td>\n",
       "      <td>2015</td>\n",
       "      <td>tt0369610</td>\n",
       "      <td>124.0</td>\n",
       "      <td>Action,Adventure,Sci-Fi</td>\n",
       "      <td>post 2010</td>\n",
       "      <td>1433854864</td>\n",
       "      <td>86.960647</td>\n",
       "    </tr>\n",
       "    <tr>\n",
       "      <td>655</td>\n",
       "      <td>2015-04-03</td>\n",
       "      <td>Furious 7</td>\n",
       "      <td>190000000</td>\n",
       "      <td>353007020</td>\n",
       "      <td>1518722794</td>\n",
       "      <td>2015</td>\n",
       "      <td>tt2820852</td>\n",
       "      <td>137.0</td>\n",
       "      <td>Action,Crime,Thriller</td>\n",
       "      <td>post 2010</td>\n",
       "      <td>1328722794</td>\n",
       "      <td>87.489488</td>\n",
       "    </tr>\n",
       "    <tr>\n",
       "      <td>1091</td>\n",
       "      <td>2012-05-04</td>\n",
       "      <td>The Avengers</td>\n",
       "      <td>225000000</td>\n",
       "      <td>623279547</td>\n",
       "      <td>1517935897</td>\n",
       "      <td>2012</td>\n",
       "      <td>tt0848228</td>\n",
       "      <td>143.0</td>\n",
       "      <td>Action,Adventure,Sci-Fi</td>\n",
       "      <td>post 2010</td>\n",
       "      <td>1292935897</td>\n",
       "      <td>85.177240</td>\n",
       "    </tr>\n",
       "    <tr>\n",
       "      <td>140</td>\n",
       "      <td>2018-02-16</td>\n",
       "      <td>Black Panther</td>\n",
       "      <td>200000000</td>\n",
       "      <td>700059566</td>\n",
       "      <td>1348258224</td>\n",
       "      <td>2018</td>\n",
       "      <td>tt1825683</td>\n",
       "      <td>134.0</td>\n",
       "      <td>Action,Adventure,Sci-Fi</td>\n",
       "      <td>post 2010</td>\n",
       "      <td>1148258224</td>\n",
       "      <td>85.166046</td>\n",
       "    </tr>\n",
       "  </tbody>\n",
       "</table>\n",
       "</div>"
      ],
      "text/plain": [
       "     release_date                   movie  production_budget  domestic_gross  \\\n",
       "138    2018-04-27  Avengers: Infinity War          300000000       678815482   \n",
       "484    2015-06-12          Jurassic World          215000000       652270625   \n",
       "655    2015-04-03               Furious 7          190000000       353007020   \n",
       "1091   2012-05-04            The Avengers          225000000       623279547   \n",
       "140    2018-02-16           Black Panther          200000000       700059566   \n",
       "\n",
       "      worldwide_gross  release_year     tconst  runtime_minutes  \\\n",
       "138        2048134200          2018  tt4154756            149.0   \n",
       "484        1648854864          2015  tt0369610            124.0   \n",
       "655        1518722794          2015  tt2820852            137.0   \n",
       "1091       1517935897          2012  tt0848228            143.0   \n",
       "140        1348258224          2018  tt1825683            134.0   \n",
       "\n",
       "                       genres     decade      profit  profit_margin  \n",
       "138   Action,Adventure,Sci-Fi  post 2010  1748134200      85.352522  \n",
       "484   Action,Adventure,Sci-Fi  post 2010  1433854864      86.960647  \n",
       "655     Action,Crime,Thriller  post 2010  1328722794      87.489488  \n",
       "1091  Action,Adventure,Sci-Fi  post 2010  1292935897      85.177240  \n",
       "140   Action,Adventure,Sci-Fi  post 2010  1148258224      85.166046  "
      ]
     },
     "execution_count": 93,
     "metadata": {},
     "output_type": "execute_result"
    }
   ],
   "source": [
    "topprofit = recentmovies.sort_values('profit', ascending = False)\n",
    "topprofit.head()"
   ]
  },
  {
   "cell_type": "code",
   "execution_count": 94,
   "metadata": {
    "scrolled": true
   },
   "outputs": [
    {
     "data": {
      "text/html": [
       "<div>\n",
       "<style scoped>\n",
       "    .dataframe tbody tr th:only-of-type {\n",
       "        vertical-align: middle;\n",
       "    }\n",
       "\n",
       "    .dataframe tbody tr th {\n",
       "        vertical-align: top;\n",
       "    }\n",
       "\n",
       "    .dataframe thead th {\n",
       "        text-align: right;\n",
       "    }\n",
       "</style>\n",
       "<table border=\"1\" class=\"dataframe\">\n",
       "  <thead>\n",
       "    <tr style=\"text-align: right;\">\n",
       "      <th></th>\n",
       "      <th>release_date</th>\n",
       "      <th>movie</th>\n",
       "      <th>production_budget</th>\n",
       "      <th>domestic_gross</th>\n",
       "      <th>worldwide_gross</th>\n",
       "      <th>release_year</th>\n",
       "      <th>tconst</th>\n",
       "      <th>runtime_minutes</th>\n",
       "      <th>genres</th>\n",
       "      <th>decade</th>\n",
       "      <th>profit</th>\n",
       "      <th>profit_margin</th>\n",
       "    </tr>\n",
       "  </thead>\n",
       "  <tbody>\n",
       "    <tr>\n",
       "      <td>648</td>\n",
       "      <td>2015-07-10</td>\n",
       "      <td>The Gallows</td>\n",
       "      <td>100000</td>\n",
       "      <td>22764410</td>\n",
       "      <td>41656474</td>\n",
       "      <td>2015</td>\n",
       "      <td>tt2309260</td>\n",
       "      <td>81.0</td>\n",
       "      <td>Horror,Mystery,Thriller</td>\n",
       "      <td>post 2010</td>\n",
       "      <td>41556474</td>\n",
       "      <td>99.759941</td>\n",
       "    </tr>\n",
       "    <tr>\n",
       "      <td>1154</td>\n",
       "      <td>2012-01-06</td>\n",
       "      <td>The Devil Inside</td>\n",
       "      <td>1000000</td>\n",
       "      <td>53262945</td>\n",
       "      <td>101759490</td>\n",
       "      <td>2012</td>\n",
       "      <td>tt1560985</td>\n",
       "      <td>83.0</td>\n",
       "      <td>Horror</td>\n",
       "      <td>post 2010</td>\n",
       "      <td>100759490</td>\n",
       "      <td>99.017291</td>\n",
       "    </tr>\n",
       "    <tr>\n",
       "      <td>1400</td>\n",
       "      <td>2011-04-01</td>\n",
       "      <td>Insidious</td>\n",
       "      <td>1500000</td>\n",
       "      <td>54009150</td>\n",
       "      <td>99870886</td>\n",
       "      <td>2011</td>\n",
       "      <td>tt1591095</td>\n",
       "      <td>103.0</td>\n",
       "      <td>Horror,Mystery,Thriller</td>\n",
       "      <td>post 2010</td>\n",
       "      <td>98370886</td>\n",
       "      <td>98.498061</td>\n",
       "    </tr>\n",
       "    <tr>\n",
       "      <td>549</td>\n",
       "      <td>2015-04-17</td>\n",
       "      <td>Unfriended</td>\n",
       "      <td>1000000</td>\n",
       "      <td>32789645</td>\n",
       "      <td>64364198</td>\n",
       "      <td>2015</td>\n",
       "      <td>tt3713166</td>\n",
       "      <td>83.0</td>\n",
       "      <td>Horror,Mystery,Thriller</td>\n",
       "      <td>post 2010</td>\n",
       "      <td>63364198</td>\n",
       "      <td>98.446341</td>\n",
       "    </tr>\n",
       "    <tr>\n",
       "      <td>1556</td>\n",
       "      <td>2010-10-20</td>\n",
       "      <td>Paranormal Activity 2</td>\n",
       "      <td>3000000</td>\n",
       "      <td>84752907</td>\n",
       "      <td>177512032</td>\n",
       "      <td>2010</td>\n",
       "      <td>tt1536044</td>\n",
       "      <td>91.0</td>\n",
       "      <td>Horror</td>\n",
       "      <td>2000s</td>\n",
       "      <td>174512032</td>\n",
       "      <td>98.309974</td>\n",
       "    </tr>\n",
       "  </tbody>\n",
       "</table>\n",
       "</div>"
      ],
      "text/plain": [
       "     release_date                  movie  production_budget  domestic_gross  \\\n",
       "648    2015-07-10            The Gallows             100000        22764410   \n",
       "1154   2012-01-06       The Devil Inside            1000000        53262945   \n",
       "1400   2011-04-01              Insidious            1500000        54009150   \n",
       "549    2015-04-17             Unfriended            1000000        32789645   \n",
       "1556   2010-10-20  Paranormal Activity 2            3000000        84752907   \n",
       "\n",
       "      worldwide_gross  release_year     tconst  runtime_minutes  \\\n",
       "648          41656474          2015  tt2309260             81.0   \n",
       "1154        101759490          2012  tt1560985             83.0   \n",
       "1400         99870886          2011  tt1591095            103.0   \n",
       "549          64364198          2015  tt3713166             83.0   \n",
       "1556        177512032          2010  tt1536044             91.0   \n",
       "\n",
       "                       genres     decade     profit  profit_margin  \n",
       "648   Horror,Mystery,Thriller  post 2010   41556474      99.759941  \n",
       "1154                   Horror  post 2010  100759490      99.017291  \n",
       "1400  Horror,Mystery,Thriller  post 2010   98370886      98.498061  \n",
       "549   Horror,Mystery,Thriller  post 2010   63364198      98.446341  \n",
       "1556                   Horror      2000s  174512032      98.309974  "
      ]
     },
     "execution_count": 94,
     "metadata": {},
     "output_type": "execute_result"
    }
   ],
   "source": [
    "topprofitmargin = recentmovies.sort_values('profit_margin', ascending = False)\n",
    "topprofitmargin.head()"
   ]
  },
  {
   "cell_type": "markdown",
   "metadata": {},
   "source": [
    "## Impact of Budget"
   ]
  },
  {
   "cell_type": "code",
   "execution_count": 95,
   "metadata": {},
   "outputs": [
    {
     "data": {
      "text/plain": [
       "count         2084.00000\n",
       "mean      39546872.35893\n",
       "std       51173832.04753\n",
       "min           9000.00000\n",
       "25%        7000000.00000\n",
       "50%       20000000.00000\n",
       "75%       50000000.00000\n",
       "max      425000000.00000\n",
       "Name: production_budget, dtype: object"
      ]
     },
     "execution_count": 95,
     "metadata": {},
     "output_type": "execute_result"
    }
   ],
   "source": [
    "# Describe production budget\n",
    "# Use plain formatting to remove scientific notation\n",
    "movies['production_budget'].describe().apply(lambda x: '%.5f' % x)"
   ]
  },
  {
   "cell_type": "code",
   "execution_count": 96,
   "metadata": {},
   "outputs": [],
   "source": [
    "# Define bins based on statistics\n",
    "bins = [0, 7000000, 20000000, 50000000, np.inf]\n",
    "names = ['<7m', '7-20m', '20-50m', '>50m']"
   ]
  },
  {
   "cell_type": "code",
   "execution_count": 97,
   "metadata": {},
   "outputs": [],
   "source": [
    "# Create budget_range column\n",
    "movies['budget_range'] = pd.cut(movies['production_budget'], bins, labels=names)"
   ]
  },
  {
   "cell_type": "code",
   "execution_count": 98,
   "metadata": {
    "scrolled": false
   },
   "outputs": [
    {
     "data": {
      "image/png": "[encoded data removed]",
      "text/plain": [
       "<Figure size 540x360 with 1 Axes>"
      ]
     },
     "metadata": {
      "needs_background": "light"
     },
     "output_type": "display_data"
    }
   ],
   "source": [
    "# Boxplot of Bugdet Range\n",
    "sns.catplot(x = 'budget_range', y = 'worldwide_gross', aspect =1.5, kind = 'box', data = movies)\n",
    "plt.title('Impact of Budget on Worldwide Gross')\n",
    "plt.xlabel('Budget in USD Millions')\n",
    "plt.ylabel('Worldwide Gross in USD Billions')\n",
    "plt.show()"
   ]
  },
  {
   "cell_type": "code",
   "execution_count": 99,
   "metadata": {
    "scrolled": true
   },
   "outputs": [],
   "source": [
    "recentmovies = movies[movies['release_year'] >= 2010]"
   ]
  },
  {
   "cell_type": "code",
   "execution_count": 100,
   "metadata": {},
   "outputs": [],
   "source": [
    "toprecentmovies = recentmovies.sort_values('worldwide_gross', ascending = False)[:100]"
   ]
  },
  {
   "cell_type": "code",
   "execution_count": 101,
   "metadata": {
    "scrolled": false
   },
   "outputs": [
    {
     "data": {
      "text/plain": [
       "count          100.00000\n",
       "mean     167792000.00000\n",
       "std       66933194.01169\n",
       "min       35000000.00000\n",
       "25%      126500000.00000\n",
       "50%      170000000.00000\n",
       "75%      200000000.00000\n",
       "max      410600000.00000\n",
       "Name: production_budget, dtype: object"
      ]
     },
     "execution_count": 101,
     "metadata": {},
     "output_type": "execute_result"
    }
   ],
   "source": [
    "# Describe production budget\n",
    "# Use plain formatting to remove scientific notation\n",
    "toprecentmovies['production_budget'].describe().apply(lambda x: '%.5f' % x)"
   ]
  },
  {
   "cell_type": "code",
   "execution_count": 102,
   "metadata": {
    "scrolled": true
   },
   "outputs": [
    {
     "data": {
      "text/html": [
       "<div>\n",
       "<style scoped>\n",
       "    .dataframe tbody tr th:only-of-type {\n",
       "        vertical-align: middle;\n",
       "    }\n",
       "\n",
       "    .dataframe tbody tr th {\n",
       "        vertical-align: top;\n",
       "    }\n",
       "\n",
       "    .dataframe thead th {\n",
       "        text-align: right;\n",
       "    }\n",
       "</style>\n",
       "<table border=\"1\" class=\"dataframe\">\n",
       "  <thead>\n",
       "    <tr style=\"text-align: right;\">\n",
       "      <th></th>\n",
       "      <th>release_date</th>\n",
       "      <th>movie</th>\n",
       "      <th>production_budget</th>\n",
       "      <th>domestic_gross</th>\n",
       "      <th>worldwide_gross</th>\n",
       "      <th>release_year</th>\n",
       "      <th>tconst</th>\n",
       "      <th>runtime_minutes</th>\n",
       "      <th>genres</th>\n",
       "      <th>decade</th>\n",
       "      <th>profit</th>\n",
       "      <th>profit_margin</th>\n",
       "      <th>budget_range</th>\n",
       "    </tr>\n",
       "  </thead>\n",
       "  <tbody>\n",
       "    <tr>\n",
       "      <td>488</td>\n",
       "      <td>2015-05-01</td>\n",
       "      <td>Avengers: Age of Ultron</td>\n",
       "      <td>330600000</td>\n",
       "      <td>459005868</td>\n",
       "      <td>1403013963</td>\n",
       "      <td>2015</td>\n",
       "      <td>tt2395427</td>\n",
       "      <td>141.0</td>\n",
       "      <td>Action,Adventure,Sci-Fi</td>\n",
       "      <td>post 2010</td>\n",
       "      <td>1072413963</td>\n",
       "      <td>76.436443</td>\n",
       "      <td>&gt;50m</td>\n",
       "    </tr>\n",
       "    <tr>\n",
       "      <td>1279</td>\n",
       "      <td>2011-05-20</td>\n",
       "      <td>Pirates of the Caribbean: On Stranger Tides</td>\n",
       "      <td>410600000</td>\n",
       "      <td>241063875</td>\n",
       "      <td>1045663875</td>\n",
       "      <td>2011</td>\n",
       "      <td>tt1298650</td>\n",
       "      <td>136.0</td>\n",
       "      <td>Action,Adventure,Fantasy</td>\n",
       "      <td>post 2010</td>\n",
       "      <td>635063875</td>\n",
       "      <td>60.733080</td>\n",
       "      <td>&gt;50m</td>\n",
       "    </tr>\n",
       "  </tbody>\n",
       "</table>\n",
       "</div>"
      ],
      "text/plain": [
       "     release_date                                        movie  \\\n",
       "488    2015-05-01                      Avengers: Age of Ultron   \n",
       "1279   2011-05-20  Pirates of the Caribbean: On Stranger Tides   \n",
       "\n",
       "      production_budget  domestic_gross  worldwide_gross  release_year  \\\n",
       "488           330600000       459005868       1403013963          2015   \n",
       "1279          410600000       241063875       1045663875          2011   \n",
       "\n",
       "         tconst  runtime_minutes                    genres     decade  \\\n",
       "488   tt2395427            141.0   Action,Adventure,Sci-Fi  post 2010   \n",
       "1279  tt1298650            136.0  Action,Adventure,Fantasy  post 2010   \n",
       "\n",
       "          profit  profit_margin budget_range  \n",
       "488   1072413963      76.436443         >50m  \n",
       "1279   635063875      60.733080         >50m  "
      ]
     },
     "execution_count": 102,
     "metadata": {},
     "output_type": "execute_result"
    }
   ],
   "source": [
    "toprecentmovies[toprecentmovies['production_budget'] > 300000000]"
   ]
  },
  {
   "cell_type": "code",
   "execution_count": 103,
   "metadata": {},
   "outputs": [],
   "source": [
    "# Define bins based on statistics\n",
    "bins = [0, 100000000, 150000000, 200000000, np.inf]\n",
    "names = ['35-100m', '100-150m', '150-200m','200-420m' ]"
   ]
  },
  {
   "cell_type": "code",
   "execution_count": 104,
   "metadata": {},
   "outputs": [],
   "source": [
    "# Reassign budget_range column\n",
    "toprecentmovies['budget_range'] = pd.cut(toprecentmovies['production_budget'], bins, labels=names)"
   ]
  },
  {
   "cell_type": "code",
   "execution_count": 105,
   "metadata": {
    "scrolled": false
   },
   "outputs": [
    {
     "data": {
      "image/png": "[encoded data removed]",
      "text/plain": [
       "<Figure size 540x360 with 1 Axes>"
      ]
     },
     "metadata": {
      "needs_background": "light"
     },
     "output_type": "display_data"
    }
   ],
   "source": [
    "# Boxplot of budget range\n",
    "sns.catplot(x = 'budget_range', y = 'worldwide_gross', kind = 'box', aspect = 1.5, data = toprecentmovies)\n",
    "plt.title('Impact of Budget on Worldwide Gross')\n",
    "plt.xlabel('Budget in USD Millions')\n",
    "plt.ylabel('Worldwide Gross in USD Billions')\n",
    "plt.show()"
   ]
  },
  {
   "cell_type": "markdown",
   "metadata": {},
   "source": [
    "## Runtime"
   ]
  },
  {
   "cell_type": "code",
   "execution_count": 106,
   "metadata": {
    "scrolled": true
   },
   "outputs": [
    {
     "data": {
      "text/plain": [
       "count    2084.000000\n",
       "mean      101.222169\n",
       "std        23.391840\n",
       "min         4.000000\n",
       "25%        87.000000\n",
       "50%       100.000000\n",
       "75%       114.000000\n",
       "max       312.000000\n",
       "Name: runtime_minutes, dtype: float64"
      ]
     },
     "execution_count": 106,
     "metadata": {},
     "output_type": "execute_result"
    }
   ],
   "source": [
    "# Get statistics for runtime\n",
    "movies['runtime_minutes'].describe()"
   ]
  },
  {
   "cell_type": "code",
   "execution_count": 107,
   "metadata": {},
   "outputs": [],
   "source": [
    "def runtimeplot(df):\n",
    "    sns.distplot(df['runtime_minutes'])\n",
    "    plt.title('Runtime distribution')\n",
    "    plt.xlabel('Minutes')\n",
    "    plt.ylabel('Frequency')\n",
    "    return plt.show()"
   ]
  },
  {
   "cell_type": "code",
   "execution_count": 108,
   "metadata": {},
   "outputs": [
    {
     "data": {
      "image/png": "[encoded data removed]",
      "text/plain": [
       "<Figure size 432x288 with 1 Axes>"
      ]
     },
     "metadata": {
      "needs_background": "light"
     },
     "output_type": "display_data"
    }
   ],
   "source": [
    "runtimeplot(movies)"
   ]
  },
  {
   "cell_type": "code",
   "execution_count": 109,
   "metadata": {
    "scrolled": true
   },
   "outputs": [
    {
     "data": {
      "text/plain": [
       "count    100.000000\n",
       "mean     121.810000\n",
       "std       23.017207\n",
       "min       48.000000\n",
       "25%      103.750000\n",
       "50%      124.000000\n",
       "75%      137.000000\n",
       "max      169.000000\n",
       "Name: runtime_minutes, dtype: float64"
      ]
     },
     "execution_count": 109,
     "metadata": {},
     "output_type": "execute_result"
    }
   ],
   "source": [
    "toprecentmovies['runtime_minutes'].describe()"
   ]
  },
  {
   "cell_type": "code",
   "execution_count": 110,
   "metadata": {
    "scrolled": true
   },
   "outputs": [
    {
     "data": {
      "image/png": "[encoded data removed]",
      "text/plain": [
       "<Figure size 432x288 with 1 Axes>"
      ]
     },
     "metadata": {
      "needs_background": "light"
     },
     "output_type": "display_data"
    }
   ],
   "source": [
    "runtimeplot(toprecentmovies)"
   ]
  },
  {
   "cell_type": "markdown",
   "metadata": {},
   "source": [
    "Does a longer movie require a larger production budget?"
   ]
  },
  {
   "cell_type": "code",
   "execution_count": 111,
   "metadata": {
    "scrolled": true
   },
   "outputs": [
    {
     "data": {
      "text/plain": [
       "<matplotlib.axes._subplots.AxesSubplot at 0x1a349a9c88>"
      ]
     },
     "execution_count": 111,
     "metadata": {},
     "output_type": "execute_result"
    },
    {
     "data": {
      "image/png": "[encoded data removed]",
      "text/plain": [
       "<Figure size 432x288 with 1 Axes>"
      ]
     },
     "metadata": {
      "needs_background": "light"
     },
     "output_type": "display_data"
    }
   ],
   "source": [
    "# plot relationshop between runtime and budget\n",
    "sns.regplot(x = 'runtime_minutes', y = 'production_budget', data = toprecentmovies)"
   ]
  },
  {
   "cell_type": "code",
   "execution_count": 112,
   "metadata": {},
   "outputs": [
    {
     "data": {
      "text/plain": [
       "0.36556201085161044"
      ]
     },
     "execution_count": 112,
     "metadata": {},
     "output_type": "execute_result"
    }
   ],
   "source": [
    "# Get the correlation coefficient between runtime and production budget\n",
    "toprecentmovies['runtime_minutes'].corr(toprecentmovies['production_budget'])"
   ]
  },
  {
   "cell_type": "markdown",
   "metadata": {},
   "source": [
    "## Genre"
   ]
  },
  {
   "cell_type": "code",
   "execution_count": 113,
   "metadata": {
    "scrolled": true
   },
   "outputs": [
    {
     "data": {
      "text/html": [
       "<div>\n",
       "<style scoped>\n",
       "    .dataframe tbody tr th:only-of-type {\n",
       "        vertical-align: middle;\n",
       "    }\n",
       "\n",
       "    .dataframe tbody tr th {\n",
       "        vertical-align: top;\n",
       "    }\n",
       "\n",
       "    .dataframe thead th {\n",
       "        text-align: right;\n",
       "    }\n",
       "</style>\n",
       "<table border=\"1\" class=\"dataframe\">\n",
       "  <thead>\n",
       "    <tr style=\"text-align: right;\">\n",
       "      <th></th>\n",
       "      <th>movie</th>\n",
       "      <th>genres</th>\n",
       "    </tr>\n",
       "  </thead>\n",
       "  <tbody>\n",
       "    <tr>\n",
       "      <td>0</td>\n",
       "      <td>Captain Marvel</td>\n",
       "      <td>Action,Adventure,Sci-Fi</td>\n",
       "    </tr>\n",
       "    <tr>\n",
       "      <td>1</td>\n",
       "      <td>Rocketman</td>\n",
       "      <td>Biography,Drama,Music</td>\n",
       "    </tr>\n",
       "    <tr>\n",
       "      <td>2</td>\n",
       "      <td>The Intruder</td>\n",
       "      <td>Drama,Horror,Mystery</td>\n",
       "    </tr>\n",
       "    <tr>\n",
       "      <td>3</td>\n",
       "      <td>Dragon Ball Super: Broly</td>\n",
       "      <td>Action,Adventure,Animation</td>\n",
       "    </tr>\n",
       "    <tr>\n",
       "      <td>4</td>\n",
       "      <td>How to Train Your Dragon: The Hidden World</td>\n",
       "      <td>Action,Adventure,Animation</td>\n",
       "    </tr>\n",
       "  </tbody>\n",
       "</table>\n",
       "</div>"
      ],
      "text/plain": [
       "                                        movie                      genres\n",
       "0                              Captain Marvel     Action,Adventure,Sci-Fi\n",
       "1                                   Rocketman       Biography,Drama,Music\n",
       "2                                The Intruder        Drama,Horror,Mystery\n",
       "3                    Dragon Ball Super: Broly  Action,Adventure,Animation\n",
       "4  How to Train Your Dragon: The Hidden World  Action,Adventure,Animation"
      ]
     },
     "execution_count": 113,
     "metadata": {},
     "output_type": "execute_result"
    }
   ],
   "source": [
    "# Preview relevant columns\n",
    "movies[['movie', 'genres']].head()"
   ]
  },
  {
   "cell_type": "code",
   "execution_count": 114,
   "metadata": {
    "scrolled": true
   },
   "outputs": [
    {
     "data": {
      "text/plain": [
       "array(['Action,Adventure,Sci-Fi', 'Biography,Drama,Music',\n",
       "       'Drama,Horror,Mystery', 'Action,Adventure,Animation',\n",
       "       'Adventure,Comedy,Family'], dtype=object)"
      ]
     },
     "execution_count": 114,
     "metadata": {},
     "output_type": "execute_result"
    }
   ],
   "source": [
    "# Obtain unique values in genres column\n",
    "genres = movies['genres'].unique()\n",
    "genres[:5]"
   ]
  },
  {
   "cell_type": "code",
   "execution_count": 115,
   "metadata": {},
   "outputs": [
    {
     "data": {
      "text/plain": [
       "['Action', 'Adventure', 'Sci-Fi', 'Biography', 'Drama']"
      ]
     },
     "execution_count": 115,
     "metadata": {},
     "output_type": "execute_result"
    }
   ],
   "source": [
    "# Split genres\n",
    "splitgenres = []\n",
    "for genre in genres:\n",
    "    splitgenres += genre.split(',')\n",
    "splitgenres[:5]"
   ]
  },
  {
   "cell_type": "code",
   "execution_count": 116,
   "metadata": {},
   "outputs": [
    {
     "data": {
      "text/plain": [
       "{'Action',\n",
       " 'Adventure',\n",
       " 'Animation',\n",
       " 'Biography',\n",
       " 'Comedy',\n",
       " 'Crime',\n",
       " 'Documentary',\n",
       " 'Drama',\n",
       " 'Family',\n",
       " 'Fantasy',\n",
       " 'History',\n",
       " 'Horror',\n",
       " 'Music',\n",
       " 'Musical',\n",
       " 'Mystery',\n",
       " 'News',\n",
       " 'Romance',\n",
       " 'Sci-Fi',\n",
       " 'Sport',\n",
       " 'Thriller',\n",
       " 'War',\n",
       " 'Western'}"
      ]
     },
     "execution_count": 116,
     "metadata": {},
     "output_type": "execute_result"
    }
   ],
   "source": [
    "# Use set to obtain unique values\n",
    "uniquegenres = set(splitgenres)\n",
    "uniquegenres"
   ]
  },
  {
   "cell_type": "code",
   "execution_count": 117,
   "metadata": {
    "scrolled": true
   },
   "outputs": [
    {
     "data": {
      "text/plain": [
       "['Action', 'Adventure', 'Animation', 'Biography', 'Comedy']"
      ]
     },
     "execution_count": 117,
     "metadata": {},
     "output_type": "execute_result"
    }
   ],
   "source": [
    "# Turn back to list to be able to sort alphabetically\n",
    "listofgenres = list(uniquegenres)\n",
    "sortedgenres = sorted(listofgenres)\n",
    "sortedgenres[:5]"
   ]
  },
  {
   "cell_type": "code",
   "execution_count": 118,
   "metadata": {},
   "outputs": [],
   "source": [
    "# Create columns with genres\n",
    "for genre in sortedgenres:\n",
    "    movies[genre] = 0"
   ]
  },
  {
   "cell_type": "code",
   "execution_count": 119,
   "metadata": {},
   "outputs": [],
   "source": [
    "# Split genres in genres column\n",
    "movies['genres'] = movies['genres'].map(lambda x : x.split(','))"
   ]
  },
  {
   "cell_type": "code",
   "execution_count": 120,
   "metadata": {},
   "outputs": [],
   "source": [
    "# Map to columns - set to 1 if genre applies\n",
    "for index, genres in enumerate(movies['genres']):\n",
    "    for genre in genres:\n",
    "        movies.loc[index,genre] = 1"
   ]
  },
  {
   "cell_type": "code",
   "execution_count": 121,
   "metadata": {
    "scrolled": true
   },
   "outputs": [
    {
     "data": {
      "text/html": [
       "<div>\n",
       "<style scoped>\n",
       "    .dataframe tbody tr th:only-of-type {\n",
       "        vertical-align: middle;\n",
       "    }\n",
       "\n",
       "    .dataframe tbody tr th {\n",
       "        vertical-align: top;\n",
       "    }\n",
       "\n",
       "    .dataframe thead th {\n",
       "        text-align: right;\n",
       "    }\n",
       "</style>\n",
       "<table border=\"1\" class=\"dataframe\">\n",
       "  <thead>\n",
       "    <tr style=\"text-align: right;\">\n",
       "      <th></th>\n",
       "      <th>genres</th>\n",
       "      <th>Action</th>\n",
       "    </tr>\n",
       "  </thead>\n",
       "  <tbody>\n",
       "    <tr>\n",
       "      <td>0</td>\n",
       "      <td>[Action, Adventure, Sci-Fi]</td>\n",
       "      <td>1</td>\n",
       "    </tr>\n",
       "    <tr>\n",
       "      <td>1</td>\n",
       "      <td>[Biography, Drama, Music]</td>\n",
       "      <td>0</td>\n",
       "    </tr>\n",
       "    <tr>\n",
       "      <td>2</td>\n",
       "      <td>[Drama, Horror, Mystery]</td>\n",
       "      <td>0</td>\n",
       "    </tr>\n",
       "    <tr>\n",
       "      <td>3</td>\n",
       "      <td>[Action, Adventure, Animation]</td>\n",
       "      <td>1</td>\n",
       "    </tr>\n",
       "    <tr>\n",
       "      <td>4</td>\n",
       "      <td>[Action, Adventure, Animation]</td>\n",
       "      <td>1</td>\n",
       "    </tr>\n",
       "  </tbody>\n",
       "</table>\n",
       "</div>"
      ],
      "text/plain": [
       "                           genres  Action\n",
       "0     [Action, Adventure, Sci-Fi]       1\n",
       "1       [Biography, Drama, Music]       0\n",
       "2        [Drama, Horror, Mystery]       0\n",
       "3  [Action, Adventure, Animation]       1\n",
       "4  [Action, Adventure, Animation]       1"
      ]
     },
     "execution_count": 121,
     "metadata": {},
     "output_type": "execute_result"
    }
   ],
   "source": [
    "# Checking it worked with example genre Action\n",
    "movies[['genres','Action']][:5]"
   ]
  },
  {
   "cell_type": "code",
   "execution_count": 122,
   "metadata": {},
   "outputs": [],
   "source": [
    "# genre counter function\n",
    "def genrecounter(df):\n",
    "    '''\n",
    "    param1 df: dataframe\n",
    "    returns dictionary with genre key and value count\n",
    "    also sorts dictionary based on values and removes nul values\n",
    "    ''' \n",
    "    # Start with empty dictionary\n",
    "    genredict = {}\n",
    "    \n",
    "    # Get genre columns\n",
    "    genrecols = df.loc[:, 'Action':'Western'].columns\n",
    "    \n",
    "    # Go through each column and sum it\n",
    "    for col in genrecols:\n",
    "        genredict[col] = df[col].sum()\n",
    "        \n",
    "    # sort dictionary based on counts, ascending order so reverse = True    \n",
    "    sortedgenresdict = {keys: values for keys, values in \\\n",
    "                        sorted(genredict.items(), key = lambda item: item[1], reverse = True)}\n",
    "    \n",
    "    # remove any key-value pairs where the value is 0\n",
    "    nonnulgenresdict = {keys: values for keys, values in \\\n",
    "                        sortedgenresdict.items() if values != 0}\n",
    "\n",
    "    return nonnulgenresdict"
   ]
  },
  {
   "cell_type": "code",
   "execution_count": 123,
   "metadata": {},
   "outputs": [
    {
     "data": {
      "text/plain": [
       "{'Drama': 999,\n",
       " 'Comedy': 597,\n",
       " 'Action': 494,\n",
       " 'Adventure': 380,\n",
       " 'Thriller': 322,\n",
       " 'Crime': 258,\n",
       " 'Horror': 231,\n",
       " 'Romance': 223,\n",
       " 'Documentary': 188,\n",
       " 'Biography': 162,\n",
       " 'Sci-Fi': 159,\n",
       " 'Mystery': 151,\n",
       " 'Fantasy': 136,\n",
       " 'Family': 114,\n",
       " 'Animation': 113,\n",
       " 'Music': 61,\n",
       " 'History': 55,\n",
       " 'Sport': 44,\n",
       " 'War': 34,\n",
       " 'Western': 19,\n",
       " 'Musical': 12,\n",
       " 'News': 3}"
      ]
     },
     "execution_count": 123,
     "metadata": {},
     "output_type": "execute_result"
    }
   ],
   "source": [
    "# Run genre counter function on Movies DataFrame\n",
    "allgenrescount = genrecounter(movies)\n",
    "allgenrescount"
   ]
  },
  {
   "cell_type": "code",
   "execution_count": 124,
   "metadata": {},
   "outputs": [],
   "source": [
    "def genreplot(dictionary,title):\n",
    "    x_values = list(dictionary.keys())\n",
    "    y_values = list(dictionary.values())\n",
    "    plt.figure(figsize = (15,10))\n",
    "    sns.barplot(y = x_values, x = y_values)\n",
    "    plt.xlabel('Number of movies')\n",
    "    plt.ylabel('Genre')\n",
    "    plt.title(title)\n",
    "    return plt.show()"
   ]
  },
  {
   "cell_type": "code",
   "execution_count": 125,
   "metadata": {},
   "outputs": [
    {
     "data": {
      "image/png": "[encoded data removed]",
      "text/plain": [
       "<Figure size 1080x720 with 1 Axes>"
      ]
     },
     "metadata": {
      "needs_background": "light"
     },
     "output_type": "display_data"
    }
   ],
   "source": [
    "genreplot(allgenrescount,'Movie genres distribution')"
   ]
  },
  {
   "cell_type": "code",
   "execution_count": 126,
   "metadata": {},
   "outputs": [
    {
     "data": {
      "text/plain": [
       "{'Drama': 772,\n",
       " 'Comedy': 524,\n",
       " 'Action': 440,\n",
       " 'Adventure': 347,\n",
       " 'Thriller': 248,\n",
       " 'Crime': 232,\n",
       " 'Romance': 193,\n",
       " 'Horror': 179,\n",
       " 'Biography': 142,\n",
       " 'Sci-Fi': 138,\n",
       " 'Mystery': 128,\n",
       " 'Fantasy': 125,\n",
       " 'Animation': 103,\n",
       " 'Documentary': 91,\n",
       " 'Family': 87,\n",
       " 'Music': 51,\n",
       " 'History': 48,\n",
       " 'Sport': 33,\n",
       " 'War': 24,\n",
       " 'Western': 14,\n",
       " 'Musical': 7,\n",
       " 'News': 2}"
      ]
     },
     "execution_count": 126,
     "metadata": {},
     "output_type": "execute_result"
    }
   ],
   "source": [
    "# Obtain recent movies\n",
    "recentmovies = movies[movies['release_year'] >= 2010]\n",
    "\n",
    "# Run genre counter function on recentmovies DataFrame\n",
    "recentgenrescount = genrecounter(recentmovies)\n",
    "recentgenrescount"
   ]
  },
  {
   "cell_type": "code",
   "execution_count": 127,
   "metadata": {
    "scrolled": false
   },
   "outputs": [
    {
     "data": {
      "image/png": "[encoded data removed]",
      "text/plain": [
       "<Figure size 1080x720 with 1 Axes>"
      ]
     },
     "metadata": {
      "needs_background": "light"
     },
     "output_type": "display_data"
    }
   ],
   "source": [
    "# Plot recent movie genres\n",
    "genreplot(recentgenrescount,'Genres of movies released post 2010')"
   ]
  },
  {
   "cell_type": "code",
   "execution_count": 128,
   "metadata": {},
   "outputs": [
    {
     "data": {
      "text/plain": [
       "{'Adventure': 82,\n",
       " 'Action': 60,\n",
       " 'Sci-Fi': 31,\n",
       " 'Comedy': 30,\n",
       " 'Animation': 26,\n",
       " 'Fantasy': 19,\n",
       " 'Drama': 12,\n",
       " 'Thriller': 10,\n",
       " 'Family': 9,\n",
       " 'Crime': 3,\n",
       " 'Biography': 2,\n",
       " 'Documentary': 1,\n",
       " 'Horror': 1,\n",
       " 'Music': 1,\n",
       " 'Musical': 1,\n",
       " 'Mystery': 1,\n",
       " 'Romance': 1}"
      ]
     },
     "execution_count": 128,
     "metadata": {},
     "output_type": "execute_result"
    }
   ],
   "source": [
    "# Obtain top recent movies\n",
    "toprecentmovies = recentmovies.sort_values('worldwide_gross', ascending = False)[:100]\n",
    "\n",
    "# Run genre counter function on toprecentmovies DataFrame\n",
    "toprecentgenrescount = genrecounter(toprecentmovies)\n",
    "toprecentgenrescount"
   ]
  },
  {
   "cell_type": "code",
   "execution_count": 129,
   "metadata": {
    "scrolled": true
   },
   "outputs": [
    {
     "data": {
      "image/png": "[encoded data removed]",
      "text/plain": [
       "<Figure size 1080x720 with 1 Axes>"
      ]
     },
     "metadata": {
      "needs_background": "light"
     },
     "output_type": "display_data"
    }
   ],
   "source": [
    "# Plot top recent movie genres\n",
    "genreplot(toprecentgenrescount,'Genres of top 100 grossing movies post 2010')"
   ]
  },
  {
   "cell_type": "code",
   "execution_count": 130,
   "metadata": {},
   "outputs": [],
   "source": [
    "topactionmovies = toprecentmovies[(toprecentmovies['Action'] == 1) | (toprecentmovies['Adventure'] == 1)]"
   ]
  },
  {
   "cell_type": "code",
   "execution_count": 131,
   "metadata": {
    "scrolled": true
   },
   "outputs": [
    {
     "data": {
      "text/plain": [
       "175000000.0"
      ]
     },
     "execution_count": 131,
     "metadata": {},
     "output_type": "execute_result"
    }
   ],
   "source": [
    "topactionmovies['production_budget'].median()"
   ]
  },
  {
   "cell_type": "code",
   "execution_count": 132,
   "metadata": {
    "scrolled": false
   },
   "outputs": [
    {
     "data": {
      "text/plain": [
       "22000000.0"
      ]
     },
     "execution_count": 132,
     "metadata": {},
     "output_type": "execute_result"
    }
   ],
   "source": [
    "recentmovies['production_budget'].median()"
   ]
  },
  {
   "cell_type": "code",
   "execution_count": 133,
   "metadata": {
    "scrolled": false
   },
   "outputs": [
    {
     "data": {
      "text/plain": [
       "<matplotlib.axes._subplots.AxesSubplot at 0x1a35e0dc88>"
      ]
     },
     "execution_count": 133,
     "metadata": {},
     "output_type": "execute_result"
    },
    {
     "data": {
      "image/png": "[encoded data removed]",
      "text/plain": [
       "<Figure size 432x288 with 1 Axes>"
      ]
     },
     "metadata": {
      "needs_background": "light"
     },
     "output_type": "display_data"
    }
   ],
   "source": [
    "sns.lineplot(x = 'release_year', y = 'worldwide_gross', hue = 'Action', data = movies[movies['release_year']>= 2000])"
   ]
  },
  {
   "cell_type": "markdown",
   "metadata": {},
   "source": [
    "### Future movies"
   ]
  },
  {
   "cell_type": "code",
   "execution_count": 134,
   "metadata": {
    "scrolled": true
   },
   "outputs": [
    {
     "data": {
      "text/html": [
       "<div>\n",
       "<style scoped>\n",
       "    .dataframe tbody tr th:only-of-type {\n",
       "        vertical-align: middle;\n",
       "    }\n",
       "\n",
       "    .dataframe tbody tr th {\n",
       "        vertical-align: top;\n",
       "    }\n",
       "\n",
       "    .dataframe thead th {\n",
       "        text-align: right;\n",
       "    }\n",
       "</style>\n",
       "<table border=\"1\" class=\"dataframe\">\n",
       "  <thead>\n",
       "    <tr style=\"text-align: right;\">\n",
       "      <th></th>\n",
       "      <th>tconst</th>\n",
       "      <th>primary_title</th>\n",
       "      <th>original_title</th>\n",
       "      <th>start_year</th>\n",
       "      <th>runtime_minutes</th>\n",
       "      <th>genres</th>\n",
       "    </tr>\n",
       "  </thead>\n",
       "  <tbody>\n",
       "    <tr>\n",
       "      <td>33</td>\n",
       "      <td>tt0293429</td>\n",
       "      <td>Mortal Kombat</td>\n",
       "      <td>Mortal Kombat</td>\n",
       "      <td>2021</td>\n",
       "      <td>87.0</td>\n",
       "      <td>Action,Adventure,Fantasy</td>\n",
       "    </tr>\n",
       "    <tr>\n",
       "      <td>93</td>\n",
       "      <td>tt0427340</td>\n",
       "      <td>Masters of the Universe</td>\n",
       "      <td>Masters of the Universe</td>\n",
       "      <td>2021</td>\n",
       "      <td>87.0</td>\n",
       "      <td>Action,Adventure,Drama</td>\n",
       "    </tr>\n",
       "    <tr>\n",
       "      <td>229</td>\n",
       "      <td>tt0499097</td>\n",
       "      <td>Without Remorse</td>\n",
       "      <td>Without Remorse</td>\n",
       "      <td>2020</td>\n",
       "      <td>87.0</td>\n",
       "      <td>Action,Crime,Drama</td>\n",
       "    </tr>\n",
       "    <tr>\n",
       "      <td>289</td>\n",
       "      <td>tt0805647</td>\n",
       "      <td>The Witches</td>\n",
       "      <td>The Witches</td>\n",
       "      <td>2020</td>\n",
       "      <td>87.0</td>\n",
       "      <td>Adventure,Comedy,Family</td>\n",
       "    </tr>\n",
       "    <tr>\n",
       "      <td>386</td>\n",
       "      <td>tt0870154</td>\n",
       "      <td>Jungle Cruise</td>\n",
       "      <td>Jungle Cruise</td>\n",
       "      <td>2020</td>\n",
       "      <td>87.0</td>\n",
       "      <td>Adventure</td>\n",
       "    </tr>\n",
       "  </tbody>\n",
       "</table>\n",
       "</div>"
      ],
      "text/plain": [
       "        tconst            primary_title           original_title  start_year  \\\n",
       "33   tt0293429            Mortal Kombat            Mortal Kombat        2021   \n",
       "93   tt0427340  Masters of the Universe  Masters of the Universe        2021   \n",
       "229  tt0499097          Without Remorse          Without Remorse        2020   \n",
       "289  tt0805647              The Witches              The Witches        2020   \n",
       "386  tt0870154            Jungle Cruise            Jungle Cruise        2020   \n",
       "\n",
       "     runtime_minutes                    genres  \n",
       "33              87.0  Action,Adventure,Fantasy  \n",
       "93              87.0    Action,Adventure,Drama  \n",
       "229             87.0        Action,Crime,Drama  \n",
       "289             87.0   Adventure,Comedy,Family  \n",
       "386             87.0                 Adventure  "
      ]
     },
     "execution_count": 134,
     "metadata": {},
     "output_type": "execute_result"
    }
   ],
   "source": [
    "futuremovies.head()"
   ]
  },
  {
   "cell_type": "code",
   "execution_count": 135,
   "metadata": {
    "scrolled": false
   },
   "outputs": [],
   "source": [
    "futuremovies = futuremovies.reset_index(drop = True)"
   ]
  },
  {
   "cell_type": "code",
   "execution_count": 136,
   "metadata": {},
   "outputs": [],
   "source": [
    "# Obtain unique values in genres column\n",
    "genres = futuremovies['genres'].unique()\n",
    "genres[:5]\n",
    "# Split genres\n",
    "splitgenres = []\n",
    "for genre in genres:\n",
    "    splitgenres += genre.split(',')\n",
    "splitgenres[:5]\n",
    "# Use set to obtain unique values\n",
    "uniquegenres = set(splitgenres)\n",
    "uniquegenres\n",
    "# Turn back to list to be able to sort alphabetically\n",
    "listofgenres = list(uniquegenres)\n",
    "sortedgenres = sorted(listofgenres)\n",
    "sortedgenres[:5]\n",
    "# Create columns with genres\n",
    "for genre in sortedgenres:\n",
    "    futuremovies[genre] = 0"
   ]
  },
  {
   "cell_type": "code",
   "execution_count": 137,
   "metadata": {
    "scrolled": true
   },
   "outputs": [
    {
     "data": {
      "text/html": [
       "<div>\n",
       "<style scoped>\n",
       "    .dataframe tbody tr th:only-of-type {\n",
       "        vertical-align: middle;\n",
       "    }\n",
       "\n",
       "    .dataframe tbody tr th {\n",
       "        vertical-align: top;\n",
       "    }\n",
       "\n",
       "    .dataframe thead th {\n",
       "        text-align: right;\n",
       "    }\n",
       "</style>\n",
       "<table border=\"1\" class=\"dataframe\">\n",
       "  <thead>\n",
       "    <tr style=\"text-align: right;\">\n",
       "      <th></th>\n",
       "      <th>tconst</th>\n",
       "      <th>primary_title</th>\n",
       "      <th>original_title</th>\n",
       "      <th>start_year</th>\n",
       "      <th>runtime_minutes</th>\n",
       "      <th>genres</th>\n",
       "      <th>Action</th>\n",
       "      <th>Adventure</th>\n",
       "      <th>Animation</th>\n",
       "      <th>Biography</th>\n",
       "      <th>...</th>\n",
       "      <th>Music</th>\n",
       "      <th>Musical</th>\n",
       "      <th>Mystery</th>\n",
       "      <th>News</th>\n",
       "      <th>Romance</th>\n",
       "      <th>Sci-Fi</th>\n",
       "      <th>Sport</th>\n",
       "      <th>Thriller</th>\n",
       "      <th>War</th>\n",
       "      <th>Western</th>\n",
       "    </tr>\n",
       "  </thead>\n",
       "  <tbody>\n",
       "    <tr>\n",
       "      <td>0</td>\n",
       "      <td>tt0293429</td>\n",
       "      <td>Mortal Kombat</td>\n",
       "      <td>Mortal Kombat</td>\n",
       "      <td>2021</td>\n",
       "      <td>87.0</td>\n",
       "      <td>Action,Adventure,Fantasy</td>\n",
       "      <td>0</td>\n",
       "      <td>0</td>\n",
       "      <td>0</td>\n",
       "      <td>0</td>\n",
       "      <td>...</td>\n",
       "      <td>0</td>\n",
       "      <td>0</td>\n",
       "      <td>0</td>\n",
       "      <td>0</td>\n",
       "      <td>0</td>\n",
       "      <td>0</td>\n",
       "      <td>0</td>\n",
       "      <td>0</td>\n",
       "      <td>0</td>\n",
       "      <td>0</td>\n",
       "    </tr>\n",
       "    <tr>\n",
       "      <td>1</td>\n",
       "      <td>tt0427340</td>\n",
       "      <td>Masters of the Universe</td>\n",
       "      <td>Masters of the Universe</td>\n",
       "      <td>2021</td>\n",
       "      <td>87.0</td>\n",
       "      <td>Action,Adventure,Drama</td>\n",
       "      <td>0</td>\n",
       "      <td>0</td>\n",
       "      <td>0</td>\n",
       "      <td>0</td>\n",
       "      <td>...</td>\n",
       "      <td>0</td>\n",
       "      <td>0</td>\n",
       "      <td>0</td>\n",
       "      <td>0</td>\n",
       "      <td>0</td>\n",
       "      <td>0</td>\n",
       "      <td>0</td>\n",
       "      <td>0</td>\n",
       "      <td>0</td>\n",
       "      <td>0</td>\n",
       "    </tr>\n",
       "    <tr>\n",
       "      <td>2</td>\n",
       "      <td>tt0499097</td>\n",
       "      <td>Without Remorse</td>\n",
       "      <td>Without Remorse</td>\n",
       "      <td>2020</td>\n",
       "      <td>87.0</td>\n",
       "      <td>Action,Crime,Drama</td>\n",
       "      <td>0</td>\n",
       "      <td>0</td>\n",
       "      <td>0</td>\n",
       "      <td>0</td>\n",
       "      <td>...</td>\n",
       "      <td>0</td>\n",
       "      <td>0</td>\n",
       "      <td>0</td>\n",
       "      <td>0</td>\n",
       "      <td>0</td>\n",
       "      <td>0</td>\n",
       "      <td>0</td>\n",
       "      <td>0</td>\n",
       "      <td>0</td>\n",
       "      <td>0</td>\n",
       "    </tr>\n",
       "    <tr>\n",
       "      <td>3</td>\n",
       "      <td>tt0805647</td>\n",
       "      <td>The Witches</td>\n",
       "      <td>The Witches</td>\n",
       "      <td>2020</td>\n",
       "      <td>87.0</td>\n",
       "      <td>Adventure,Comedy,Family</td>\n",
       "      <td>0</td>\n",
       "      <td>0</td>\n",
       "      <td>0</td>\n",
       "      <td>0</td>\n",
       "      <td>...</td>\n",
       "      <td>0</td>\n",
       "      <td>0</td>\n",
       "      <td>0</td>\n",
       "      <td>0</td>\n",
       "      <td>0</td>\n",
       "      <td>0</td>\n",
       "      <td>0</td>\n",
       "      <td>0</td>\n",
       "      <td>0</td>\n",
       "      <td>0</td>\n",
       "    </tr>\n",
       "    <tr>\n",
       "      <td>4</td>\n",
       "      <td>tt0870154</td>\n",
       "      <td>Jungle Cruise</td>\n",
       "      <td>Jungle Cruise</td>\n",
       "      <td>2020</td>\n",
       "      <td>87.0</td>\n",
       "      <td>Adventure</td>\n",
       "      <td>0</td>\n",
       "      <td>0</td>\n",
       "      <td>0</td>\n",
       "      <td>0</td>\n",
       "      <td>...</td>\n",
       "      <td>0</td>\n",
       "      <td>0</td>\n",
       "      <td>0</td>\n",
       "      <td>0</td>\n",
       "      <td>0</td>\n",
       "      <td>0</td>\n",
       "      <td>0</td>\n",
       "      <td>0</td>\n",
       "      <td>0</td>\n",
       "      <td>0</td>\n",
       "    </tr>\n",
       "  </tbody>\n",
       "</table>\n",
       "<p>5 rows × 28 columns</p>\n",
       "</div>"
      ],
      "text/plain": [
       "      tconst            primary_title           original_title  start_year  \\\n",
       "0  tt0293429            Mortal Kombat            Mortal Kombat        2021   \n",
       "1  tt0427340  Masters of the Universe  Masters of the Universe        2021   \n",
       "2  tt0499097          Without Remorse          Without Remorse        2020   \n",
       "3  tt0805647              The Witches              The Witches        2020   \n",
       "4  tt0870154            Jungle Cruise            Jungle Cruise        2020   \n",
       "\n",
       "   runtime_minutes                    genres  Action  Adventure  Animation  \\\n",
       "0             87.0  Action,Adventure,Fantasy       0          0          0   \n",
       "1             87.0    Action,Adventure,Drama       0          0          0   \n",
       "2             87.0        Action,Crime,Drama       0          0          0   \n",
       "3             87.0   Adventure,Comedy,Family       0          0          0   \n",
       "4             87.0                 Adventure       0          0          0   \n",
       "\n",
       "   Biography  ...  Music  Musical  Mystery  News  Romance  Sci-Fi  Sport  \\\n",
       "0          0  ...      0        0        0     0        0       0      0   \n",
       "1          0  ...      0        0        0     0        0       0      0   \n",
       "2          0  ...      0        0        0     0        0       0      0   \n",
       "3          0  ...      0        0        0     0        0       0      0   \n",
       "4          0  ...      0        0        0     0        0       0      0   \n",
       "\n",
       "   Thriller  War  Western  \n",
       "0         0    0        0  \n",
       "1         0    0        0  \n",
       "2         0    0        0  \n",
       "3         0    0        0  \n",
       "4         0    0        0  \n",
       "\n",
       "[5 rows x 28 columns]"
      ]
     },
     "execution_count": 137,
     "metadata": {},
     "output_type": "execute_result"
    }
   ],
   "source": [
    "futuremovies.head()"
   ]
  },
  {
   "cell_type": "code",
   "execution_count": 138,
   "metadata": {},
   "outputs": [],
   "source": [
    "# Split genres in genres column\n",
    "futuremovies['genres'] = futuremovies['genres'].map(lambda x : x.split(','))"
   ]
  },
  {
   "cell_type": "code",
   "execution_count": 139,
   "metadata": {},
   "outputs": [],
   "source": [
    "# Map to columns - set to 1 if genre applies\n",
    "for index, genres in enumerate(futuremovies['genres']):\n",
    "    for genre in genres:\n",
    "        futuremovies.loc[index,genre] = 1"
   ]
  },
  {
   "cell_type": "code",
   "execution_count": 140,
   "metadata": {
    "scrolled": true
   },
   "outputs": [
    {
     "data": {
      "text/plain": [
       "Index(['tconst', 'primary_title', 'original_title', 'start_year',\n",
       "       'runtime_minutes', 'genres', 'Action', 'Adventure', 'Animation',\n",
       "       'Biography', 'Comedy', 'Crime', 'Documentary', 'Drama', 'Family',\n",
       "       'Fantasy', 'History', 'Horror', 'Music', 'Musical', 'Mystery', 'News',\n",
       "       'Romance', 'Sci-Fi', 'Sport', 'Thriller', 'War', 'Western'],\n",
       "      dtype='object')"
      ]
     },
     "execution_count": 140,
     "metadata": {},
     "output_type": "execute_result"
    }
   ],
   "source": [
    "futuremovies.columns"
   ]
  },
  {
   "cell_type": "code",
   "execution_count": 141,
   "metadata": {
    "scrolled": true
   },
   "outputs": [
    {
     "data": {
      "text/plain": [
       "{'Drama': 338,\n",
       " 'Comedy': 185,\n",
       " 'Action': 179,\n",
       " 'Thriller': 137,\n",
       " 'Horror': 113,\n",
       " 'Adventure': 99,\n",
       " 'Documentary': 84,\n",
       " 'Animation': 65,\n",
       " 'Crime': 62,\n",
       " 'Sci-Fi': 58,\n",
       " 'Fantasy': 55,\n",
       " 'Romance': 45,\n",
       " 'Family': 43,\n",
       " 'Mystery': 29,\n",
       " 'Biography': 27,\n",
       " 'History': 16,\n",
       " 'Musical': 11,\n",
       " 'Western': 9,\n",
       " 'Music': 8,\n",
       " 'War': 6,\n",
       " 'Sport': 2,\n",
       " 'News': 1}"
      ]
     },
     "execution_count": 141,
     "metadata": {},
     "output_type": "execute_result"
    }
   ],
   "source": [
    "# Run genre counter function on Movies DataFrame\n",
    "futuregenrescount = genrecounter(futuremovies)\n",
    "futuregenrescount"
   ]
  },
  {
   "cell_type": "code",
   "execution_count": 142,
   "metadata": {},
   "outputs": [
    {
     "data": {
      "image/png": "[encoded data removed]",
      "text/plain": [
       "<Figure size 1080x720 with 1 Axes>"
      ]
     },
     "metadata": {
      "needs_background": "light"
     },
     "output_type": "display_data"
    }
   ],
   "source": [
    "genreplot(futuregenrescount,'Future movie genres distribution')"
   ]
  },
  {
   "cell_type": "markdown",
   "metadata": {},
   "source": [
    "## Release date"
   ]
  },
  {
   "cell_type": "markdown",
   "metadata": {},
   "source": [
    "### Release month"
   ]
  },
  {
   "cell_type": "code",
   "execution_count": 143,
   "metadata": {},
   "outputs": [
    {
     "data": {
      "text/html": [
       "<div>\n",
       "<style scoped>\n",
       "    .dataframe tbody tr th:only-of-type {\n",
       "        vertical-align: middle;\n",
       "    }\n",
       "\n",
       "    .dataframe tbody tr th {\n",
       "        vertical-align: top;\n",
       "    }\n",
       "\n",
       "    .dataframe thead th {\n",
       "        text-align: right;\n",
       "    }\n",
       "</style>\n",
       "<table border=\"1\" class=\"dataframe\">\n",
       "  <thead>\n",
       "    <tr style=\"text-align: right;\">\n",
       "      <th></th>\n",
       "      <th>release_date</th>\n",
       "      <th>movie</th>\n",
       "    </tr>\n",
       "  </thead>\n",
       "  <tbody>\n",
       "    <tr>\n",
       "      <td>0</td>\n",
       "      <td>2019-03-08</td>\n",
       "      <td>Captain Marvel</td>\n",
       "    </tr>\n",
       "    <tr>\n",
       "      <td>1</td>\n",
       "      <td>2019-05-31</td>\n",
       "      <td>Rocketman</td>\n",
       "    </tr>\n",
       "    <tr>\n",
       "      <td>2</td>\n",
       "      <td>2019-05-03</td>\n",
       "      <td>The Intruder</td>\n",
       "    </tr>\n",
       "    <tr>\n",
       "      <td>3</td>\n",
       "      <td>2019-01-16</td>\n",
       "      <td>Dragon Ball Super: Broly</td>\n",
       "    </tr>\n",
       "    <tr>\n",
       "      <td>4</td>\n",
       "      <td>2019-02-22</td>\n",
       "      <td>How to Train Your Dragon: The Hidden World</td>\n",
       "    </tr>\n",
       "    <tr>\n",
       "      <td>...</td>\n",
       "      <td>...</td>\n",
       "      <td>...</td>\n",
       "    </tr>\n",
       "    <tr>\n",
       "      <td>2079</td>\n",
       "      <td>1942-08-13</td>\n",
       "      <td>Bambi</td>\n",
       "    </tr>\n",
       "    <tr>\n",
       "      <td>2080</td>\n",
       "      <td>1940-11-13</td>\n",
       "      <td>Fantasia</td>\n",
       "    </tr>\n",
       "    <tr>\n",
       "      <td>2081</td>\n",
       "      <td>1940-03-21</td>\n",
       "      <td>Rebecca</td>\n",
       "    </tr>\n",
       "    <tr>\n",
       "      <td>2082</td>\n",
       "      <td>1937-12-21</td>\n",
       "      <td>Snow White and the Seven Dwarfs</td>\n",
       "    </tr>\n",
       "    <tr>\n",
       "      <td>2083</td>\n",
       "      <td>1931-12-26</td>\n",
       "      <td>Mata Hari</td>\n",
       "    </tr>\n",
       "  </tbody>\n",
       "</table>\n",
       "<p>2084 rows × 2 columns</p>\n",
       "</div>"
      ],
      "text/plain": [
       "     release_date                                       movie\n",
       "0      2019-03-08                              Captain Marvel\n",
       "1      2019-05-31                                   Rocketman\n",
       "2      2019-05-03                                The Intruder\n",
       "3      2019-01-16                    Dragon Ball Super: Broly\n",
       "4      2019-02-22  How to Train Your Dragon: The Hidden World\n",
       "...           ...                                         ...\n",
       "2079   1942-08-13                                       Bambi\n",
       "2080   1940-11-13                                    Fantasia\n",
       "2081   1940-03-21                                     Rebecca\n",
       "2082   1937-12-21             Snow White and the Seven Dwarfs\n",
       "2083   1931-12-26                                   Mata Hari\n",
       "\n",
       "[2084 rows x 2 columns]"
      ]
     },
     "execution_count": 143,
     "metadata": {},
     "output_type": "execute_result"
    }
   ],
   "source": [
    "# View relevant columns\n",
    "movies[['release_date', 'movie']]"
   ]
  },
  {
   "cell_type": "code",
   "execution_count": 144,
   "metadata": {},
   "outputs": [],
   "source": [
    "# Create month column \n",
    "movies['release_month'] = pd.DatetimeIndex(movies['release_date']).month"
   ]
  },
  {
   "cell_type": "code",
   "execution_count": 145,
   "metadata": {
    "scrolled": true
   },
   "outputs": [
    {
     "data": {
      "text/html": [
       "<div>\n",
       "<style scoped>\n",
       "    .dataframe tbody tr th:only-of-type {\n",
       "        vertical-align: middle;\n",
       "    }\n",
       "\n",
       "    .dataframe tbody tr th {\n",
       "        vertical-align: top;\n",
       "    }\n",
       "\n",
       "    .dataframe thead th {\n",
       "        text-align: right;\n",
       "    }\n",
       "</style>\n",
       "<table border=\"1\" class=\"dataframe\">\n",
       "  <thead>\n",
       "    <tr style=\"text-align: right;\">\n",
       "      <th></th>\n",
       "      <th>release_date</th>\n",
       "      <th>release_month</th>\n",
       "      <th>movie</th>\n",
       "    </tr>\n",
       "  </thead>\n",
       "  <tbody>\n",
       "    <tr>\n",
       "      <td>0</td>\n",
       "      <td>2019-03-08</td>\n",
       "      <td>3</td>\n",
       "      <td>Captain Marvel</td>\n",
       "    </tr>\n",
       "    <tr>\n",
       "      <td>1</td>\n",
       "      <td>2019-05-31</td>\n",
       "      <td>5</td>\n",
       "      <td>Rocketman</td>\n",
       "    </tr>\n",
       "    <tr>\n",
       "      <td>2</td>\n",
       "      <td>2019-05-03</td>\n",
       "      <td>5</td>\n",
       "      <td>The Intruder</td>\n",
       "    </tr>\n",
       "    <tr>\n",
       "      <td>3</td>\n",
       "      <td>2019-01-16</td>\n",
       "      <td>1</td>\n",
       "      <td>Dragon Ball Super: Broly</td>\n",
       "    </tr>\n",
       "    <tr>\n",
       "      <td>4</td>\n",
       "      <td>2019-02-22</td>\n",
       "      <td>2</td>\n",
       "      <td>How to Train Your Dragon: The Hidden World</td>\n",
       "    </tr>\n",
       "  </tbody>\n",
       "</table>\n",
       "</div>"
      ],
      "text/plain": [
       "  release_date  release_month                                       movie\n",
       "0   2019-03-08              3                              Captain Marvel\n",
       "1   2019-05-31              5                                   Rocketman\n",
       "2   2019-05-03              5                                The Intruder\n",
       "3   2019-01-16              1                    Dragon Ball Super: Broly\n",
       "4   2019-02-22              2  How to Train Your Dragon: The Hidden World"
      ]
     },
     "execution_count": 145,
     "metadata": {},
     "output_type": "execute_result"
    }
   ],
   "source": [
    "# View relevant columns/ check\n",
    "movies[['release_date', 'release_month', 'movie']].head()"
   ]
  },
  {
   "cell_type": "code",
   "execution_count": 146,
   "metadata": {
    "scrolled": true
   },
   "outputs": [
    {
     "data": {
      "image/png": "[encoded data removed]",
      "text/plain": [
       "<Figure size 864x360 with 2 Axes>"
      ]
     },
     "metadata": {
      "needs_background": "light"
     },
     "output_type": "display_data"
    }
   ],
   "source": [
    "# Plot release month for all movies\n",
    "fig, ax = plt.subplots(ncols = 2, nrows = 1, figsize = (12,5))\n",
    "sns.catplot( x = 'release_month', kind = 'count', data = movies, ax = ax[0])\n",
    "ax[0].set_xlabel('Release Month')\n",
    "ax[0].set_ylabel('Number of Movies')\n",
    "ax[0].set_title('Number of Movies released per Month')\n",
    "sns.catplot( x = 'release_month', y = 'worldwide_gross', kind = 'bar', data = movies, ax = ax[1])\n",
    "ax[1].set_xlabel('Release Month')\n",
    "ax[1].set_ylabel('Worldwide Gross in USD billions')\n",
    "ax[1].set_title('Worldwide Gross per Release Month')\n",
    "plt.close(2)\n",
    "plt.close(3)\n",
    "plt.show()"
   ]
  },
  {
   "cell_type": "code",
   "execution_count": 147,
   "metadata": {},
   "outputs": [],
   "source": [
    "# Obtain recent movies\n",
    "recentmovies = movies[movies['release_year'] >= 2010]"
   ]
  },
  {
   "cell_type": "code",
   "execution_count": 148,
   "metadata": {},
   "outputs": [],
   "source": [
    "# Obtain top recent movies\n",
    "toprecentmovies = recentmovies.sort_values('worldwide_gross', ascending = False)[:100]"
   ]
  },
  {
   "cell_type": "code",
   "execution_count": 149,
   "metadata": {},
   "outputs": [
    {
     "data": {
      "image/png": "[encoded data removed]",
      "text/plain": [
       "<Figure size 864x360 with 2 Axes>"
      ]
     },
     "metadata": {
      "needs_background": "light"
     },
     "output_type": "display_data"
    }
   ],
   "source": [
    "# Plot release month for top recent movies\n",
    "fig, ax = plt.subplots(ncols = 2, nrows = 1, figsize = (12,5))\n",
    "sns.catplot( x = 'release_month', kind = 'count', data = toprecentmovies, ax = ax[0])\n",
    "ax[0].set_xlabel('Release Month')\n",
    "ax[0].set_ylabel('Number of Movies')\n",
    "ax[0].set_title('Number of Movies released per Month')\n",
    "sns.catplot( x = 'release_month', y = 'worldwide_gross', kind = 'bar', data = toprecentmovies, ax = ax[1])\n",
    "ax[1].set_xlabel('Release Month')\n",
    "ax[1].set_ylabel('Worldwide Gross in USD billions')\n",
    "ax[1].set_title('Worldwide Gross per Release Month')\n",
    "plt.close(2)\n",
    "plt.close(3)\n",
    "plt.show()"
   ]
  },
  {
   "cell_type": "code",
   "execution_count": 150,
   "metadata": {
    "scrolled": true
   },
   "outputs": [
    {
     "data": {
      "image/png": "[encoded data removed]",
      "text/plain": [
       "<Figure size 864x360 with 2 Axes>"
      ]
     },
     "metadata": {
      "needs_background": "light"
     },
     "output_type": "display_data"
    }
   ],
   "source": [
    "# Plot release month for top recent movies - distinguishing whether adventure film or not\n",
    "fig, ax = plt.subplots(ncols = 2, nrows = 1, figsize = (12,5))\n",
    "sns.catplot( x = 'release_month', kind = 'count', hue = 'Adventure', data = toprecentmovies, ax = ax[0])\n",
    "ax[0].set_xlabel('Release Month')\n",
    "ax[0].set_ylabel('Number of Movies')\n",
    "ax[0].set_title('Number of Movies released per Month')\n",
    "sns.catplot( x = 'release_month', y = 'worldwide_gross', kind = 'bar', hue = 'Adventure',data = toprecentmovies, ax = ax[1])\n",
    "ax[1].set_xlabel('Release Month')\n",
    "ax[1].set_ylabel('Worldwide Gross in USD billions')\n",
    "ax[1].set_title('Worldwide Gross per Release Month')\n",
    "plt.close(2)\n",
    "plt.close(3)\n",
    "plt.show()"
   ]
  },
  {
   "cell_type": "markdown",
   "metadata": {},
   "source": [
    "### Release day"
   ]
  },
  {
   "cell_type": "code",
   "execution_count": 151,
   "metadata": {},
   "outputs": [
    {
     "data": {
      "text/html": [
       "<div>\n",
       "<style scoped>\n",
       "    .dataframe tbody tr th:only-of-type {\n",
       "        vertical-align: middle;\n",
       "    }\n",
       "\n",
       "    .dataframe tbody tr th {\n",
       "        vertical-align: top;\n",
       "    }\n",
       "\n",
       "    .dataframe thead th {\n",
       "        text-align: right;\n",
       "    }\n",
       "</style>\n",
       "<table border=\"1\" class=\"dataframe\">\n",
       "  <thead>\n",
       "    <tr style=\"text-align: right;\">\n",
       "      <th></th>\n",
       "      <th>release_date</th>\n",
       "      <th>movie</th>\n",
       "    </tr>\n",
       "  </thead>\n",
       "  <tbody>\n",
       "    <tr>\n",
       "      <td>0</td>\n",
       "      <td>2019-03-08</td>\n",
       "      <td>Captain Marvel</td>\n",
       "    </tr>\n",
       "    <tr>\n",
       "      <td>1</td>\n",
       "      <td>2019-05-31</td>\n",
       "      <td>Rocketman</td>\n",
       "    </tr>\n",
       "    <tr>\n",
       "      <td>2</td>\n",
       "      <td>2019-05-03</td>\n",
       "      <td>The Intruder</td>\n",
       "    </tr>\n",
       "    <tr>\n",
       "      <td>3</td>\n",
       "      <td>2019-01-16</td>\n",
       "      <td>Dragon Ball Super: Broly</td>\n",
       "    </tr>\n",
       "    <tr>\n",
       "      <td>4</td>\n",
       "      <td>2019-02-22</td>\n",
       "      <td>How to Train Your Dragon: The Hidden World</td>\n",
       "    </tr>\n",
       "    <tr>\n",
       "      <td>...</td>\n",
       "      <td>...</td>\n",
       "      <td>...</td>\n",
       "    </tr>\n",
       "    <tr>\n",
       "      <td>2079</td>\n",
       "      <td>1942-08-13</td>\n",
       "      <td>Bambi</td>\n",
       "    </tr>\n",
       "    <tr>\n",
       "      <td>2080</td>\n",
       "      <td>1940-11-13</td>\n",
       "      <td>Fantasia</td>\n",
       "    </tr>\n",
       "    <tr>\n",
       "      <td>2081</td>\n",
       "      <td>1940-03-21</td>\n",
       "      <td>Rebecca</td>\n",
       "    </tr>\n",
       "    <tr>\n",
       "      <td>2082</td>\n",
       "      <td>1937-12-21</td>\n",
       "      <td>Snow White and the Seven Dwarfs</td>\n",
       "    </tr>\n",
       "    <tr>\n",
       "      <td>2083</td>\n",
       "      <td>1931-12-26</td>\n",
       "      <td>Mata Hari</td>\n",
       "    </tr>\n",
       "  </tbody>\n",
       "</table>\n",
       "<p>2084 rows × 2 columns</p>\n",
       "</div>"
      ],
      "text/plain": [
       "     release_date                                       movie\n",
       "0      2019-03-08                              Captain Marvel\n",
       "1      2019-05-31                                   Rocketman\n",
       "2      2019-05-03                                The Intruder\n",
       "3      2019-01-16                    Dragon Ball Super: Broly\n",
       "4      2019-02-22  How to Train Your Dragon: The Hidden World\n",
       "...           ...                                         ...\n",
       "2079   1942-08-13                                       Bambi\n",
       "2080   1940-11-13                                    Fantasia\n",
       "2081   1940-03-21                                     Rebecca\n",
       "2082   1937-12-21             Snow White and the Seven Dwarfs\n",
       "2083   1931-12-26                                   Mata Hari\n",
       "\n",
       "[2084 rows x 2 columns]"
      ]
     },
     "execution_count": 151,
     "metadata": {},
     "output_type": "execute_result"
    }
   ],
   "source": [
    "# View relevant columns\n",
    "movies[['release_date', 'movie']]"
   ]
  },
  {
   "cell_type": "code",
   "execution_count": 152,
   "metadata": {},
   "outputs": [],
   "source": [
    "# Create day column \n",
    "movies['release_day'] = pd.DatetimeIndex(movies['release_date']).dayofweek"
   ]
  },
  {
   "cell_type": "code",
   "execution_count": 153,
   "metadata": {
    "scrolled": true
   },
   "outputs": [
    {
     "data": {
      "text/html": [
       "<div>\n",
       "<style scoped>\n",
       "    .dataframe tbody tr th:only-of-type {\n",
       "        vertical-align: middle;\n",
       "    }\n",
       "\n",
       "    .dataframe tbody tr th {\n",
       "        vertical-align: top;\n",
       "    }\n",
       "\n",
       "    .dataframe thead th {\n",
       "        text-align: right;\n",
       "    }\n",
       "</style>\n",
       "<table border=\"1\" class=\"dataframe\">\n",
       "  <thead>\n",
       "    <tr style=\"text-align: right;\">\n",
       "      <th></th>\n",
       "      <th>release_date</th>\n",
       "      <th>release_day</th>\n",
       "      <th>movie</th>\n",
       "    </tr>\n",
       "  </thead>\n",
       "  <tbody>\n",
       "    <tr>\n",
       "      <td>0</td>\n",
       "      <td>2019-03-08</td>\n",
       "      <td>4</td>\n",
       "      <td>Captain Marvel</td>\n",
       "    </tr>\n",
       "    <tr>\n",
       "      <td>1</td>\n",
       "      <td>2019-05-31</td>\n",
       "      <td>4</td>\n",
       "      <td>Rocketman</td>\n",
       "    </tr>\n",
       "    <tr>\n",
       "      <td>2</td>\n",
       "      <td>2019-05-03</td>\n",
       "      <td>4</td>\n",
       "      <td>The Intruder</td>\n",
       "    </tr>\n",
       "    <tr>\n",
       "      <td>3</td>\n",
       "      <td>2019-01-16</td>\n",
       "      <td>2</td>\n",
       "      <td>Dragon Ball Super: Broly</td>\n",
       "    </tr>\n",
       "    <tr>\n",
       "      <td>4</td>\n",
       "      <td>2019-02-22</td>\n",
       "      <td>4</td>\n",
       "      <td>How to Train Your Dragon: The Hidden World</td>\n",
       "    </tr>\n",
       "  </tbody>\n",
       "</table>\n",
       "</div>"
      ],
      "text/plain": [
       "  release_date  release_day                                       movie\n",
       "0   2019-03-08            4                              Captain Marvel\n",
       "1   2019-05-31            4                                   Rocketman\n",
       "2   2019-05-03            4                                The Intruder\n",
       "3   2019-01-16            2                    Dragon Ball Super: Broly\n",
       "4   2019-02-22            4  How to Train Your Dragon: The Hidden World"
      ]
     },
     "execution_count": 153,
     "metadata": {},
     "output_type": "execute_result"
    }
   ],
   "source": [
    "# View relevant columns/ check\n",
    "movies[['release_date', 'release_day', 'movie']].head()"
   ]
  },
  {
   "cell_type": "code",
   "execution_count": 154,
   "metadata": {
    "scrolled": true
   },
   "outputs": [
    {
     "data": {
      "image/png": "[encoded data removed]",
      "text/plain": [
       "<Figure size 864x360 with 2 Axes>"
      ]
     },
     "metadata": {
      "needs_background": "light"
     },
     "output_type": "display_data"
    }
   ],
   "source": [
    "# Plot release day for all movies\n",
    "fig, ax = plt.subplots(ncols = 2, nrows = 1, figsize = (12,5))\n",
    "sns.catplot( x = 'release_day', kind = 'count', data = movies, ax = ax[0])\n",
    "ax[0].set_xlabel('Release Day')\n",
    "ax[0].set_ylabel('Number of Movies')\n",
    "ax[0].set_title('Number of Movies released per Day of the Week')\n",
    "sns.catplot( x = 'release_day', y = 'worldwide_gross', kind = 'bar', data = movies, ax = ax[1])\n",
    "ax[1].set_xlabel('Release Day')\n",
    "ax[1].set_ylabel('Worldwide Gross in USD billions')\n",
    "ax[1].set_title('Worldwide Gross per Release Day')\n",
    "plt.close(2)\n",
    "plt.close(3)\n",
    "plt.show()"
   ]
  },
  {
   "cell_type": "code",
   "execution_count": 155,
   "metadata": {},
   "outputs": [],
   "source": [
    "# Obtain recent movies\n",
    "recentmovies = movies[movies['release_year'] >= 2010]"
   ]
  },
  {
   "cell_type": "code",
   "execution_count": 156,
   "metadata": {},
   "outputs": [],
   "source": [
    "# Obtain top recent movies\n",
    "toprecentmovies = recentmovies.sort_values('worldwide_gross', ascending = False)[:100]"
   ]
  },
  {
   "cell_type": "code",
   "execution_count": 157,
   "metadata": {
    "scrolled": true
   },
   "outputs": [
    {
     "data": {
      "image/png": "[encoded data removed]",
      "text/plain": [
       "<Figure size 864x360 with 2 Axes>"
      ]
     },
     "metadata": {
      "needs_background": "light"
     },
     "output_type": "display_data"
    }
   ],
   "source": [
    "# Plot release day for top recent movies\n",
    "fig, ax = plt.subplots(ncols = 2, nrows = 1, figsize = (12,5))\n",
    "sns.catplot( x = 'release_day', kind = 'count', data = toprecentmovies, ax = ax[0])\n",
    "ax[0].set_xlabel('Release Day')\n",
    "ax[0].set_ylabel('Number of Movies')\n",
    "ax[0].set_title('Number of Movies released per Day of the Week')\n",
    "sns.catplot( x = 'release_day', y = 'worldwide_gross', kind = 'bar', data = toprecentmovies, ax = ax[1])\n",
    "ax[1].set_xlabel('Release Day')\n",
    "ax[1].set_ylabel('Worldwide Gross in USD billions')\n",
    "ax[1].set_title('Worldwide Gross per Release Day')\n",
    "plt.close(2)\n",
    "plt.close(3)\n",
    "plt.show()"
   ]
  },
  {
   "cell_type": "markdown",
   "metadata": {},
   "source": [
    "## Correlations"
   ]
  },
  {
   "cell_type": "code",
   "execution_count": 158,
   "metadata": {},
   "outputs": [],
   "source": [
    "# Drop genre cols\n",
    "genrecols = toprecentmovies.loc[:, 'Action':'Western'].columns\n",
    "relevantcols = toprecentmovies.drop(genrecols, axis = 1)"
   ]
  },
  {
   "cell_type": "code",
   "execution_count": 159,
   "metadata": {},
   "outputs": [
    {
     "data": {
      "image/png": "[encoded data removed]",
      "text/plain": [
       "<Figure size 864x720 with 2 Axes>"
      ]
     },
     "metadata": {
      "needs_background": "light"
     },
     "output_type": "display_data"
    }
   ],
   "source": [
    "# Code inspired from: https://seaborn.pydata.org/examples/many_pairwise_correlations.html\n",
    "\n",
    "# Create correlation matrix\n",
    "corr = relevantcols.corr()\n",
    "\n",
    "# Generate a mask for the upper triangle\n",
    "mask = np.triu(np.ones_like(corr, dtype=np.bool))\n",
    "\n",
    "# Set up the matplotlib figure\n",
    "f, ax = plt.subplots(figsize=(12, 10))\n",
    "\n",
    "# Draw the heatmap with the mask and correct aspect ratio\n",
    "sns.heatmap(corr, mask=mask, cmap='coolwarm', center= 0,\n",
    "            square=True, linewidths=.5, cbar_kws={\"shrink\": .5})\n",
    "plt.show()"
   ]
  },
  {
   "cell_type": "code",
   "execution_count": 160,
   "metadata": {},
   "outputs": [
    {
     "data": {
      "text/plain": [
       "<matplotlib.axes._subplots.AxesSubplot at 0x1a34e680b8>"
      ]
     },
     "execution_count": 160,
     "metadata": {},
     "output_type": "execute_result"
    },
    {
     "data": {
      "image/png": "[encoded data removed]",
      "text/plain": [
       "<Figure size 432x288 with 1 Axes>"
      ]
     },
     "metadata": {
      "needs_background": "light"
     },
     "output_type": "display_data"
    }
   ],
   "source": [
    "sns.regplot(x = 'profit_margin', y = 'production_budget', data = toprecentmovies)"
   ]
  },
  {
   "cell_type": "code",
   "execution_count": 161,
   "metadata": {
    "scrolled": true
   },
   "outputs": [
    {
     "data": {
      "text/plain": [
       "-0.71"
      ]
     },
     "execution_count": 161,
     "metadata": {},
     "output_type": "execute_result"
    }
   ],
   "source": [
    "toprecentmovies['profit_margin'].corr(toprecentmovies['production_budget']).round(2)"
   ]
  },
  {
   "cell_type": "code",
   "execution_count": 162,
   "metadata": {},
   "outputs": [
    {
     "data": {
      "text/plain": [
       "<matplotlib.axes._subplots.AxesSubplot at 0x1a36a4ab38>"
      ]
     },
     "execution_count": 162,
     "metadata": {},
     "output_type": "execute_result"
    },
    {
     "data": {
      "image/png": "[encoded data removed]",
      "text/plain": [
       "<Figure size 432x288 with 1 Axes>"
      ]
     },
     "metadata": {
      "needs_background": "light"
     },
     "output_type": "display_data"
    }
   ],
   "source": [
    "sns.regplot(x = 'profit', y = 'worldwide_gross', data = toprecentmovies)"
   ]
  },
  {
   "cell_type": "code",
   "execution_count": 163,
   "metadata": {},
   "outputs": [
    {
     "data": {
      "text/plain": [
       "0.97"
      ]
     },
     "execution_count": 163,
     "metadata": {},
     "output_type": "execute_result"
    }
   ],
   "source": [
    "toprecentmovies['profit'].corr(toprecentmovies['worldwide_gross']).round(2)"
   ]
  },
  {
   "cell_type": "markdown",
   "metadata": {},
   "source": [
    "## Case study: Netflix Original Films"
   ]
  },
  {
   "cell_type": "code",
   "execution_count": 164,
   "metadata": {
    "scrolled": false
   },
   "outputs": [
    {
     "data": {
      "text/html": [
       "<div>\n",
       "<style scoped>\n",
       "    .dataframe tbody tr th:only-of-type {\n",
       "        vertical-align: middle;\n",
       "    }\n",
       "\n",
       "    .dataframe tbody tr th {\n",
       "        vertical-align: top;\n",
       "    }\n",
       "\n",
       "    .dataframe thead th {\n",
       "        text-align: right;\n",
       "    }\n",
       "</style>\n",
       "<table border=\"1\" class=\"dataframe\">\n",
       "  <thead>\n",
       "    <tr style=\"text-align: right;\">\n",
       "      <th></th>\n",
       "      <th>movie</th>\n",
       "      <th>genre</th>\n",
       "      <th>release_date</th>\n",
       "      <th>runtime_minutes</th>\n",
       "      <th>language</th>\n",
       "    </tr>\n",
       "  </thead>\n",
       "  <tbody>\n",
       "    <tr>\n",
       "      <td>0</td>\n",
       "      <td>Beasts of No Nation</td>\n",
       "      <td>War/drama</td>\n",
       "      <td>2015-10-16</td>\n",
       "      <td>136</td>\n",
       "      <td>English/Twi</td>\n",
       "    </tr>\n",
       "    <tr>\n",
       "      <td>1</td>\n",
       "      <td>The Ridiculous 6</td>\n",
       "      <td>Western</td>\n",
       "      <td>2015-12-11</td>\n",
       "      <td>119</td>\n",
       "      <td>English</td>\n",
       "    </tr>\n",
       "    <tr>\n",
       "      <td>2</td>\n",
       "      <td>Crouching Tiger, Hidden Dragon: Sword of Destiny</td>\n",
       "      <td>Action</td>\n",
       "      <td>2016-02-26</td>\n",
       "      <td>103</td>\n",
       "      <td>English</td>\n",
       "    </tr>\n",
       "    <tr>\n",
       "      <td>3</td>\n",
       "      <td>Pee-wee's Big Holiday</td>\n",
       "      <td>Adventure</td>\n",
       "      <td>2016-03-18</td>\n",
       "      <td>89</td>\n",
       "      <td>English</td>\n",
       "    </tr>\n",
       "    <tr>\n",
       "      <td>4</td>\n",
       "      <td>Special Correspondents</td>\n",
       "      <td>Satire</td>\n",
       "      <td>2016-04-29</td>\n",
       "      <td>100</td>\n",
       "      <td>English</td>\n",
       "    </tr>\n",
       "    <tr>\n",
       "      <td>...</td>\n",
       "      <td>...</td>\n",
       "      <td>...</td>\n",
       "      <td>...</td>\n",
       "      <td>...</td>\n",
       "      <td>...</td>\n",
       "    </tr>\n",
       "    <tr>\n",
       "      <td>198</td>\n",
       "      <td>Marriage Story</td>\n",
       "      <td>Drama</td>\n",
       "      <td>2019-12-06</td>\n",
       "      <td>136</td>\n",
       "      <td>English</td>\n",
       "    </tr>\n",
       "    <tr>\n",
       "      <td>199</td>\n",
       "      <td>6 Underground</td>\n",
       "      <td>Action</td>\n",
       "      <td>2019-12-13</td>\n",
       "      <td>128</td>\n",
       "      <td>English</td>\n",
       "    </tr>\n",
       "    <tr>\n",
       "      <td>200</td>\n",
       "      <td>The Two Popes</td>\n",
       "      <td>Drama</td>\n",
       "      <td>2019-12-20</td>\n",
       "      <td>125</td>\n",
       "      <td>English</td>\n",
       "    </tr>\n",
       "    <tr>\n",
       "      <td>201</td>\n",
       "      <td>Como Caído del Cielo</td>\n",
       "      <td>Musical comedy</td>\n",
       "      <td>2019-12-24</td>\n",
       "      <td>117</td>\n",
       "      <td>Spanish</td>\n",
       "    </tr>\n",
       "    <tr>\n",
       "      <td>202</td>\n",
       "      <td>The App</td>\n",
       "      <td>Science fiction/drama</td>\n",
       "      <td>2019-12-26</td>\n",
       "      <td>79</td>\n",
       "      <td>Italian</td>\n",
       "    </tr>\n",
       "  </tbody>\n",
       "</table>\n",
       "<p>203 rows × 5 columns</p>\n",
       "</div>"
      ],
      "text/plain": [
       "                                                movie                  genre  \\\n",
       "0                                 Beasts of No Nation              War/drama   \n",
       "1                                    The Ridiculous 6                Western   \n",
       "2    Crouching Tiger, Hidden Dragon: Sword of Destiny                 Action   \n",
       "3                               Pee-wee's Big Holiday              Adventure   \n",
       "4                              Special Correspondents                 Satire   \n",
       "..                                                ...                    ...   \n",
       "198                                    Marriage Story                  Drama   \n",
       "199                                     6 Underground                 Action   \n",
       "200                                     The Two Popes                  Drama   \n",
       "201                              Como Caído del Cielo         Musical comedy   \n",
       "202                                           The App  Science fiction/drama   \n",
       "\n",
       "    release_date  runtime_minutes     language  \n",
       "0     2015-10-16              136  English/Twi  \n",
       "1     2015-12-11              119      English  \n",
       "2     2016-02-26              103      English  \n",
       "3     2016-03-18               89      English  \n",
       "4     2016-04-29              100      English  \n",
       "..           ...              ...          ...  \n",
       "198   2019-12-06              136      English  \n",
       "199   2019-12-13              128      English  \n",
       "200   2019-12-20              125      English  \n",
       "201   2019-12-24              117      Spanish  \n",
       "202   2019-12-26               79      Italian  \n",
       "\n",
       "[203 rows x 5 columns]"
      ]
     },
     "execution_count": 164,
     "metadata": {},
     "output_type": "execute_result"
    }
   ],
   "source": [
    "netflixdf"
   ]
  },
  {
   "cell_type": "code",
   "execution_count": 165,
   "metadata": {
    "scrolled": false
   },
   "outputs": [
    {
     "data": {
      "text/html": [
       "<div>\n",
       "<style scoped>\n",
       "    .dataframe tbody tr th:only-of-type {\n",
       "        vertical-align: middle;\n",
       "    }\n",
       "\n",
       "    .dataframe tbody tr th {\n",
       "        vertical-align: top;\n",
       "    }\n",
       "\n",
       "    .dataframe thead th {\n",
       "        text-align: right;\n",
       "    }\n",
       "</style>\n",
       "<table border=\"1\" class=\"dataframe\">\n",
       "  <thead>\n",
       "    <tr style=\"text-align: right;\">\n",
       "      <th></th>\n",
       "      <th>movie</th>\n",
       "      <th>genre</th>\n",
       "      <th>release_date</th>\n",
       "      <th>runtime_minutes</th>\n",
       "      <th>language</th>\n",
       "      <th>release_year</th>\n",
       "    </tr>\n",
       "  </thead>\n",
       "  <tbody>\n",
       "    <tr>\n",
       "      <td>0</td>\n",
       "      <td>Beasts of No Nation</td>\n",
       "      <td>War/drama</td>\n",
       "      <td>2015-10-16</td>\n",
       "      <td>136</td>\n",
       "      <td>English/Twi</td>\n",
       "      <td>2015</td>\n",
       "    </tr>\n",
       "    <tr>\n",
       "      <td>1</td>\n",
       "      <td>The Ridiculous 6</td>\n",
       "      <td>Western</td>\n",
       "      <td>2015-12-11</td>\n",
       "      <td>119</td>\n",
       "      <td>English</td>\n",
       "      <td>2015</td>\n",
       "    </tr>\n",
       "    <tr>\n",
       "      <td>2</td>\n",
       "      <td>Crouching Tiger, Hidden Dragon: Sword of Destiny</td>\n",
       "      <td>Action</td>\n",
       "      <td>2016-02-26</td>\n",
       "      <td>103</td>\n",
       "      <td>English</td>\n",
       "      <td>2016</td>\n",
       "    </tr>\n",
       "    <tr>\n",
       "      <td>3</td>\n",
       "      <td>Pee-wee's Big Holiday</td>\n",
       "      <td>Adventure</td>\n",
       "      <td>2016-03-18</td>\n",
       "      <td>89</td>\n",
       "      <td>English</td>\n",
       "      <td>2016</td>\n",
       "    </tr>\n",
       "    <tr>\n",
       "      <td>4</td>\n",
       "      <td>Special Correspondents</td>\n",
       "      <td>Satire</td>\n",
       "      <td>2016-04-29</td>\n",
       "      <td>100</td>\n",
       "      <td>English</td>\n",
       "      <td>2016</td>\n",
       "    </tr>\n",
       "  </tbody>\n",
       "</table>\n",
       "</div>"
      ],
      "text/plain": [
       "                                              movie      genre release_date  \\\n",
       "0                               Beasts of No Nation  War/drama   2015-10-16   \n",
       "1                                  The Ridiculous 6    Western   2015-12-11   \n",
       "2  Crouching Tiger, Hidden Dragon: Sword of Destiny     Action   2016-02-26   \n",
       "3                             Pee-wee's Big Holiday  Adventure   2016-03-18   \n",
       "4                            Special Correspondents     Satire   2016-04-29   \n",
       "\n",
       "   runtime_minutes     language  release_year  \n",
       "0              136  English/Twi          2015  \n",
       "1              119      English          2015  \n",
       "2              103      English          2016  \n",
       "3               89      English          2016  \n",
       "4              100      English          2016  "
      ]
     },
     "execution_count": 165,
     "metadata": {},
     "output_type": "execute_result"
    }
   ],
   "source": [
    "# Create new column release_year\n",
    "netflixdf['release_year']=pd.DatetimeIndex(netflixdf['release_date']).year\n",
    "netflixdf.head()"
   ]
  },
  {
   "cell_type": "code",
   "execution_count": 166,
   "metadata": {},
   "outputs": [
    {
     "data": {
      "image/png": "[encoded data removed]",
      "text/plain": [
       "<Figure size 360x360 with 1 Axes>"
      ]
     },
     "metadata": {
      "needs_background": "light"
     },
     "output_type": "display_data"
    }
   ],
   "source": [
    "# Plot number of movies released per year\n",
    "sns.catplot(x = 'release_year', kind = 'count', data = netflixdf)\n",
    "plt.ylabel('Number of Movies', fontsize=12)\n",
    "plt.xlabel('Year', fontsize=12)\n",
    "plt.title('Number of Movies released per year', fontsize = 12)\n",
    "plt.show()"
   ]
  },
  {
   "cell_type": "code",
   "execution_count": 167,
   "metadata": {},
   "outputs": [
    {
     "data": {
      "text/plain": [
       "count    203.000000\n",
       "mean     102.571429\n",
       "std       16.617079\n",
       "min       70.000000\n",
       "25%       92.500000\n",
       "50%       99.000000\n",
       "75%      108.000000\n",
       "max      209.000000\n",
       "Name: runtime_minutes, dtype: float64"
      ]
     },
     "execution_count": 167,
     "metadata": {},
     "output_type": "execute_result"
    }
   ],
   "source": [
    "# Describe runtime\n",
    "netflixdf['runtime_minutes'].describe()"
   ]
  },
  {
   "cell_type": "code",
   "execution_count": 168,
   "metadata": {
    "scrolled": true
   },
   "outputs": [
    {
     "data": {
      "image/png": "[encoded data removed]",
      "text/plain": [
       "<Figure size 432x288 with 1 Axes>"
      ]
     },
     "metadata": {
      "needs_background": "light"
     },
     "output_type": "display_data"
    }
   ],
   "source": [
    "# Plot runtime\n",
    "runtimeplot(netflixdf)"
   ]
  },
  {
   "cell_type": "code",
   "execution_count": 169,
   "metadata": {},
   "outputs": [
    {
     "data": {
      "text/plain": [
       "array(['War/drama', 'Western', 'Action', 'Adventure', 'Satire',\n",
       "       'Action comedy', 'Comedy-drama', 'Comedy', 'Thriller', 'Drama',\n",
       "       'Science fiction/Thriller', 'War film', 'Mockumentary', 'Horror',\n",
       "       'Science fiction/Action', 'Biopic', 'Heist film',\n",
       "       'Science fiction/Drama', 'Romance', 'Dark comedy',\n",
       "       'Anime/Science fiction', 'War-Comedy', 'Crime thriller',\n",
       "       'Science fiction/Adventure', 'Horror thriller', 'Comedy horror',\n",
       "       'Black comedy', 'Teen comedy horror', 'Horror/crime drama',\n",
       "       'Action thriller', 'Romantic comedy', 'Romantic drama',\n",
       "       'Urban fantasy', 'Biographical/Comedy', 'Science fiction',\n",
       "       'Science fiction/Mystery', 'Crime drama', 'Family film',\n",
       "       'Action/Comedy', 'Musical/Western/Fantasy', 'Sports-drama',\n",
       "       'Teen comedy-drama', 'Drama/Horror', 'Science fiction thriller',\n",
       "       'Adventure/Comedy', 'Science fiction-thriller',\n",
       "       'Romantic comedy-drama', 'Animation/Action/Science fiction',\n",
       "       'Spy thriller', 'Horror-thriller', 'Action-thriller', 'Musical',\n",
       "       'Historical-epic', 'Psychological horror',\n",
       "       'Psychological thriller', 'Science fiction/drama', 'Romance drama',\n",
       "       'Drama-Comedy', 'Science fiction adventure', 'Comedy mystery',\n",
       "       'Coming-of-age comedy-drama', 'Historical drama',\n",
       "       'Adventure-romance', 'Mystery', 'Animation/Comedy',\n",
       "       'Musical comedy'], dtype=object)"
      ]
     },
     "execution_count": 169,
     "metadata": {},
     "output_type": "execute_result"
    }
   ],
   "source": [
    "# Investigate genres \n",
    "netflixdf['genre'].unique()"
   ]
  },
  {
   "cell_type": "code",
   "execution_count": 170,
   "metadata": {
    "scrolled": true
   },
   "outputs": [],
   "source": [
    "# Remove special characters \",\" \"/\" and \"-\" from genres\n",
    "# Convert to lower case\n",
    "# Split and select first word\n",
    "netflixdf['genre'] = netflixdf['genre'].map( \\\n",
    "    lambda x : x.replace(',',' ').replace('/',' ').replace('-',' ').lower().split()[0])\n",
    "\n",
    "# Repair 'science' to 'science-fiction', 'coming' to 'coming of age'"
   ]
  },
  {
   "cell_type": "code",
   "execution_count": 171,
   "metadata": {},
   "outputs": [
    {
     "data": {
      "text/plain": [
       "array(['war', 'western', 'action', 'adventure', 'satire', 'comedy',\n",
       "       'thriller', 'drama', 'science', 'mockumentary', 'horror', 'biopic',\n",
       "       'heist', 'romance', 'dark', 'anime', 'crime', 'black', 'teen',\n",
       "       'romantic', 'urban', 'biographical', 'family', 'musical', 'sports',\n",
       "       'animation', 'spy', 'historical', 'psychological', 'coming',\n",
       "       'mystery'], dtype=object)"
      ]
     },
     "execution_count": 171,
     "metadata": {},
     "output_type": "execute_result"
    }
   ],
   "source": [
    "netflixdf['genre'].unique()"
   ]
  },
  {
   "cell_type": "code",
   "execution_count": 172,
   "metadata": {},
   "outputs": [],
   "source": [
    "# Repair 'science' to 'science-fiction', \n",
    "# 'coming' to 'comedy'\n",
    "# 'black' to 'comedy'\n",
    "# 'crime' to 'drama'\n",
    "# 'dark' to 'comedy'\n",
    "# 'romantic' to 'comedy'\n",
    "# 'psychological' to 'thriller'\n",
    "netflixdf['genre'] = netflixdf['genre'].replace({'science': 'sci-fi', 'coming': 'comedy' \\\n",
    "                                          , 'dark': 'comedy', 'crime': 'drama' \\\n",
    "                                          , 'romantic' : 'comedy', 'psychological' : 'thriller'})"
   ]
  },
  {
   "cell_type": "code",
   "execution_count": 173,
   "metadata": {},
   "outputs": [
    {
     "data": {
      "text/plain": [
       "array(['war', 'western', 'action', 'adventure', 'satire', 'comedy',\n",
       "       'thriller', 'drama', 'sci-fi', 'mockumentary', 'horror', 'biopic',\n",
       "       'heist', 'romance', 'anime', 'black', 'teen', 'urban',\n",
       "       'biographical', 'family', 'musical', 'sports', 'animation', 'spy',\n",
       "       'historical', 'mystery'], dtype=object)"
      ]
     },
     "execution_count": 173,
     "metadata": {},
     "output_type": "execute_result"
    }
   ],
   "source": [
    "netflixdf['genre'].unique()"
   ]
  },
  {
   "cell_type": "code",
   "execution_count": 174,
   "metadata": {
    "scrolled": false
   },
   "outputs": [
    {
     "data": {
      "text/plain": [
       "<matplotlib.axes._subplots.AxesSubplot at 0x1a353da438>"
      ]
     },
     "execution_count": 174,
     "metadata": {},
     "output_type": "execute_result"
    },
    {
     "data": {
      "image/png": "[encoded data removed]",
      "text/plain": [
       "<Figure size 1080x720 with 1 Axes>"
      ]
     },
     "metadata": {
      "needs_background": "light"
     },
     "output_type": "display_data"
    }
   ],
   "source": [
    "plt.figure(figsize = (15,10))\n",
    "sns.countplot(y = 'genre',order = netflixdf['genre'].value_counts().index, data = netflixdf)"
   ]
  },
  {
   "cell_type": "markdown",
   "metadata": {},
   "source": [
    "# Conclusion and Future Work"
   ]
  },
  {
   "cell_type": "code",
   "execution_count": null,
   "metadata": {},
   "outputs": [],
   "source": []
  }
 ],
 "metadata": {
  "kernelspec": {
   "display_name": "Python 3",
   "language": "python",
   "name": "python3"
  },
  "language_info": {
   "codemirror_mode": {
    "name": "ipython",
    "version": 3
   },
   "file_extension": ".py",
   "mimetype": "text/x-python",
   "name": "python",
   "nbconvert_exporter": "python",
   "pygments_lexer": "ipython3",
   "version": "3.6.9"
  },
  "toc": {
   "base_numbering": 1,
   "nav_menu": {},
   "number_sections": true,
   "sideBar": true,
   "skip_h1_title": false,
   "title_cell": "Table of Contents",
   "title_sidebar": "Contents",
   "toc_cell": true,
   "toc_position": {
    "height": "calc(100% - 180px)",
    "left": "10px",
    "top": "150px",
    "width": "259px"
   },
   "toc_section_display": true,
   "toc_window_display": true
  }
 },
 "nbformat": 4,
 "nbformat_minor": 2
}
